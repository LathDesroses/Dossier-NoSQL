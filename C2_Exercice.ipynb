{
 "cells": [
  {
   "cell_type": "markdown",
   "id": "9860f6f7-5e6d-4ec4-9c5e-8af637900bd9",
   "metadata": {},
   "source": [
    "## Exercices (Chapitre 2)"
   ]
  },
  {
   "cell_type": "code",
   "execution_count": 1,
   "id": "d1fb5d0c-d867-427e-9d98-0c6b82dad4de",
   "metadata": {
    "tags": []
   },
   "outputs": [],
   "source": [
    "# 1. Write Lorem Ipsum text to a text file:\n",
    "\n",
    "# Generate Lorem Ipsum text\n",
    "LoremIpsum_text = \"\"\"Lorem ipsum dolor sit amet, consectetur adipiscing elit. Integer fermentum nulla ut odio fringilla, ac consequat quam hendrerit. Vestibulum ante ipsum primis in faucibus orci luctus et ultrices posuere cubilia Curae; Aliquam erat volutpat. Sed suscipit mauris id nunc congue, sed vestibulum eros rutrum. Nullam eleifend odio eget purus viverra, et convallis turpis ullamcorper.\n",
    "\n",
    "Phasellus sagittis volutpat libero, a tincidunt purus lacinia vel. Nullam id tellus purus. Nulla facilisi. Fusce congue tristique turpis nec efficitur. Vivamus vel elit aliquet, viverra lorem vel, finibus ligula. Maecenas eget volutpat ante, sed ultrices eros. Donec at consequat felis. Vestibulum id mollis mauris.\n",
    "\n",
    "Suspendisse potenti. Integer vel sem ac leo efficitur dignissim id et mauris. Vestibulum sed sollicitudin urna. Fusce auctor odio vel mi tempor vehicula. Aliquam bibendum nulla id turpis euismod laoreet. Mauris pulvinar ultrices mi nec convallis. Quisque scelerisque metus id tincidunt tempor. \"\"\"\n",
    "\n",
    "# Write Lorem Ipsum text to a text file\n",
    "with open('LoremIpsum.txt', 'w') as file:\n",
    "    file.write(LoremIpsum_text)\n"
   ]
  },
  {
   "cell_type": "code",
   "execution_count": 2,
   "id": "3d30a246-262e-432e-ac40-6940552c17b7",
   "metadata": {
    "tags": []
   },
   "outputs": [],
   "source": [
    "# 2. Update the text file by removing the first paragraph:\n",
    "\n",
    "# Read the text file\n",
    "with open('LoremIpsum.txt', 'r') as file:\n",
    "    text = file.readlines()\n",
    "\n",
    "# Remove the first paragraph\n",
    "text = text[text.index('\\n') + 1:]\n",
    "\n",
    "# Write updated text to the file\n",
    "with open('LoremIpsum.txt', 'w') as file:\n",
    "    file.writelines(text)\n"
   ]
  },
  {
   "cell_type": "code",
   "execution_count": 3,
   "id": "488ab1aa-2015-435a-8280-85434003dd40",
   "metadata": {
    "tags": []
   },
   "outputs": [],
   "source": [
    "# 3. Create a dictionary from the papers of LeCun et al. and Goodfellow et al. with authors, title, affiliations:\n",
    "# Dictionary for LeCun et al. paper\n",
    "lecun_paper = {\n",
    "    \"authors\": [\"Yann LeCun\", \"Yoshua Bengio\", \"Geoffrey Hinton\"],\n",
    "    \"title\": \"Deep Learning\",\n",
    "    \"affiliations\": [\"New York University\", \"University of Montreal\"]\n",
    "}\n",
    "\n",
    "# Dictionary for Goodfellow et al. paper\n",
    "goodfellow_paper = {\n",
    "    \"authors\": [\"Ian Goodfellow\", \"Yoshua Bengio\", \"Aaron Courville\"],\n",
    "    \"title\": \"Deep Learning: An Introduction to Machine Learning\",\n",
    "    \"affiliations\": [\"OpenAI\", \"University of Montreal\"]\n",
    "}"
   ]
  },
  {
   "cell_type": "code",
   "execution_count": 4,
   "id": "2569f797-c792-47ea-a0ce-69d507774e23",
   "metadata": {
    "tags": []
   },
   "outputs": [],
   "source": [
    "# 4. Save the dictionaries in JSON format and load it back:\n",
    "\n",
    "import json\n",
    "\n",
    "# Save dictionaries in JSON format\n",
    "with open('lecun_paper.json', 'w') as file:\n",
    "    json.dump(lecun_paper, file)\n",
    "\n",
    "with open('goodfellow_paper.json', 'w') as file:\n",
    "    json.dump(goodfellow_paper, file)\n",
    "\n",
    "# Load dictionaries back from JSON files\n",
    "with open('lecun_paper.json', 'r') as file:\n",
    "    loaded_lecun_paper = json.load(file)\n",
    "\n",
    "with open('goodfellow_paper.json', 'r') as file:\n",
    "    loaded_goodfellow_paper = json.load(file)\n"
   ]
  },
  {
   "cell_type": "code",
   "execution_count": 5,
   "id": "918e7891-4374-4630-b189-b63554cbc782",
   "metadata": {
    "tags": []
   },
   "outputs": [],
   "source": [
    "# 5. Save the dictionaries in pickle format:\n",
    "\n",
    "import pickle\n",
    "\n",
    "# Save dictionaries in pickle format\n",
    "with open('lecun_paper.pkl', 'wb') as file:\n",
    "    pickle.dump(lecun_paper, file)\n",
    "\n",
    "with open('goodfellow_paper.pkl', 'wb') as file:\n",
    "    pickle.dump(goodfellow_paper, file)\n"
   ]
  },
  {
   "cell_type": "code",
   "execution_count": 6,
   "id": "0f0f19a9-2d15-4a5e-b9ab-5065dc853703",
   "metadata": {
    "tags": []
   },
   "outputs": [],
   "source": [
    "# 6. Parse an XML file and save its information in a JSON file:\n",
    "\n",
    "import lxml.etree as ET\n",
    "import json\n",
    "\n",
    "# Parse XML file\n",
    "tree = ET.parse('xml_file2.nxml')\n",
    "root = tree.getroot()\n",
    "\n",
    "# Extract information and put it in a dictionary\n",
    "xml_data = {}\n",
    "for child in root:\n",
    "    xml_data[child.tag] = child.text\n",
    "\n",
    "# Save the dictionary in JSON format\n",
    "with open('xml_data.json', 'w') as file:\n",
    "    json.dump(xml_data, file)"
   ]
  },
  {
   "cell_type": "code",
   "execution_count": 8,
   "id": "0f5eca41-0e5e-4969-abfe-ede71f5f5d80",
   "metadata": {
    "tags": []
   },
   "outputs": [],
   "source": [
    "# 7.Download an image and save it in either jpg or png format: \n",
    "\n",
    "import requests\n",
    "\n",
    "# Download image\n",
    "url = 'https://en.wikipedia.org/wiki/File:Felis_silvestris_silvestris_small_gradual_decrease_of_quality.png'\n",
    "response = requests.get(url)\n",
    "\n",
    "# Save image\n",
    "with open('image.jpg', 'wb') as file:\n",
    "    file.write(response.content)"
   ]
  },
  {
   "cell_type": "code",
   "execution_count": 9,
   "id": "789f8e81-abad-4a72-9980-30095fd14e12",
   "metadata": {
    "tags": []
   },
   "outputs": [],
   "source": [
    "# 8. Create a set of publisher types from a JSON file:\n",
    "\n",
    "import json\n",
    "\n",
    "# Load JSON file\n",
    "with open('data_world.json', 'r', encoding='utf-8') as file:\n",
    "    data = json.load(file)\n",
    "\n",
    "# Create a set of publisher types\n",
    "publisher_types = {item['publisher']['@type'] for item in data}\n"
   ]
  },
  {
   "cell_type": "code",
   "execution_count": 10,
   "id": "b20c9143-7a66-456a-9d82-bb34e6eeca0a",
   "metadata": {
    "tags": []
   },
   "outputs": [],
   "source": [
    "# 9. Delete a key of choice from the JSON file and save the new dictionary as data_world_cleaned.json:\n",
    "\n",
    "# Delete the key 'key_to_delete' if it exists in each dictionary\n",
    "for item in data:\n",
    "    if 'key_to_delete' in item:\n",
    "        del item['key_to_delete']\n",
    "\n",
    "# Save the cleaned data in JSON format\n",
    "with open('data_world_cleaned.json', 'w', encoding='utf-8') as file:\n",
    "    json.dump(data, file)\n"
   ]
  },
  {
   "cell_type": "code",
   "execution_count": 11,
   "id": "4de2ea35-7aa8-4301-9e84-2de73e6115d3",
   "metadata": {
    "tags": []
   },
   "outputs": [],
   "source": [
    "# 10. Create the co-occurrence matrix between \"accessLevel\" and \"accrualPeriodicity\" from the JSON file:\n",
    "\n",
    "# Initialize co-occurrence matrix\n",
    "co_occurrence_matrix = {}\n",
    "\n",
    "# Iterate over data to count occurrences\n",
    "for item in data:\n",
    "    access_level = item.get('accessLevel', 'Unknown')\n",
    "    accrual_periodicity = item.get('accrualPeriodicity', 'Unknown')\n",
    "\n",
    "    if access_level not in co_occurrence_matrix:\n",
    "        co_occurrence_matrix[access_level] = {}\n",
    "\n",
    "    if accrual_periodicity not in co_occurrence_matrix[access_level]:\n",
    "        co_occurrence_matrix[access_level][accrual_periodicity] = 0\n",
    "\n",
    "    co_occurrence_matrix[access_level][accrual_periodicity] += 1"
   ]
  }
 ],
 "metadata": {
  "kernelspec": {
   "display_name": "Python 3 (ipykernel)",
   "language": "python",
   "name": "python3"
  },
  "language_info": {
   "codemirror_mode": {
    "name": "ipython",
    "version": 3
   },
   "file_extension": ".py",
   "mimetype": "text/x-python",
   "name": "python",
   "nbconvert_exporter": "python",
   "pygments_lexer": "ipython3",
   "version": "3.11.5"
  }
 },
 "nbformat": 4,
 "nbformat_minor": 5
}
