{
 "cells": [
  {
   "cell_type": "markdown",
   "id": "feae3897-4d1c-43fe-85b3-a1a49d32c1d7",
   "metadata": {},
   "source": [
    "### Real World application 6 (Chapitre 4)\n",
    "create database stack \n",
    "\n",
    "use stack"
   ]
  },
  {
   "cell_type": "code",
   "execution_count": 5,
   "id": "152d8ebf-5168-4a97-b12a-7192fdcd8ac1",
   "metadata": {
    "tags": []
   },
   "outputs": [
    {
     "name": "stdout",
     "output_type": "stream",
     "text": [
      "Top 10 most popular keywords:\n",
      "      keyword  popularity\n",
      "0  javascript      649.16\n",
      "1        java      610.65\n",
      "2      python      438.67\n",
      "3         php      361.22\n",
      "4         css      341.17\n",
      "5          c#      321.13\n",
      "6        html      272.45\n",
      "7         c++      268.11\n",
      "8     android      229.86\n",
      "9      jquery      208.29\n"
     ]
    }
   ],
   "source": [
    "from py2neo import Graph\n",
    "from py2neo import Node\n",
    "from py2neo import Relationship\n",
    "import pandas as pd\n",
    "\n",
    "# Connecter à la base de données Neo4j\n",
    "graph = Graph(\"bolt://localhost:7687\", auth=(\"neo4j\", \"password_tuts\"), name=\"stack\")\n",
    "\n",
    "# Charger l'ensemble de données Stack\n",
    "stack_network_nodest_df = pd.read_csv('stack_network_nodes.csv')\n",
    "stack_network_links_df = pd.read_csv('stack_network_links.csv')\n",
    "\n",
    "# Créer les nœuds correspondants dans la base de données Neo4j\n",
    "for index, row in stack_network_nodest_df.iterrows():\n",
    "    node_name = row['name']\n",
    "    node_group = row['group']\n",
    "    node_size = row['nodesize']\n",
    "    node = Node(\"Keyword\", name=node_name, group=node_group, nodesize=node_size)\n",
    "    graph.create(node)\n",
    "\n",
    "# Créer les relations entre les nœuds dans la base de données Neo4j\n",
    "for index, row in stack_network_links_df.iterrows():\n",
    "    source_name = row['source']\n",
    "    target_name = row['target']\n",
    "    weight = row['value']\n",
    "    \n",
    "    source_node = graph.nodes.match(\"Keyword\", name=source_name).first()\n",
    "    target_node = graph.nodes.match(\"Keyword\", name=target_name).first()\n",
    "    \n",
    "    if source_node and target_node:\n",
    "        relation = Relationship(source_node, \"CO_OCCURRENCE_WITH\", target_node, weight=weight)\n",
    "        graph.create(relation)\n",
    "\n",
    "        \n",
    "# 1) What are the 10 most popular keywords?\n",
    "query_1 = \"\"\"\n",
    "MATCH (n)\n",
    "RETURN n.name AS keyword, n.nodesize AS popularity\n",
    "ORDER BY popularity DESC\n",
    "LIMIT 10\n",
    "\"\"\"\n",
    "\n",
    "result_1 = graph.run(query_1).to_data_frame()\n",
    "print(\"Top 10 most popular keywords:\")\n",
    "print(result_1)"
   ]
  },
  {
   "cell_type": "code",
   "execution_count": 3,
   "id": "8100aa38-c6f1-4e02-9ccb-a9e2178e3884",
   "metadata": {
    "tags": []
   },
   "outputs": [
    {
     "name": "stdout",
     "output_type": "stream",
     "text": [
      "        name  group  nodesize\n",
      "0       html      6    272.45\n",
      "1        css      6    341.17\n",
      "2  hibernate      8     29.83\n",
      "3     spring      8     52.84\n",
      "4       ruby      3     70.14\n"
     ]
    }
   ],
   "source": [
    "print(stack_network_nodest_df.head())"
   ]
  },
  {
   "cell_type": "code",
   "execution_count": 4,
   "id": "54a6ae59-ea68-42cc-9a7c-b4c2d9e764eb",
   "metadata": {
    "tags": []
   },
   "outputs": [
    {
     "name": "stdout",
     "output_type": "stream",
     "text": [
      "             source target      value\n",
      "0             azure   .net  20.933192\n",
      "1        sql-server   .net  32.322524\n",
      "2           asp.net   .net  48.407030\n",
      "3  entity-framework   .net  24.370903\n",
      "4               wpf   .net  32.350925\n"
     ]
    }
   ],
   "source": [
    "print(stack_network_links_df.head())"
   ]
  },
  {
   "cell_type": "code",
   "execution_count": 6,
   "id": "f596d3d2-4f5f-433f-9f7f-2023c89568b1",
   "metadata": {
    "tags": []
   },
   "outputs": [
    {
     "name": "stdout",
     "output_type": "stream",
     "text": [
      "\n",
      "Top 10 co-occurrences:\n",
      "     source_keyword target_keyword co_occurrence\n",
      "0        sql-server           .net          None\n",
      "1           asp.net           .net          None\n",
      "2  entity-framework           .net          None\n",
      "3               wpf           .net          None\n",
      "4              linq           .net          None\n",
      "5               wcf           .net          None\n",
      "6                c#           .net          None\n",
      "7               tdd          agile          None\n",
      "8       codeigniter           ajax          None\n",
      "9             azure           .net          None\n"
     ]
    }
   ],
   "source": [
    "from py2neo import Graph\n",
    "\n",
    "# Connect to Neo4j database\n",
    "graph = Graph(\"bolt://localhost:7687\", auth=(\"neo4j\", \"password_tuts\"), name=\"stack\")\n",
    "\n",
    "\n",
    "# 2) What are the top 10 Co-occurrences?\n",
    "query_2 = \"\"\"\n",
    "MATCH (source)-[link]->(target)\n",
    "RETURN source.name AS source_keyword, target.name AS target_keyword, link.value AS co_occurrence\n",
    "ORDER BY co_occurrence DESC\n",
    "LIMIT 10\n",
    "\"\"\"\n",
    "\n",
    "result_2 = graph.run(query_2).to_data_frame()\n",
    "print(\"\\nTop 10 co-occurrences:\")\n",
    "print(result_2)"
   ]
  },
  {
   "cell_type": "code",
   "execution_count": 7,
   "id": "daeea2db-12f1-4265-9f0b-372a2ff86cd0",
   "metadata": {
    "tags": []
   },
   "outputs": [
    {
     "name": "stdout",
     "output_type": "stream",
     "text": [
      "\n",
      "Number of keywords in group 1:\n",
      "   num_keywords_in_group_1\n",
      "0                       10\n"
     ]
    }
   ],
   "source": [
    "from py2neo import Graph\n",
    "\n",
    "# Connect to Neo4j database\n",
    "graph = Graph(\"bolt://localhost:7687\", auth=(\"neo4j\", \"password_tuts\"), name=\"stack\")\n",
    "\n",
    "# 3) How many keywords are in group 1?\n",
    "query_3 = \"\"\"\n",
    "MATCH (n)\n",
    "WHERE n.group = 1\n",
    "RETURN count(n) AS num_keywords_in_group_1\n",
    "\"\"\"\n",
    "\n",
    "result_3 = graph.run(query_3).to_data_frame()\n",
    "print(\"\\nNumber of keywords in group 1:\")\n",
    "print(result_3)"
   ]
  },
  {
   "cell_type": "code",
   "execution_count": 8,
   "id": "28aeb283-d185-43af-a22f-e038bd601eb2",
   "metadata": {
    "tags": []
   },
   "outputs": [
    {
     "name": "stdout",
     "output_type": "stream",
     "text": [
      "\n",
      "Average co-occurrence per keyword group:\n",
      "    keyword_group avg_co_occurrence\n",
      "0               1              None\n",
      "1               2              None\n",
      "2               3              None\n",
      "3               4              None\n",
      "4               5              None\n",
      "5               6              None\n",
      "6               7              None\n",
      "7               8              None\n",
      "8               9              None\n",
      "9              10              None\n",
      "10             11              None\n",
      "11             12              None\n",
      "12             13              None\n",
      "13             14              None\n"
     ]
    }
   ],
   "source": [
    "from py2neo import Graph\n",
    "\n",
    "# Connect to Neo4j database\n",
    "graph = Graph(\"bolt://localhost:7687\", auth=(\"neo4j\", \"password_tuts\"), name=\"stack\")\n",
    "\n",
    "# 4) Is the Co-occurrence correlated to the \"group\" of the keyword?\n",
    "query_4 = \"\"\"\n",
    "MATCH (source)-[link]->(target)\n",
    "RETURN source.group AS keyword_group, avg(link.value) AS avg_co_occurrence\n",
    "ORDER BY keyword_group\n",
    "\"\"\"\n",
    "\n",
    "result_4 = graph.run(query_4).to_data_frame()\n",
    "print(\"\\nAverage co-occurrence per keyword group:\")\n",
    "print(result_4)"
   ]
  }
 ],
 "metadata": {
  "kernelspec": {
   "display_name": "Python 3 (ipykernel)",
   "language": "python",
   "name": "python3"
  },
  "language_info": {
   "codemirror_mode": {
    "name": "ipython",
    "version": 3
   },
   "file_extension": ".py",
   "mimetype": "text/x-python",
   "name": "python",
   "nbconvert_exporter": "python",
   "pygments_lexer": "ipython3",
   "version": "3.11.5"
  }
 },
 "nbformat": 4,
 "nbformat_minor": 5
}
