{
 "cells": [
  {
   "cell_type": "markdown",
   "id": "0df705d9-89a4-4b89-be05-9b64b0af727c",
   "metadata": {},
   "source": [
    "## EXERCICE 1 : SQL (Chapitre 1)"
   ]
  },
  {
   "cell_type": "code",
   "execution_count": 4,
   "id": "19cf3648-c345-481c-9581-f5318d818c07",
   "metadata": {
    "tags": []
   },
   "outputs": [
    {
     "name": "stdout",
     "output_type": "stream",
     "text": [
      "Nombre de lignes : 569\n",
      "Nombre de colonnes : 33\n"
     ]
    }
   ],
   "source": [
    "import sqlite3\n",
    "import pandas as pd\n",
    "\n",
    "# 1. Lire les données de bc.csv, compter le nombre de lignes et de colonnes.\n",
    "df_bc = pd.read_csv('bc.csv')\n",
    "num_rows_bc, num_cols_bc = df_bc.shape\n",
    "\n",
    "print(\"Nombre de lignes :\", num_rows_bc)\n",
    "print(\"Nombre de colonnes :\", num_cols_bc)"
   ]
  },
  {
   "cell_type": "code",
   "execution_count": null,
   "id": "ca764e32-66fe-4f1b-8322-2c48c1e9d254",
   "metadata": {},
   "outputs": [],
   "source": [
    "# 2. Insérer les données de bc.csv dans une table SQLite.\n",
    "conn = sqlite3.connect('exercisesql.db')\n",
    "df_bc.to_sql('bc_table', conn, if_exists='replace', index=False)"
   ]
  },
  {
   "cell_type": "code",
   "execution_count": 8,
   "id": "e68f06be-d435-4b4c-a3c0-22699dbbff06",
   "metadata": {
    "tags": []
   },
   "outputs": [
    {
     "data": {
      "text/plain": [
       "<sqlite3.Cursor at 0x12579c540>"
      ]
     },
     "execution_count": 8,
     "metadata": {},
     "output_type": "execute_result"
    }
   ],
   "source": [
    "# 3. Créer une nouvelle table appelée tomatch avec les colonnes id_ et rdm_float.\n",
    "c = conn.cursor()\n",
    "c.execute('''CREATE TABLE IF NOT EXISTS tomatch (\n",
    "                id_ INTEGER PRIMARY KEY,\n",
    "                rdm_float REAL\n",
    "            )''')"
   ]
  },
  {
   "cell_type": "code",
   "execution_count": 9,
   "id": "26f4f459-87d1-41c3-a94e-bdba3f299a87",
   "metadata": {},
   "outputs": [],
   "source": [
    "import random\n",
    "import sqlite3\n",
    "\n",
    "# 4. Insérer des observations dans la table tomatch selon les critères spécifiés.\n",
    "# On insère uniquement les nombres pairs de 50k à 10M\n",
    "for id_ in range(50000, 10000001, 2):\n",
    "    # Vérifier si l'ID existe déjà dans la table\n",
    "    c.execute(\"SELECT id_ FROM tomatch WHERE id_ = ?\", (id_,))\n",
    "    row = c.fetchone()\n",
    "    if row is None:  # Si l'ID n'existe pas déjà, insérer dans la table\n",
    "        rdm_float = random.uniform(0, 1)  # Générer un flottant aléatoire\n",
    "        c.execute(\"INSERT INTO tomatch (id_, rdm_float) VALUES (?, ?)\", (id_, rdm_float))\n",
    "\n",
    "# Valider et sauvegarder les modifications\n",
    "conn.commit()"
   ]
  },
  {
   "cell_type": "code",
   "execution_count": 10,
   "id": "dc78917d-5e3d-488f-a82c-13157231ca41",
   "metadata": {},
   "outputs": [],
   "source": [
    "# 5. Effectuer une jointure interne entre les deux tables et calculer les différentes fonctions d'agrégation.\n",
    "# Je vais supposer ici que vous voulez dire la table bc_table, car il n'y a pas de détails sur l'autre table\n",
    "c.execute('''SELECT COUNT(*), AVG(radius_mean), MAX(radius_mean), MIN(radius_mean)\n",
    "              FROM bc_table \n",
    "              JOIN tomatch ON bc_table.id = tomatch.id_''')\n",
    "result = c.fetchone()"
   ]
  },
  {
   "cell_type": "code",
   "execution_count": 11,
   "id": "43a62319-a88d-464e-9b65-196033670872",
   "metadata": {},
   "outputs": [
    {
     "name": "stdout",
     "output_type": "stream",
     "text": [
      "Nombre d'observations avec radius_mean supérieur à 15 : 173\n",
      "Nombre d'observations avec radius_mean supérieur à 15 et texture_mean supérieur à 20 : 106\n"
     ]
    }
   ],
   "source": [
    "# 6. Compter le nombre d'observations avec radius_mean supérieur à 15 et combien d'entre elles ont texture_mean supérieur à 20.\n",
    "c.execute('''SELECT COUNT(*)\n",
    "              FROM bc_table\n",
    "              WHERE radius_mean > 15''')\n",
    "num_obs_radius_gt_15 = c.fetchone()[0]\n",
    "\n",
    "c.execute('''SELECT COUNT(*)\n",
    "              FROM bc_table\n",
    "              WHERE radius_mean > 15 AND texture_mean > 20''')\n",
    "num_obs_radius_gt_15_texture_gt_20 = c.fetchone()[0]\n",
    "\n",
    "print(\"Nombre d'observations avec radius_mean supérieur à 15 :\", num_obs_radius_gt_15)\n",
    "print(\"Nombre d'observations avec radius_mean supérieur à 15 et texture_mean supérieur à 20 :\", num_obs_radius_gt_15_texture_gt_20)"
   ]
  },
  {
   "cell_type": "code",
   "execution_count": 12,
   "id": "2357e6fe-2d40-493c-957f-7ead72258f17",
   "metadata": {},
   "outputs": [
    {
     "name": "stdout",
     "output_type": "stream",
     "text": [
      "Moyenne de la surface (arrondie à deux décimales) pour la catégorie 'M' : 978.38\n",
      "Moyenne de la surface (arrondie à deux décimales) pour la catégorie 'B' : 462.79\n",
      "Différence entre les moyennes de surface des catégories 'M' et 'B' : 515.5899999999999\n"
     ]
    }
   ],
   "source": [
    "# 7. Calculer la moyenne arrondie avec deux décimales pour chaque catégorie du diagnostic et calculer la différence entre les deux groupes.\n",
    "c.execute('''SELECT ROUND(AVG(area_mean), 2)\n",
    "              FROM bc_table\n",
    "              WHERE diagnosis = 'M' ''')\n",
    "mean_area_M = c.fetchone()[0]\n",
    "\n",
    "c.execute('''SELECT ROUND(AVG(area_mean), 2)\n",
    "              FROM bc_table\n",
    "              WHERE diagnosis = 'B' ''')\n",
    "mean_area_B = c.fetchone()[0]\n",
    "\n",
    "difference_mean_area = mean_area_M - mean_area_B\n",
    "\n",
    "print(\"Moyenne de la surface (arrondie à deux décimales) pour la catégorie 'M' :\", mean_area_M)\n",
    "print(\"Moyenne de la surface (arrondie à deux décimales) pour la catégorie 'B' :\", mean_area_B)\n",
    "print(\"Différence entre les moyennes de surface des catégories 'M' et 'B' :\", difference_mean_area)"
   ]
  },
  {
   "cell_type": "code",
   "execution_count": 13,
   "id": "2b660363-bc19-4cbc-b829-824ae1508575",
   "metadata": {},
   "outputs": [
    {
     "ename": "OperationalError",
     "evalue": "database is locked",
     "output_type": "error",
     "traceback": [
      "\u001b[0;31m---------------------------------------------------------------------------\u001b[0m",
      "\u001b[0;31mOperationalError\u001b[0m                          Traceback (most recent call last)",
      "Cell \u001b[0;32mIn[13], line 2\u001b[0m\n\u001b[1;32m      1\u001b[0m \u001b[38;5;66;03m# 8. Changer le nom de la colonne \"diagnosis\" en \"label\".\u001b[39;00m\n\u001b[0;32m----> 2\u001b[0m c\u001b[38;5;241m.\u001b[39mexecute(\u001b[38;5;124m'''\u001b[39m\u001b[38;5;124mALTER TABLE bc_table RENAME COLUMN diagnosis TO label\u001b[39m\u001b[38;5;124m'''\u001b[39m)\n",
      "\u001b[0;31mOperationalError\u001b[0m: database is locked"
     ]
    }
   ],
   "source": [
    "# 8. Changer le nom de la colonne \"diagnosis\" en \"label\".\n",
    "c.execute('''ALTER TABLE bc_table RENAME COLUMN diagnosis TO label''')"
   ]
  },
  {
   "cell_type": "code",
   "execution_count": 14,
   "id": "093448d4-e96f-4b6f-8dce-6f4ab388ec4c",
   "metadata": {},
   "outputs": [
    {
     "ename": "OperationalError",
     "evalue": "database is locked",
     "output_type": "error",
     "traceback": [
      "\u001b[0;31m---------------------------------------------------------------------------\u001b[0m",
      "\u001b[0;31mOperationalError\u001b[0m                          Traceback (most recent call last)",
      "Cell \u001b[0;32mIn[14], line 2\u001b[0m\n\u001b[1;32m      1\u001b[0m \u001b[38;5;66;03m# 9. Ajouter une colonne nommée \"jour\" de type DATE.\u001b[39;00m\n\u001b[0;32m----> 2\u001b[0m c\u001b[38;5;241m.\u001b[39mexecute(\u001b[38;5;124m'''\u001b[39m\u001b[38;5;124mALTER TABLE bc_table ADD COLUMN day DATE\u001b[39m\u001b[38;5;124m'''\u001b[39m)\n",
      "\u001b[0;31mOperationalError\u001b[0m: database is locked"
     ]
    }
   ],
   "source": [
    "# 9. Ajouter une colonne nommée \"jour\" de type DATE.\n",
    "c.execute('''ALTER TABLE bc_table ADD COLUMN day DATE''')"
   ]
  },
  {
   "cell_type": "code",
   "execution_count": 23,
   "id": "2577b728-4329-4037-8a0b-d4c93360257e",
   "metadata": {},
   "outputs": [
    {
     "data": {
      "text/plain": [
       "<sqlite3.Cursor at 0x126d8ff40>"
      ]
     },
     "execution_count": 23,
     "metadata": {},
     "output_type": "execute_result"
    }
   ],
   "source": [
    "# 10. Changer le type de la colonne \"area_mean\" en int en créant une nouvelle colonne.\n",
    "c.execute('''ALTER TABLE bc_table ADD COLUMN area_mean_int INTEGER''')\n",
    "c.execute('''UPDATE bc_table SET area_mean_int = CAST(area_mean AS INTEGER)''')\n"
   ]
  },
  {
   "cell_type": "code",
   "execution_count": 24,
   "id": "d7965da8-914a-4a38-b225-c2256c176bd8",
   "metadata": {},
   "outputs": [
    {
     "data": {
      "text/plain": [
       "<sqlite3.Cursor at 0x126d8ff40>"
      ]
     },
     "execution_count": 24,
     "metadata": {},
     "output_type": "execute_result"
    }
   ],
   "source": [
    "# 11. Créer une nouvelle table appelée tomatch2 similaire à tomatch mais avec des id_ incrémentés de 10.\n",
    "c.execute('''CREATE TABLE IF NOT EXISTS tomatch2 AS\n",
    "             SELECT id_ + 10 AS id_, rdm_float\n",
    "             FROM tomatch''')\n"
   ]
  },
  {
   "cell_type": "code",
   "execution_count": 25,
   "id": "2119f62d-9c50-4063-bb5b-da2854c7e988",
   "metadata": {},
   "outputs": [],
   "source": [
    "# 12. Effectuer une jointure interne entre les trois tables selon les critères spécifiés.\n",
    "c.execute('''SELECT COUNT(*)\n",
    "              FROM bc_table AS bc\n",
    "              JOIN tomatch AS tm ON bc.id = tm.id_\n",
    "              JOIN tomatch2 AS tm2 ON bc.id = tm2.id_\n",
    "              WHERE bc.radius_mean > 15 AND tm.rdm_float > 0.50 AND tm2.rdm_float > 0.50''')\n",
    "\n",
    "conn.commit()\n",
    "conn.close()"
   ]
  }
 ],
 "metadata": {
  "kernelspec": {
   "display_name": "Python 3 (ipykernel)",
   "language": "python",
   "name": "python3"
  },
  "language_info": {
   "codemirror_mode": {
    "name": "ipython",
    "version": 3
   },
   "file_extension": ".py",
   "mimetype": "text/x-python",
   "name": "python",
   "nbconvert_exporter": "python",
   "pygments_lexer": "ipython3",
   "version": "3.11.5"
  }
 },
 "nbformat": 4,
 "nbformat_minor": 5
}
