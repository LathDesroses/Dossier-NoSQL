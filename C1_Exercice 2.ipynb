{
 "cells": [
  {
   "cell_type": "markdown",
   "id": "cf3b3dd6-03ca-4579-ae65-8b490fe2dd44",
   "metadata": {},
   "source": [
    "## EXERCICE 2 (Chapitre 1)"
   ]
  },
  {
   "cell_type": "code",
   "execution_count": 1,
   "id": "b8b88a92-bee2-4cf0-8e11-0e378c364807",
   "metadata": {
    "tags": []
   },
   "outputs": [
    {
     "name": "stdout",
     "output_type": "stream",
     "text": [
      "Total orders: 6274\n"
     ]
    }
   ],
   "source": [
    "import mysql.connector\n",
    "\n",
    "# Se connecter à la base de données\n",
    "mydb = mysql.connector.connect(\n",
    "  host=\"localhost\",\n",
    "  user=\"root\",\n",
    "  password=\"rootroot\",\n",
    "  database=\"mydatabase\"\n",
    ")\n",
    "\n",
    "# Créer un curseur\n",
    "cursor = mydb.cursor()\n",
    "\n",
    "# 1: How many orders were placed in total?\n",
    "cursor.execute(\"SELECT COUNT(DISTINCT `Order ID`) AS `Total Orders` FROM sample_superstore\")\n",
    "total_orders = cursor.fetchone()[0]\n",
    "print(\"Total orders:\", total_orders)"
   ]
  },
  {
   "cell_type": "code",
   "execution_count": 2,
   "id": "ed3714d5-fc96-4b9c-8caa-4774c4e53533",
   "metadata": {
    "tags": []
   },
   "outputs": [
    {
     "name": "stdout",
     "output_type": "stream",
     "text": [
      "Total sales amount: 8698057.950000014\n"
     ]
    }
   ],
   "source": [
    "# 2: What is the total sales amount?\n",
    "cursor.execute(\"SELECT SUM(Sales) AS 'Total Sales' FROM sample_superstore\")\n",
    "total_sales = cursor.fetchone()[0]\n",
    "print(\"Total sales amount:\", total_sales)"
   ]
  },
  {
   "cell_type": "code",
   "execution_count": 3,
   "id": "1abf2c44-6f21-4877-85eb-01988632b7dd",
   "metadata": {},
   "outputs": [
    {
     "name": "stdout",
     "output_type": "stream",
     "text": [
      "Average profit per order: 138.4031869077875\n"
     ]
    }
   ],
   "source": [
    "# 3: What is the average profit per order?\n",
    "cursor.execute(\"SELECT AVG(Profit) AS Average_Profit_Per_Order FROM sample_superstore\")\n",
    "average_profit_per_order = cursor.fetchone()[0]\n",
    "print(\"Average profit per order:\", average_profit_per_order)"
   ]
  },
  {
   "cell_type": "code",
   "execution_count": 6,
   "id": "a04cc871-1758-456b-8616-d5d38f9ef9be",
   "metadata": {},
   "outputs": [
    {
     "name": "stdout",
     "output_type": "stream",
     "text": [
      "Customer with most orders: ('Louis Parrish', 17)\n"
     ]
    }
   ],
   "source": [
    "# 4: Which customer has placed the most orders?\n",
    "cursor.execute(\"SELECT `Customer Name`, COUNT(DISTINCT `Order ID`) AS Total_Orders_Placed \"\n",
    "               \"FROM sample_superstore \"\n",
    "               \"GROUP BY `Customer Name` \"\n",
    "               \"ORDER BY Total_Orders_Placed DESC \"\n",
    "               \"LIMIT 1\")\n",
    "customer_with_most_orders = cursor.fetchone()\n",
    "print(\"Customer with most orders:\", customer_with_most_orders)"
   ]
  },
  {
   "cell_type": "code",
   "execution_count": 8,
   "id": "ed598a38-7441-4565-b1fd-6c145ac9df4e",
   "metadata": {},
   "outputs": [
    {
     "name": "stdout",
     "output_type": "stream",
     "text": [
      "Total profit for each product category: [('Office Supplies', 440488.3892998), ('Technology', 688056.5941278014), ('Furniture', 121651.00391044984)]\n"
     ]
    }
   ],
   "source": [
    "# 5: What is the total profit for each product category?\n",
    "cursor.execute(\"SELECT `Product Category`, SUM(Profit) AS Total_Profit \"\n",
    "               \"FROM sample_superstore \"\n",
    "               \"GROUP BY `Product Category`\")\n",
    "total_profit_per_category = cursor.fetchall()\n",
    "print(\"Total profit for each product category:\", total_profit_per_category)"
   ]
  },
  {
   "cell_type": "code",
   "execution_count": 9,
   "id": "1382bc3c-690e-401d-9f94-848670fb8edb",
   "metadata": {},
   "outputs": [
    {
     "name": "stdout",
     "output_type": "stream",
     "text": [
      "Average discount percentage: 0.049626923502710786\n"
     ]
    }
   ],
   "source": [
    "# 6: What is the average discount percentage?\n",
    "cursor.execute(\"SELECT AVG(Discount) AS Average_Discount_Percentage FROM sample_superstore\")\n",
    "average_discount_percentage = cursor.fetchone()[0]\n",
    "print(\"Average discount percentage:\", average_discount_percentage)"
   ]
  },
  {
   "cell_type": "code",
   "execution_count": 10,
   "id": "90e8afbb-c2b5-4395-8ea6-e3505473fde9",
   "metadata": {},
   "outputs": [
    {
     "name": "stdout",
     "output_type": "stream",
     "text": [
      "Region with highest total sales: ('Central', 2462501.9600000004)\n"
     ]
    }
   ],
   "source": [
    "# 7: Which region has the highest total sales?\n",
    "cursor.execute(\"SELECT Region, SUM(Sales) AS Total_Sales \"\n",
    "               \"FROM sample_superstore \"\n",
    "               \"GROUP BY Region \"\n",
    "               \"ORDER BY Total_Sales DESC \"\n",
    "               \"LIMIT 1\")\n",
    "region_with_highest_sales = cursor.fetchone()\n",
    "print(\"Region with highest total sales:\", region_with_highest_sales)"
   ]
  },
  {
   "cell_type": "code",
   "execution_count": 13,
   "id": "0c8ba989-0c20-4eaf-a8cb-5fda2c2c9ae0",
   "metadata": {},
   "outputs": [
    {
     "name": "stdout",
     "output_type": "stream",
     "text": [
      "Total orders shipped using each shipping mode: [('Regular Air', 6715), ('Express Air', 1052), ('Delivery Truck', 1266)]\n"
     ]
    }
   ],
   "source": [
    "# 8: How many orders were shipped using each shipping mode?\n",
    "cursor.execute(\"SELECT `Ship Mode`, COUNT(`Order ID`) AS Total_Orders \"\n",
    "               \"FROM sample_superstore \"\n",
    "               \"GROUP BY `Ship Mode`\")\n",
    "total_orders_per_shipping_mode = cursor.fetchall()\n",
    "print(\"Total orders shipped using each shipping mode:\", total_orders_per_shipping_mode)"
   ]
  },
  {
   "cell_type": "code",
   "execution_count": 15,
   "id": "309c888e-d3d6-48e8-90f4-00164e3b9175",
   "metadata": {},
   "outputs": [
    {
     "name": "stdout",
     "output_type": "stream",
     "text": [
      "Total quantity ordered for each product sub-category: [('Labels', Decimal('4794')), ('Pens & Art Supplies', Decimal('10752')), ('Paper', Decimal('17666')), ('Scissors, Rulers and Trimmers', Decimal('1865')), ('Telephones and Communication', Decimal('14284')), ('Office Machines', Decimal('4674')), ('Chairs & Chairmats', Decimal('5769')), ('Appliances', Decimal('7040')), ('Bookcases', Decimal('2596')), ('Tables', Decimal('5037')), ('Envelopes', Decimal('3741')), ('Office Furnishings', Decimal('11910')), ('Rubber Bands', Decimal('2755')), ('Binders and Binder Accessories', Decimal('12405')), ('Storage & Organization', Decimal('7822')), ('Copiers and Fax', Decimal('1177')), ('Computer Peripherals', Decimal('10773'))]\n"
     ]
    }
   ],
   "source": [
    "# 9: What is the total quantity ordered for each product sub-category?\n",
    "cursor.execute(\"SELECT `Product Sub-Category`, SUM(`Quantity ordered new`) AS Total_Quantity_Ordered \"\n",
    "               \"FROM sample_superstore \"\n",
    "               \"GROUP BY `Product Sub-Category`\")\n",
    "total_quantity_ordered_per_sub_category = cursor.fetchall()\n",
    "print(\"Total quantity ordered for each product sub-category:\", total_quantity_ordered_per_sub_category)"
   ]
  },
  {
   "cell_type": "code",
   "execution_count": 17,
   "id": "0dfa6265-1f1b-4f3f-b0c7-e0c62daa503a",
   "metadata": {},
   "outputs": [
    {
     "name": "stdout",
     "output_type": "stream",
     "text": [
      "Product with highest profit margin: ('Belkin OmniView SE Rackmount Kit', 0.85)\n"
     ]
    }
   ],
   "source": [
    "# 10: Which product has the highest profit margin?\n",
    "cursor.execute(\"SELECT `Product Name`, `Product Base Margin` \"\n",
    "               \"FROM sample_superstore \"\n",
    "               \"ORDER BY `Product Base Margin` DESC \"\n",
    "               \"LIMIT 1\")\n",
    "product_with_highest_profit_margin = cursor.fetchone()\n",
    "print(\"Product with highest profit margin:\", product_with_highest_profit_margin)"
   ]
  },
  {
   "cell_type": "code",
   "execution_count": 18,
   "id": "45671d27-e520-4c8e-97d3-1d05f7ce5950",
   "metadata": {},
   "outputs": [
    {
     "name": "stdout",
     "output_type": "stream",
     "text": [
      "Total sales amount for each year: [(None, 8698057.950000014)]\n"
     ]
    }
   ],
   "source": [
    "# 11: What is the total sales amount for each year?\n",
    "cursor.execute(\"SELECT YEAR(`Order Date`) AS `Order Year`, SUM(Sales) AS Total_Sales \"\n",
    "               \"FROM sample_superstore \"\n",
    "               \"GROUP BY `Order Year`\")\n",
    "total_sales_per_year = cursor.fetchall()\n",
    "print(\"Total sales amount for each year:\", total_sales_per_year)"
   ]
  },
  {
   "cell_type": "code",
   "execution_count": 20,
   "id": "11c34a24-2d2d-4b67-aee5-63123cc7f9be",
   "metadata": {},
   "outputs": [
    {
     "name": "stdout",
     "output_type": "stream",
     "text": [
      "Customer segment with highest average sales: ('Consumer', 989.2358632101483)\n"
     ]
    }
   ],
   "source": [
    "# 12: Which customer segment has the highest average sales?\n",
    "cursor.execute(\"SELECT `Customer Segment`, AVG(Sales) AS `Average Sales` \"\n",
    "               \"FROM sample_superstore \"\n",
    "               \"GROUP BY `Customer Segment` \"\n",
    "               \"ORDER BY `Average Sales` DESC \"\n",
    "               \"LIMIT 1\")\n",
    "customer_segment_with_highest_average_sales = cursor.fetchone()\n",
    "print(\"Customer segment with highest average sales:\", customer_segment_with_highest_average_sales)\n",
    "\n",
    "# Fermer le curseur et la connexion à la base de données\n",
    "cursor.close()\n",
    "mydb.close()"
   ]
  }
 ],
 "metadata": {
  "kernelspec": {
   "display_name": "Python 3 (ipykernel)",
   "language": "python",
   "name": "python3"
  },
  "language_info": {
   "codemirror_mode": {
    "name": "ipython",
    "version": 3
   },
   "file_extension": ".py",
   "mimetype": "text/x-python",
   "name": "python",
   "nbconvert_exporter": "python",
   "pygments_lexer": "ipython3",
   "version": "3.11.5"
  }
 },
 "nbformat": 4,
 "nbformat_minor": 5
}
