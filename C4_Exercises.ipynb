{
 "cells": [
  {
   "cell_type": "markdown",
   "id": "5ccf2ce4-49c3-4f5f-a00a-932dada3210d",
   "metadata": {},
   "source": [
    "### Exercises (Chapter 4)\n",
    "\n",
    "#### CRUD operations:\n",
    "\n",
    "\n",
    "**1**: You will continue to work on the MCU network for a while. Who are the 10 fastest in the MCU ? Are they related to each other ?\n",
    "\n",
    "**2**: How many have collaborated atleast more than 10 times with another superhero?\n",
    "\n",
    "**3**: Did the weakest of the MCU collaborated with the strongest ?\n",
    "\n",
    "**4**: Give a stats that interests you !\n",
    "\n",
    "**5**: Create a new db called \"master\". Create a graph from the M1 class with name and random age between 20 and 30, Group of 3 that collab (undirected relation).\n",
    "\n",
    "**6**: Get the age for people YOU collaborate with.\n",
    "\n",
    "**7**: Get nodes with age > 25.\n",
    "\n",
    "### Real world problem:\n",
    "\n",
    "**8**: Using the downloaded data in TODO 11 of chapter II, create a collaboration network between authors for papers after 2021 (same author if same name). Insert it in neo4j in a db called \"arxiv\".\n",
    "\n",
    "**9**: Get the density of degrees of the collaboration network\n",
    "\n",
    "**10**: Do a for loop for i in range(500) for each i remove nodes with a degree less than i.\n"
   ]
  },
  {
   "cell_type": "code",
   "execution_count": 4,
   "id": "715b15ec-8f1c-47e9-9d30-50684dd7db07",
   "metadata": {
    "tags": []
   },
   "outputs": [
    {
     "name": "stdout",
     "output_type": "stream",
     "text": [
      "Top 10 fastest superheroes:\n",
      "Black Bolt - 100\n",
      "Stardust - 100\n",
      "Quicksilver - 100\n",
      "Nova - 100\n",
      "Thor - 92\n",
      "Silver Surfer - 84\n",
      "Galactus - 83\n",
      "Dormammu - 83\n",
      "Ego - 83\n",
      "Northstar - 83\n"
     ]
    }
   ],
   "source": [
    "# 1: You will continue to work on the MCU network for a while. Who are the 10 fastest in the MCU ? Are they related to each other ?\n",
    "\n",
    "import pandas as pd\n",
    "import tqdm\n",
    "import py2neo\n",
    "\n",
    "graph = py2neo.Graph(\"bolt://localhost:7687\", auth=(\"neo4j\", \"password_tuts\"), name=\"mcu\")\n",
    "\n",
    "\n",
    "# Query for the 10 fastest superheroes\n",
    "query_fastest_superheroes = \"\"\"\n",
    "MATCH (s:Superhero)\n",
    "WHERE s.Speed IS NOT NULL\n",
    "RETURN s.name AS Superhero, s.Speed AS Speed\n",
    "ORDER BY s.Speed DESC\n",
    "LIMIT 10\n",
    "\"\"\"\n",
    "\n",
    "result_fastest_superheroes = graph.run(query_fastest_superheroes).data()\n",
    "\n",
    "# Print the result\n",
    "print(\"Top 10 fastest superheroes:\")\n",
    "for superhero in result_fastest_superheroes:\n",
    "    print(superhero[\"Superhero\"], \"-\", superhero[\"Speed\"])\n"
   ]
  },
  {
   "cell_type": "code",
   "execution_count": 15,
   "id": "5aa971d8-701a-4e89-af2e-ed66d581ef5d",
   "metadata": {
    "tags": []
   },
   "outputs": [
    {
     "name": "stdout",
     "output_type": "stream",
     "text": [
      "Number of superheroes who have collaborated at least 10 times: 696\n"
     ]
    }
   ],
   "source": [
    "# 2: How many have collaborated atleast more than 10 times with another superhero?\n",
    "\n",
    "query_collaborations = \"\"\"\n",
    "MATCH (a:Superhero)-[r]->(b:Superhero)\n",
    "WITH a, COUNT(r) AS num_collaborations\n",
    "WHERE num_collaborations >= 10\n",
    "RETURN COUNT(a) AS num_superheroes\n",
    "\"\"\"\n",
    "\n",
    "result_num_superheroes = graph.run(query_collaborations).data()\n",
    "num_superheroes = result_num_superheroes[0][\"num_superheroes\"]\n",
    "print(f\"Number of superheroes who have collaborated at least 10 times: {num_superheroes}\")\n"
   ]
  },
  {
   "cell_type": "code",
   "execution_count": 16,
   "id": "344bcc83-8531-4d4d-8e98-3c452a695e16",
   "metadata": {
    "tags": []
   },
   "outputs": [
    {
     "name": "stdout",
     "output_type": "stream",
     "text": [
      "Yes, the weakest and strongest superheroes have collaborated.\n"
     ]
    }
   ],
   "source": [
    "# 3: Did the weakest of the MCU collaborated with the strongest ?\n",
    "\n",
    "query_weakest_strongest_collaboration = \"\"\"\n",
    "MATCH (weakest:Superhero), (strongest:Superhero)\n",
    "WHERE weakest.Strength IS NOT NULL AND strongest.Strength IS NOT NULL\n",
    "WITH MIN(weakest.Strength) AS min_strength, MAX(strongest.Strength) AS max_strength\n",
    "MATCH (weakest)-[r]->(strongest)\n",
    "RETURN COUNT(r) > 0 AS collaboration_exists\n",
    "\"\"\"\n",
    "\n",
    "result_collaboration_exists = graph.run(query_weakest_strongest_collaboration).data()\n",
    "collaboration_exists = result_collaboration_exists[0][\"collaboration_exists\"]\n",
    "\n",
    "if collaboration_exists:\n",
    "    print(\"Yes, the weakest and strongest superheroes have collaborated.\")\n",
    "else:\n",
    "    print(\"No, the weakest and strongest superheroes have not collaborated.\")\n"
   ]
  },
  {
   "cell_type": "code",
   "execution_count": 18,
   "id": "2a037a59-4239-4293-94f9-f9746060f909",
   "metadata": {
    "tags": []
   },
   "outputs": [
    {
     "name": "stdout",
     "output_type": "stream",
     "text": [
      "Average strength of superheroes: 35.55837563451778\n"
     ]
    }
   ],
   "source": [
    "# 4: Give a stats that interests you ! \n",
    "\n",
    "# For example, let's calculate the average strength of all superheroes.\n",
    "\n",
    "query_avg_strength = \"\"\"\n",
    "MATCH (s:Superhero)\n",
    "WHERE s.Strength IS NOT NULL\n",
    "RETURN AVG(s.Strength) AS AvgStrength\n",
    "\"\"\"\n",
    "\n",
    "avg_strength = graph.run(query_avg_strength).evaluate()\n",
    "print(\"Average strength of superheroes:\", avg_strength)\n"
   ]
  },
  {
   "cell_type": "code",
   "execution_count": 20,
   "id": "c2cea0de-049c-4712-aa6c-7c981ae84d34",
   "metadata": {
    "tags": []
   },
   "outputs": [],
   "source": [
    "# 5: Create a new db called \"master\". Create a graph from the M1 class with name and random age between 20 and 30, Group of 3 that collab (undirected relation).\n",
    "\n",
    "import random  # Need to import the random module\n",
    "\n",
    "# Create a new graph database called \"master\"\n",
    "master_graph = py2neo.Graph(\"bolt://localhost:7687\", auth=(\"neo4j\", \"password_tuts\"), name=\"master\")\n",
    "\n",
    "# Generate data for M1 class with random age between 20 and 30\n",
    "# Assuming M1 class has properties 'name' and 'age'\n",
    "m1_data = [\n",
    "    {\"name\": \"Person1\", \"age\": random.randint(20, 30)},\n",
    "    {\"name\": \"Person2\", \"age\": random.randint(20, 30)},\n",
    "    {\"name\": \"Person3\", \"age\": random.randint(20, 30)}\n",
    "]\n",
    "\n",
    "# Create nodes and relationships in the master graph\n",
    "for person in m1_data:\n",
    "    master_graph.run(\"\"\"\n",
    "    CREATE (p:Person {name: $name, age: $age})\n",
    "    \"\"\", name=person[\"name\"], age=person[\"age\"])\n",
    "\n",
    "# Create relationships between groups of 3 people (undirected)\n",
    "for i in range(0, len(m1_data), 3):\n",
    "    master_graph.run(\"\"\"\n",
    "    MATCH (p1:Person {name: $name1}), (p2:Person {name: $name2}), (p3:Person {name: $name3})\n",
    "    CREATE (p1)-[:COLLABORATES_WITH]->(p2),\n",
    "           (p2)-[:COLLABORATES_WITH]->(p3),\n",
    "           (p3)-[:COLLABORATES_WITH]->(p1)\n",
    "    \"\"\", name1=m1_data[i][\"name\"], name2=m1_data[i + 1][\"name\"], name3=m1_data[i + 2][\"name\"])"
   ]
  },
  {
   "cell_type": "code",
   "execution_count": 23,
   "id": "c977d116-5999-48d8-826c-c93c83dd4d37",
   "metadata": {
    "tags": []
   },
   "outputs": [
    {
     "name": "stdout",
     "output_type": "stream",
     "text": [
      "Age of people you collaborate with:\n",
      "Person2 - 29\n",
      "Person3 - 30\n"
     ]
    }
   ],
   "source": [
    "# 6: Get the age for people YOU collaborate with.\n",
    "\n",
    "# Assuming your name is stored in a variable named 'your_name'\n",
    "your_name = \"Person1\"\n",
    "\n",
    "query_collaborators_age = f\"\"\"\n",
    "MATCH (you:Person {{name: '{your_name}'}})-[:COLLABORATES_WITH]-(collaborator)\n",
    "RETURN collaborator.name AS Collaborator, collaborator.age AS Age\n",
    "\"\"\"\n",
    "\n",
    "collaborators_age = master_graph.run(query_collaborators_age).data()\n",
    "\n",
    "# Print the result\n",
    "print(\"Age of people you collaborate with:\")\n",
    "for collaborator in collaborators_age:\n",
    "    print(collaborator[\"Collaborator\"], \"-\", collaborator[\"Age\"])"
   ]
  },
  {
   "cell_type": "code",
   "execution_count": 25,
   "id": "3adf5644-05c6-4058-82a4-254f85148e81",
   "metadata": {
    "tags": []
   },
   "outputs": [
    {
     "name": "stdout",
     "output_type": "stream",
     "text": [
      "Nodes with age above 25:\n",
      "Person1 - 30\n",
      "Person2 - 29\n",
      "Person3 - 30\n"
     ]
    }
   ],
   "source": [
    "# 7: Get nodes with age > 25.\n",
    "\n",
    "query_age_above_25 = \"\"\"\n",
    "MATCH (m:Person)\n",
    "WHERE m.age > 25\n",
    "RETURN m.name AS Name, m.age AS Age\n",
    "\"\"\"\n",
    "\n",
    "nodes_age_above_25 = master_graph.run(query_age_above_25).data()\n",
    "\n",
    "# Print the result\n",
    "print(\"Nodes with age above 25:\")\n",
    "for node in nodes_age_above_25:\n",
    "    print(node[\"Name\"], \"-\", node[\"Age\"])"
   ]
  },
  {
   "cell_type": "code",
   "execution_count": null,
   "id": "3b97c8ae-f3fc-493f-b023-b3c67e1c16c2",
   "metadata": {},
   "outputs": [],
   "source": [
    "import pymongo\n",
    "from py2neo import Graph, Node, Relationship\n",
    "import json\n",
    "\n",
    "# Connexion à Neo4j\n",
    "graph = Graph(\"bolt://localhost:7687\", auth=(\"neo4j\", \"password_tuts\"), name=\"author\")\n",
    "\n",
    "# Ouvrir et lire le fichier CSV\n",
    "with open(\"authors.csv\", \"r\", newline=\"\", encoding=\"utf-8\") as csvfile:\n",
    "    reader = csv.DictReader(csvfile)\n",
    "\n",
    "# Créer des noeuds d'auteur dans Neo4j\n",
    "for author in data[\"authors\"]:\n",
    "    author_node = Node(\"Author\", name=author[\"name\"])\n",
    "    graph.merge(author_node)\n",
    "\n",
    "    \n",
    "    \n",
    "#8: Using the downloaded data in TODO 11 of chapter II, create a collaboration network between authors for papers after 2021 (same author if same name). Insert it in neo4j in a db called \"arxiv\".\n",
    "\n",
    "# Filtrer les articles publiés après 2021\n",
    "query = {\"PubYear\": {\"$gt\": \"2021\"}}\n",
    "papers = collection.find(query)\n",
    "\n",
    "# Créer le réseau de collaboration entre les auteurs\n",
    "for paper in papers:\n",
    "    authors = paper.get(\"authors\", [])\n",
    "    for i in range(len(authors)):\n",
    "        for j in range(i + 1, len(authors)):\n",
    "            author1_name = authors[i].get(\"LastName\")\n",
    "            author2_name = authors[j].get(\"LastName\")\n",
    "            author1_node = Node(\"Author\", name=author1_name)\n",
    "            author2_node = Node(\"Author\", name=author2_name)\n",
    "            collaboration = Relationship(author1_node, \"COLLABORATES_WITH\", author2_node)\n",
    "            graph.merge(collaboration)\n",
    "\n",
    "            \n",
    "#9: Get the density of degrees of the collaboration network\n",
    "\n",
    "# Obtenir la densité des degrés du réseau de collaboration\n",
    "query_density = \"\"\" \n",
    "MATCH (a:Author)-[:COLLABORATES_WITH]->(b:Author)\n",
    "RETURN COUNT(*) / ((COUNT(DISTINCT a) * COUNT(DISTINCT b)) * 1.0) AS density\n",
    "\"\"\" \n",
    "density = graph.run(query_density).evaluate()\n",
    "print(\"Densité du réseau de collaboration:\", density)\n",
    "\n",
    "\n",
    "# 10: Do a for loop for i in range(500) for each i remove nodes with a degree less than i.\n",
    "\n",
    "# Boucle pour supprimer les nœuds avec un degré inférieur à un certain seuil pendant 500 itérations\n",
    "for i in range(500):\n",
    "    query_delete = f\"\"\"\n",
    "    MATCH (a:Author)\n",
    "    WITH a, SIZE((a)-[:COLLABORATES_WITH]->()) AS degree\n",
    "    WHERE degree < {i}\n",
    "    DETACH DELETE a\n",
    "    \"\"\"\n",
    "    graph.run(query_delete)"
   ]
  }
 ],
 "metadata": {
  "kernelspec": {
   "display_name": "Python 3 (ipykernel)",
   "language": "python",
   "name": "python3"
  },
  "language_info": {
   "codemirror_mode": {
    "name": "ipython",
    "version": 3
   },
   "file_extension": ".py",
   "mimetype": "text/x-python",
   "name": "python",
   "nbconvert_exporter": "python",
   "pygments_lexer": "ipython3",
   "version": "3.11.5"
  }
 },
 "nbformat": 4,
 "nbformat_minor": 5
}
