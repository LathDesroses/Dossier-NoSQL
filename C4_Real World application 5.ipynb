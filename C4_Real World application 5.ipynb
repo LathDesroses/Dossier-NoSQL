{
 "cells": [
  {
   "cell_type": "markdown",
   "id": "be314f4f-21fb-4dbf-a95e-a5f022e457a1",
   "metadata": {},
   "source": [
    "### Real World application 5 (Chapitre 4)\n",
    "create database twitch \n",
    "\n",
    "use twitch "
   ]
  },
  {
   "cell_type": "code",
   "execution_count": 14,
   "id": "0d32a06f-b989-4c3e-a576-4c04ab10d302",
   "metadata": {
    "tags": []
   },
   "outputs": [
    {
     "name": "stdout",
     "output_type": "stream",
     "text": [
      "Top 10 streamers with at least one collaboration:\n",
      " streamer_id \n",
      "-------------\n",
      "           0 \n",
      "           0 \n",
      "           0 \n",
      "           0 \n",
      "           0 \n",
      "           0 \n",
      "           0 \n",
      "           0 \n",
      "        6251 \n",
      "           0 \n",
      "\n"
     ]
    }
   ],
   "source": [
    "from py2neo import Graph\n",
    "from py2neo import Node\n",
    "from py2neo import Relationship\n",
    "import pandas as pd\n",
    "\n",
    "# Connecter à la base de données Neo4j\n",
    "graph = Graph(\"bolt://localhost:7687\", auth=(\"neo4j\", \"password_tuts\"), name=\"twitch\")\n",
    "\n",
    "# Charger l'ensemble de données Twitch\n",
    "target_df = pd.read_csv('FR_target.csv')\n",
    "edges_df = pd.read_csv('FR_edges.csv')\n",
    "\n",
    "# Convertir les colonnes 'from' et 'to' en type int\n",
    "edges_df['from'] = edges_df['from'].astype(int)\n",
    "edges_df['to'] = edges_df['to'].astype(int)\n",
    "\n",
    "# Fonction pour créer ou obtenir un nœud streamer\n",
    "def get_streamer_node(streamer_id):\n",
    "    query = f\"MATCH (s:Streamer) WHERE s.id = '{streamer_id}' RETURN s\"\n",
    "    result = graph.run(query).data()\n",
    "    if result:\n",
    "        return result[0]['s']\n",
    "    else:\n",
    "        streamer_node = Node(\"Streamer\", id=streamer_id)\n",
    "        graph.create(streamer_node)\n",
    "        return streamer_node\n",
    "\n",
    "# Insérer les nœuds streamer\n",
    "for index, row in target_df.iterrows():\n",
    "    streamer_id = row['id']\n",
    "    get_streamer_node(streamer_id)\n",
    "\n",
    "# Insérer les arêtes entre les streamers\n",
    "for index, row in edges_df.iterrows():\n",
    "    # Convertir les valeurs numpy.int64 en int natifs\n",
    "    source_id = int(row['from'])\n",
    "    target_id = int(row['to'])\n",
    "    source_node = get_streamer_node(source_id)\n",
    "    target_node = get_streamer_node(target_id)\n",
    "    graph.create(Relationship(source_node, \"COLLABORATED_WITH\", target_node))\n",
    "\n",
    "# Requête: Donner les IDs des 10 meilleurs streamers ayant au moins une collaboration\n",
    "query = \"\"\"\n",
    "MATCH (s1:Streamer)-[:COLLABORATED_WITH]->(s2:Streamer)\n",
    "WITH s1, count(DISTINCT s2) AS collaborations\n",
    "ORDER BY collaborations DESC\n",
    "LIMIT 10\n",
    "RETURN s1.id AS streamer_id\n",
    "\"\"\"\n",
    "result = graph.run(query).to_table()\n",
    "print(\"Top 10 streamers with at least one collaboration:\")\n",
    "print(result)"
   ]
  },
  {
   "cell_type": "code",
   "execution_count": 5,
   "id": "7d6f04af-bedb-4f37-8d74-a8c8383d8054",
   "metadata": {
    "tags": []
   },
   "outputs": [
    {
     "name": "stdout",
     "output_type": "stream",
     "text": [
      "          id  days  mature  views  partner  new_id\n",
      "0  150417538   577    True    775    False    4867\n",
      "1  125723704   861    True   2585    False    3692\n",
      "2  155971814   523   False   1566    False    3816\n",
      "3   35832890  2234   False   9713    False     416\n",
      "4   46787750  1896    True  44529    False    4502\n"
     ]
    }
   ],
   "source": [
    "print(target_df.head())"
   ]
  },
  {
   "cell_type": "code",
   "execution_count": 6,
   "id": "c02946e2-5301-4c98-b065-e4ac8b6f4ef4",
   "metadata": {
    "tags": []
   },
   "outputs": [
    {
     "name": "stdout",
     "output_type": "stream",
     "text": [
      "   from    to\n",
      "0     0  6420\n",
      "1     0  2941\n",
      "2     0  3051\n",
      "3     0  5511\n",
      "4     0  1020\n"
     ]
    }
   ],
   "source": [
    "print(edges_df.head())"
   ]
  },
  {
   "cell_type": "code",
   "execution_count": 17,
   "id": "212ad7ae-a4c9-4af9-b0b2-9ccc24a614a4",
   "metadata": {
    "tags": []
   },
   "outputs": [
    {
     "name": "stdout",
     "output_type": "stream",
     "text": [
      "\n",
      "Density of node degrees:\n",
      " degree | density \n",
      "--------|---------\n",
      "      0 |  119217 \n",
      "      1 |  112666 \n",
      "\n"
     ]
    }
   ],
   "source": [
    "# 2. Density of node degrees\n",
    "density_query = \"\"\"\n",
    "MATCH (s:Streamer)\n",
    "OPTIONAL MATCH (s)-[:COLLABORATED_WITH]->(other)\n",
    "WITH s, count(DISTINCT other) AS degree\n",
    "RETURN degree, count(*) AS density\n",
    "ORDER BY degree\n",
    "\"\"\"\n",
    "density_result = graph.run(density_query).to_table()\n",
    "print(\"\\nDensity of node degrees:\")\n",
    "print(density_result)"
   ]
  },
  {
   "cell_type": "code",
   "execution_count": null,
   "id": "46588716-0d25-4481-9d4a-f25eefd217ab",
   "metadata": {},
   "outputs": [],
   "source": [
    "# 3. Number of streamers with the \"mature\" tag\n",
    "mature_query = \"\"\"\n",
    "MATCH (s:Streamer)\n",
    "WHERE s.tags CONTAINS 'mature'\n",
    "RETURN count(s) AS mature_streamers\n",
    "\"\"\"\n",
    "mature_result = graph.run(mature_query).to_table()\n",
    "print(\"\\nNumber of streamers with the 'mature' tag:\")\n",
    "print(mature_result)"
   ]
  },
  {
   "cell_type": "code",
   "execution_count": null,
   "id": "f44be7a3-1091-4825-9570-1bc588c0166f",
   "metadata": {},
   "outputs": [],
   "source": [
    "# Connect to the Neo4j database\n",
    "graph = Graph(\"bolt://localhost:7687\", auth=(\"neo4j\", \"password_tuts\"), name=\"twitch\")\n",
    "\n",
    "# 4. Number of collaborations involving at least one streamer with the \"mature\" tag\n",
    "collaborations_mature_query = \"\"\"\n",
    "MATCH (s1:Streamer)-[r:COLLABORATED_WITH]->(s2:Streamer)\n",
    "WHERE s1.tags CONTAINS 'mature' OR s2.tags CONTAINS 'mature'\n",
    "RETURN count(r) AS collaborations_with_mature_tag\n",
    "\"\"\"\n",
    "collaborations_mature_result = graph.run(collaborations_mature_query).to_table()\n",
    "print(\"\\nNumber of collaborations involving at least one streamer with the 'mature' tag:\")\n",
    "print(collaborations_mature_result)"
   ]
  },
  {
   "cell_type": "code",
   "execution_count": null,
   "id": "f8f559d8-64c3-4b15-abba-851fb9469e6e",
   "metadata": {},
   "outputs": [],
   "source": [
    "# Connect to the Neo4j database\n",
    "graph = Graph(\"bolt://localhost:7687\", auth=(\"neo4j\", \"password_tuts\"), name=\"twitch\")\n",
    "\n",
    "# 5. Average number of collaborations for partners and non-partners\n",
    "partners_collaborations_query = \"\"\"\n",
    "MATCH (s1:Streamer)-[:COLLABORATED_WITH]->(s2:Streamer)\n",
    "WITH s1, s2, count(*) AS collaborations\n",
    "WITH s1, s2, collaborations, (s1)-[:PARTNER]->(s2) AS is_partner\n",
    "RETURN is_partner, avg(collaborations) AS avg_collaborations\n",
    "\"\"\"\n",
    "partners_collaborations_result = graph.run(partners_collaborations_query).to_table()\n",
    "print(\"\\nAverage number of collaborations for partners and non-partners:\")\n",
    "print(partners_collaborations_result) "
   ]
  }
 ],
 "metadata": {
  "kernelspec": {
   "display_name": "Python 3 (ipykernel)",
   "language": "python",
   "name": "python3"
  },
  "language_info": {
   "codemirror_mode": {
    "name": "ipython",
    "version": 3
   },
   "file_extension": ".py",
   "mimetype": "text/x-python",
   "name": "python",
   "nbconvert_exporter": "python",
   "pygments_lexer": "ipython3",
   "version": "3.11.5"
  }
 },
 "nbformat": 4,
 "nbformat_minor": 5
}
