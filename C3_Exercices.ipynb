{
 "cells": [
  {
   "cell_type": "markdown",
   "id": "6c5b5085-e529-4ced-b6a8-9fbbcd0d6032",
   "metadata": {},
   "source": [
    "## Exercises (Chapitre 3)"
   ]
  },
  {
   "cell_type": "code",
   "execution_count": 19,
   "id": "bc2e6079-b374-4440-857f-b724f1af65f7",
   "metadata": {
    "tags": []
   },
   "outputs": [
    {
     "data": {
      "text/plain": [
       "InsertOneResult(ObjectId('663419f144955a63f5305461'), acknowledged=True)"
      ]
     },
     "execution_count": 19,
     "metadata": {},
     "output_type": "execute_result"
    }
   ],
   "source": [
    "#1. Take the dict created in the TODO 4 in chapter I and save it in the collection \"CRUD_exercise\"\n",
    "\n",
    "# Connexion à MongoDB\n",
    "import pymongo\n",
    "client = pymongo.MongoClient(\"mongodb://localhost:27017/\")\n",
    "\n",
    "# Création de la base de données \"Todo\" et de la collection \"CRUD_exercise\"\n",
    "db = client[\"Todo\"]\n",
    "collection = db[\"CRUD_exercise\"]\n",
    "\n",
    "# Dictionnaire à enregistrer\n",
    "todo_dict = {\"key\": \"value\"}\n",
    "\n",
    "# Insérer le dictionnaire dans la collection\n",
    "collection.insert_one(todo_dict)"
   ]
  },
  {
   "cell_type": "code",
   "execution_count": 20,
   "id": "4eacea8e-d5fb-4857-bb5c-c0a9fe4df4ec",
   "metadata": {
    "tags": []
   },
   "outputs": [
    {
     "data": {
      "text/plain": [
       "UpdateResult({'n': 3, 'nModified': 3, 'ok': 1.0, 'updatedExisting': True}, acknowledged=True)"
      ]
     },
     "execution_count": 20,
     "metadata": {},
     "output_type": "execute_result"
    }
   ],
   "source": [
    "#2. Insert 3 documents with key = x and values = 1, delete one of them. Which one is deleted first ? the most recent or oldest one ? increment the value of x to 4\n",
    "\n",
    "# Insérer 3 documents\n",
    "documents = [{\"x\": 1}, {\"x\": 1}, {\"x\": 1}]\n",
    "collection.insert_many(documents)\n",
    "\n",
    "# Supprimer un document\n",
    "collection.delete_one({\"x\": 1})\n",
    "\n",
    "# Incrémenter la valeur de \"x\" à 4\n",
    "collection.update_many({}, {\"$set\": {\"x\": 4}})\n"
   ]
  },
  {
   "cell_type": "code",
   "execution_count": 21,
   "id": "4165744d-5d0d-4533-ad0b-72eb73ad8c2f",
   "metadata": {
    "tags": []
   },
   "outputs": [
    {
     "data": {
      "text/plain": [
       "InsertOneResult(ObjectId('66341a0944955a63f5305465'), acknowledged=True)"
      ]
     },
     "execution_count": 21,
     "metadata": {},
     "output_type": "execute_result"
    }
   ],
   "source": [
    "#3. Insert the dict created in the TODO 6 Chapter I in the example collection\n",
    "\n",
    "# Dictionnaire à insérer\n",
    "todo_dict_6 = {\"key\": \"value\"}\n",
    "\n",
    "# Insérer le dictionnaire dans la collection\n",
    "collection.insert_one(todo_dict_6)"
   ]
  },
  {
   "cell_type": "code",
   "execution_count": 22,
   "id": "70b659a6-213e-4e01-b24c-3aa328afc19d",
   "metadata": {
    "tags": []
   },
   "outputs": [],
   "source": [
    "#4. Get documents where authors key exist in the collection \"CRUD_exercise\"\n",
    "\n",
    "# Récupérer les documents où la clé \"authors\" existe\n",
    "result = collection.find({\"authors\": {\"$exists\": True}})\n",
    "for document in result:\n",
    "    print(document)"
   ]
  },
  {
   "cell_type": "code",
   "execution_count": 23,
   "id": "f7cb1cd0-2855-4faa-9905-09185ad372ae",
   "metadata": {
    "tags": []
   },
   "outputs": [
    {
     "data": {
      "text/plain": [
       "UpdateResult({'n': 3, 'nModified': 3, 'ok': 1.0, 'updatedExisting': True}, acknowledged=True)"
      ]
     },
     "execution_count": 23,
     "metadata": {},
     "output_type": "execute_result"
    }
   ],
   "source": [
    "#5. Change the documents where x = 4 to x = 1\n",
    "\n",
    "# Modifier les documents où \"x\" est égal à 4\n",
    "collection.update_many({\"x\": 4}, {\"$set\": {\"x\": 1}})\n"
   ]
  },
  {
   "cell_type": "code",
   "execution_count": 24,
   "id": "5ad0d5e7-98b9-469b-95d7-cfa62b365cb8",
   "metadata": {
    "tags": []
   },
   "outputs": [
    {
     "data": {
      "text/plain": [
       "UpdateResult({'n': 4, 'nModified': 4, 'ok': 1.0, 'updatedExisting': True}, acknowledged=True)"
      ]
     },
     "execution_count": 24,
     "metadata": {},
     "output_type": "execute_result"
    }
   ],
   "source": [
    "#6. Find documents where author is not_mike and set author as real_mike\n",
    "\n",
    "# Trouver les documents où l'auteur n'est pas \"Mike\" et les mettre à jour\n",
    "collection.update_many({\"author\": {\"$ne\": \"Mike\"}}, {\"$set\": {\"author\": \"Mike\"}})\n"
   ]
  },
  {
   "cell_type": "code",
   "execution_count": 25,
   "id": "52e1e5f2-4a30-49b4-8c97-d946ad5b4085",
   "metadata": {
    "tags": []
   },
   "outputs": [
    {
     "data": {
      "text/plain": [
       "DeleteResult({'n': 4, 'ok': 1.0}, acknowledged=True)"
      ]
     },
     "execution_count": 25,
     "metadata": {},
     "output_type": "execute_result"
    }
   ],
   "source": [
    "#7. Delete documents where author is real_mike\n",
    "\n",
    "# Supprimer les documents où l'auteur est \"Mike\"\n",
    "collection.delete_many({\"author\": \"Mike\"})"
   ]
  },
  {
   "cell_type": "markdown",
   "id": "077a094d-d2b5-44f4-b221-b83480b55873",
   "metadata": {},
   "source": [
    "#### Managing DB"
   ]
  },
  {
   "cell_type": "code",
   "execution_count": 26,
   "id": "74f8704f-2429-4797-a70b-33423f0fb7ff",
   "metadata": {
    "tags": []
   },
   "outputs": [
    {
     "name": "stdout",
     "output_type": "stream",
     "text": [
      "Temps d'exécution sans index: 0.0006990432739257812 secondes\n",
      "Temps d'exécution avec index: 0.0021240711212158203 secondes\n",
      "Nombre de documents sans index: 500\n",
      "Nombre de documents avec index: 500\n"
     ]
    }
   ],
   "source": [
    "#8. create a collection named \"CRUD_exercise_benchmark\" with 500k observations, ids increment of 2 (sequence:0,2,4,6,...1M). Give a random np.array with a key named \"values\" and use the insert_many. Then create an index on the id and benchmark queries before and after indexing. Did the index help ?\n",
    "\n",
    "import pymongo\n",
    "import time\n",
    "\n",
    "# Connexion à MongoDB\n",
    "client = pymongo.MongoClient(\"mongodb://localhost:27017/\")\n",
    "db = client[\"Todo\"]\n",
    "collection = db[\"CRUD_exercise_benchmark\"]\n",
    "\n",
    "# Exemple de requête sans index\n",
    "start_time = time.time()\n",
    "result_without_index = collection.find({\"_id\": {\"$lt\": 1000}})\n",
    "end_time = time.time()\n",
    "print(\"Temps d'exécution sans index:\", end_time - start_time, \"secondes\")\n",
    "\n",
    "# Création de l'index sur le champ \"_id\"\n",
    "collection.create_index([(\"_id\", pymongo.ASCENDING)])\n",
    "\n",
    "# Exemple de requête avec index\n",
    "start_time = time.time()\n",
    "result_with_index = collection.find({\"_id\": {\"$lt\": 1000}})\n",
    "end_time = time.time()\n",
    "print(\"Temps d'exécution avec index:\", end_time - start_time, \"secondes\")\n",
    "\n",
    "# Affichage des résultats\n",
    "print(\"Nombre de documents sans index:\", collection.count_documents({\"_id\": {\"$lt\": 1000}}))\n",
    "print(\"Nombre de documents avec index:\", collection.count_documents({\"_id\": {\"$lt\": 1000}}))"
   ]
  },
  {
   "cell_type": "code",
   "execution_count": null,
   "id": "027eab87-528e-436f-b4f5-e0babab70cd8",
   "metadata": {},
   "outputs": [],
   "source": [
    "#9. create a random collection in a random db and put the new collection in the tutorial DB\n",
    "\n",
    "import pymongo\n",
    "\n",
    "# Connexion à MongoDB\n",
    "client = pymongo.MongoClient(\"mongodb://localhost:27017/\")\n",
    "\n",
    "# Création d'une base de données aléatoire\n",
    "random_db = client[\"RandomDB\"]\n",
    "\n",
    "# Création d'une collection aléatoire\n",
    "random_collection = random_db[\"RandomCollection\"]\n",
    "\n",
    "# Placement de la nouvelle collection dans la base de données \"tutorial\"\n",
    "tutorial_db = client[\"tutorial\"]\n",
    "tutorial_db.create_collection(\"NewCollection\", capped=True, size=10000)"
   ]
  },
  {
   "cell_type": "markdown",
   "id": "f0562235-7ed1-4bd6-a1be-509e3e4148a4",
   "metadata": {
    "tags": []
   },
   "source": [
    "##### 10. What is the difference between an inner join and an outer join ? Is the query seen during course an inner or outer join ? Play with the query to show all the joins.\n",
    "\n",
    "La différence entre une jointure interne (inner join) et une jointure externe (outer join) est que la jointure interne ne renvoie que les lignes qui ont une correspondance dans les deux tables, tandis que la jointure externe renvoie toutes les lignes,que des correspondances existent ou non. La requête vue lors du cours est une jointure interne. Vous pouvez jouer avec la requête pour montrer toutes les jointures."
   ]
  },
  {
   "cell_type": "markdown",
   "id": "8c85b0a5-dc58-45fd-a6d6-193116e70c86",
   "metadata": {},
   "source": [
    "#### Real world problems"
   ]
  },
  {
   "cell_type": "code",
   "execution_count": 28,
   "id": "c256ce4c-9a61-4723-8c41-faf8b6b4cd3a",
   "metadata": {
    "tags": []
   },
   "outputs": [],
   "source": [
    "import pymongo\n",
    "import requests\n",
    "import pandas as pd\n",
    "import os\n",
    "from pymongo import MongoClient\n",
    "\n",
    "# MongoDB connection\n",
    "client = MongoClient('mongodb://localhost:27017/')\n",
    "db = client['mydatabase']\n",
    "\n",
    "# Problem 11: Insert papers into MongoDB\n",
    "def insert_papers():\n",
    "    papers = fetch_papers()\n",
    "    collection = db['papers']\n",
    "    collection.insert_many(papers[:200])\n",
    "\n",
    "def fetch_papers():\n",
    "    # Use your own code to fetch papers using oaipmh and API\n",
    "    papers = []  # Placeholder for fetched papers\n",
    "    return papers"
   ]
  },
  {
   "cell_type": "code",
   "execution_count": 4,
   "id": "4f2e3f6c-ec67-435b-8ec7-c6bdc88320d9",
   "metadata": {
    "tags": []
   },
   "outputs": [],
   "source": [
    "# Problem 13: Download and store a random image\n",
    "def download_image_and_store():\n",
    "    url = \"https://en.wikipedia.org/wiki/JPEG#/media/File:Felis_silvestris_silvestris_small_gradual_decrease_of_quality.png\"  \n",
    "    response = requests.get(url)\n",
    "    image_data = response.content\n",
    "    collection = db['images']\n",
    "    collection.insert_one({\"image_data\": image_data})"
   ]
  },
  {
   "cell_type": "code",
   "execution_count": 2,
   "id": "ca1fe8c7-6035-41ae-a8eb-fba8c0b18bde",
   "metadata": {
    "tags": []
   },
   "outputs": [],
   "source": [
    "# Problem 14: Store a pandas dataframe in MongoDB\n",
    "def store_dataframe():\n",
    "    df = pd.DataFrame({'A': [1, 2, 3], 'B': [4, 5, 6]})\n",
    "    df_dict = df.to_dict(orient='list')\n",
    "    collection = db['dataframes']\n",
    "    collection.insert_one(df_dict)"
   ]
  },
  {
   "cell_type": "code",
   "execution_count": 6,
   "id": "acc52e04-753e-4709-a4da-c759b7e74edd",
   "metadata": {
    "tags": []
   },
   "outputs": [
    {
     "name": "stdout",
     "output_type": "stream",
     "text": [
      "Importation des données terminée.\n"
     ]
    }
   ],
   "source": [
    "#import pymongo\n",
    "\n",
    "# Se connecter à MongoDB\n",
    "#client = pymongo.MongoClient(\"mongodb://localhost:27017/\")\n",
    "#db = client[\"ma_base_de_données\"]  \n",
    "#collection = db[\"avis_films\"]  \n",
    "\n",
    "# Importer les données depuis le fichier movie_review.tsv\n",
    "#with open(\"movie_review.tsv\", \"r\", encoding=\"utf-8\") as file:\n",
    "#    next(file)  # Ignorer l'en-tête\n",
    "#    for line in file:\n",
    "#        columns = line.strip().split(\"\\t\")\n",
    "#        review = {\n",
    "#            \"review_id\": int(columns[0]),\n",
    "#            \"review\": columns[1],\n",
    "#            \"sentiment\": columns[2]\n",
    "#        }\n",
    "#        collection.insert_one(review)\n",
    "\n",
    "#print(\"Importation des données terminée.\")\n",
    "\n",
    "\n",
    "# Peut-etre fait manuellement sur MongoDB Compass"
   ]
  },
  {
   "cell_type": "code",
   "execution_count": 22,
   "id": "4f479e22-bf39-46af-85c2-36caa510a7cb",
   "metadata": {
    "tags": []
   },
   "outputs": [
    {
     "name": "stdout",
     "output_type": "stream",
     "text": [
      "Nombre d'avis positifs : 42133\n",
      "Nombre d'avis négatifs : 34345\n",
      "Nombre d'avis contenant 'inattendu' : 188\n",
      "Densité de nombre de mots par critique : [{'wordCount': 11, 'SentenceId': 4461}, {'wordCount': 31, 'SentenceId': 661}, {'wordCount': 30, 'SentenceId': 7781}, {'wordCount': 5, 'SentenceId': 6225}, {'wordCount': 11, 'SentenceId': 3455}, {'wordCount': 21, 'SentenceId': 4425}, {'wordCount': 8, 'SentenceId': 7085}, {'wordCount': 13, 'SentenceId': 8531}, {'wordCount': 21, 'SentenceId': 8148}, {'wordCount': 41, 'SentenceId': 1377}]\n"
     ]
    }
   ],
   "source": [
    "# Problem 15: Insert movie_review.tsv data and query it\n",
    "\n",
    "import pymongo\n",
    "\n",
    "# Se connecter à MongoDB\n",
    "client = pymongo.MongoClient(\"mongodb://localhost:27017/\")\n",
    "db = client[\"ma_base_de_données\"]  # Remplacez \"ma_base_de_données\" par le nom de votre base de données\n",
    "collection = db[\"avis_films\"]\n",
    "\n",
    "# Nombre d'avis positifs et négatifs\n",
    "positive_count = collection.count_documents({\"Sentiment\": {\"$in\": [3, 4]}})\n",
    "negative_count = collection.count_documents({\"Sentiment\": {\"$in\": [0, 1]}})\n",
    "print(\"Nombre d'avis positifs :\", positive_count)\n",
    "print(\"Nombre d'avis négatifs :\", negative_count)\n",
    "\n",
    "# Nombre de documents avec \"inattendu\" dans la critique\n",
    "unexpected_count = collection.count_documents({\"Phrase\": {\"$regex\": \"unexpected\", \"$options\": \"i\"}})\n",
    "print(\"Nombre d'avis contenant 'inattendu' :\", unexpected_count)\n",
    "\n",
    "# Création d'une densité de nombre de mots par critique\n",
    "pipeline = [\n",
    "    {\"$group\": {\"_id\": \"$SentenceId\", \"wordCount\": {\"$sum\": 1}}},\n",
    "    {\"$project\": {\"_id\": 0, \"SentenceId\": \"$_id\", \"wordCount\": 1}},\n",
    "    {\"$limit\": 10}  # Limite à 10 résultats \n",
    "]\n",
    "word_count_results = list(collection.aggregate(pipeline))\n",
    "print(\"Densité de nombre de mots par critique :\", word_count_results)\n",
    "\n",
    "# Sinon : Pour tout afficher :\n",
    "# Création d'une densité de nombre de mots par critique\n",
    "#pipeline = [\n",
    "#    {\"$group\": {\"_id\": \"$SentenceId\", \"wordCount\": {\"$sum\": 1}}},\n",
    "#    {\"$project\": {\"_id\": 0, \"SentenceId\": \"$_id\", \"wordCount\": 1}}\n",
    "#]\n",
    "#word_count_results = list(collection.aggregate(pipeline))\n",
    "#print(\"Densité de nombre de mots par critique :\", word_count_results)\n"
   ]
  },
  {
   "cell_type": "code",
   "execution_count": null,
   "id": "973a080e-7da1-49d1-a0aa-87436e70b1f9",
   "metadata": {
    "tags": []
   },
   "outputs": [],
   "source": [
    "# Problem 16: Download and store a sound sample\n",
    "import requests\n",
    "\n",
    "def download_and_store_sound():\n",
    "    url = \"https://freesound.org/data/previews/158/158045_19887-lq.mp3\" \n",
    "    response = requests.get(url)\n",
    "    sound_data = response.content\n",
    "    collection = db['sounds']\n",
    "    collection.insert_one({\"sound_data\": sound_data})\n",
    "\n",
    "download_and_store_sound()"
   ]
  },
  {
   "cell_type": "code",
   "execution_count": null,
   "id": "4f1cb292-d2bb-4c86-9a34-4f2f28f60493",
   "metadata": {},
   "outputs": [],
   "source": [
    "# 17: Create a collection with 30M observation with a single key : \"year\" which is a random value between 2000-2020. Get documents with year = 2000. Does using an index helps ?\n",
    "\n",
    "import random\n",
    "\n",
    "def create_large_collection():\n",
    "    collection = db['large_collection']\n",
    "    for i in range(30000000):\n",
    "        year = {'year': random.randint(2000, 2020)}\n",
    "        collection.insert_one(year)\n",
    "\n",
    "create_large_collection()"
   ]
  }
 ],
 "metadata": {
  "kernelspec": {
   "display_name": "Python 3 (ipykernel)",
   "language": "python",
   "name": "python3"
  },
  "language_info": {
   "codemirror_mode": {
    "name": "ipython",
    "version": 3
   },
   "file_extension": ".py",
   "mimetype": "text/x-python",
   "name": "python",
   "nbconvert_exporter": "python",
   "pygments_lexer": "ipython3",
   "version": "3.11.5"
  }
 },
 "nbformat": 4,
 "nbformat_minor": 5
}
