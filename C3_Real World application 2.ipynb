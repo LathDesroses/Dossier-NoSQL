{
 "cells": [
  {
   "cell_type": "markdown",
   "id": "fd6a5cf6-3672-41f6-9b5a-1fdff16ce419",
   "metadata": {},
   "source": [
    "### Real World application 2 (Chapitre 3)"
   ]
  },
  {
   "cell_type": "code",
   "execution_count": 5,
   "id": "c44ae027-651f-41f9-b89f-8e4ddef9f96a",
   "metadata": {
    "tags": []
   },
   "outputs": [
    {
     "data": {
      "text/plain": [
       "'AND_ID_1'"
      ]
     },
     "execution_count": 5,
     "metadata": {},
     "output_type": "execute_result"
    }
   ],
   "source": [
    "# 1) Create an index, explain your choice of key.\n",
    "\n",
    "import pymongo\n",
    "\n",
    "# Se connecter à la base de données MongoDB\n",
    "client = pymongo.MongoClient('localhost', 27017)\n",
    "mydb = client[\"pubmed_authors\"]\n",
    "collection = mydb[\"authors\"]\n",
    "\n",
    "# Créer un index sur la clé AND_ID\n",
    "collection.create_index(\"AND_ID\")"
   ]
  },
  {
   "cell_type": "code",
   "execution_count": 8,
   "id": "d9d486a3-8a6b-4d48-bb7b-702a7cac4719",
   "metadata": {
    "tags": []
   },
   "outputs": [
    {
     "name": "stdout",
     "output_type": "stream",
     "text": [
      "Average length of pmid_list: 1.0\n"
     ]
    }
   ],
   "source": [
    "# 2) What is the average length of \"pmid_list\"\n",
    "\n",
    "# Requête d'agrégation pour calculer la longueur moyenne de la liste \"pmid_list\"\n",
    "pipeline = [\n",
    "    {\"$match\": {\"pmid_list\": {\"$type\": \"array\"}}},  # Filtrer les documents avec pmid_list sous forme de liste\n",
    "    {\"$match\": {\"pmid_list\": {\"$ne\": None}}},  # Filtrer les documents où pmid_list n'est pas null\n",
    "    {\"$unwind\": \"$pmid_list\"},  # Dérouler la liste \"pmid_list\"\n",
    "    {\"$group\": {\"_id\": None, \"avg_pmid_count\": {\"$avg\": 1}}}  # Calculer la moyenne du nombre de pmid_list\n",
    "]\n",
    "\n",
    "# Exécuter la requête d'agrégation\n",
    "result = list(collection.aggregate(pipeline))\n",
    "\n",
    "# Afficher le résultat\n",
    "if result:\n",
    "    average_length = result[0][\"avg_pmid_count\"]\n",
    "    print(\"Average length of pmid_list:\", average_length)\n",
    "else:\n",
    "    print(\"No documents found in the collection.\")"
   ]
  },
  {
   "cell_type": "code",
   "execution_count": 9,
   "id": "8013b295-0150-454b-9c61-a9cb1c41ab56",
   "metadata": {
    "tags": []
   },
   "outputs": [
    {
     "name": "stdout",
     "output_type": "stream",
     "text": [
      "Number of distinct affiliations: 318595\n"
     ]
    }
   ],
   "source": [
    "# 3) How many distinct affiliations are there ?\n",
    "\n",
    "pipeline = [\n",
    "    {\"$match\": {\"oa04_affiliations\": {\"$exists\": True, \"$ne\": []}}},  # Filter out documents with empty or non-existent oa04_affiliations field\n",
    "    {\"$unwind\": \"$oa04_affiliations\"},  # Unwind the oa04_affiliations array\n",
    "    {\"$group\": {\"_id\": \"$oa04_affiliations.Affiliation\"}},  # Group by the Affiliation field and count distinct values\n",
    "    {\"$group\": {\"_id\": None, \"count\": {\"$sum\": 1}}}  # Count the distinct affiliations\n",
    "]\n",
    "\n",
    "# Execute the aggregation pipeline\n",
    "result = list(collection.aggregate(pipeline))\n",
    "\n",
    "# Extract the count from the result\n",
    "if result:\n",
    "    distinct_affiliations_count = result[0][\"count\"]\n",
    "    print(\"Number of distinct affiliations:\", distinct_affiliations_count)\n",
    "else:\n",
    "    print(\"No documents found with oa04_affiliations.\")"
   ]
  },
  {
   "cell_type": "code",
   "execution_count": 11,
   "id": "c72354e4-1b73-46dc-bc57-fa1291c072d6",
   "metadata": {
    "tags": []
   },
   "outputs": [
    {
     "name": "stdout",
     "output_type": "stream",
     "text": [
      "Number of authors who switched AffiliationType: 21670\n"
     ]
    }
   ],
   "source": [
    "# 4) Find authors with atleast one \"COM\" AffiliationType\n",
    "\n",
    "pipeline = [\n",
    "    {\"$unwind\": \"$oa04_affiliations\"},  # Unwind the oa04_affiliations array\n",
    "    {\"$group\": {\"_id\": \"$AND_ID\", \"affiliation_types\": {\"$addToSet\": \"$oa04_affiliations.AffiliationType\"}}},  # Group by author and collect distinct AffiliationTypes\n",
    "    {\"$match\": {\"affiliation_types.1\": {\"$exists\": True}}}  # Match authors who have more than one distinct AffiliationType\n",
    "]\n",
    "\n",
    "# Execute the aggregation pipeline\n",
    "result = list(collection.aggregate(pipeline))\n",
    "\n",
    "# Count the authors who switched AffiliationType\n",
    "count = len(result)\n",
    "\n",
    "print(\"Number of authors who switched AffiliationType:\", count)"
   ]
  },
  {
   "cell_type": "code",
   "execution_count": 9,
   "id": "fd14d8de-e78d-487c-8149-274ced77e10c",
   "metadata": {},
   "outputs": [
    {
     "name": "stdout",
     "output_type": "stream",
     "text": [
      "{'id': 693, 'PMID': 275, 'AND_ID': 2519679, 'AuOrder': 3, 'LastName': 'Schaefer', 'ForeName': 'U W', 'Initials': 'UW', 'Suffix': nan, 'AuNum': 4, 'PubYear': 1975, 'BeginYear': 1971}\n",
      "{'id': 891, 'PMID': 361, 'AND_ID': 1648874, 'AuOrder': 1, 'LastName': 'Mehta', 'ForeName': 'R J', 'Initials': 'RJ', 'Suffix': nan, 'AuNum': 1, 'PubYear': 1975, 'BeginYear': 1968}\n",
      "{'id': 1039, 'PMID': 413, 'AND_ID': 1683950, 'AuOrder': 1, 'LastName': 'Mürer', 'ForeName': 'E H', 'Initials': 'EH', 'Suffix': nan, 'AuNum': 3, 'PubYear': 1975, 'BeginYear': 1967}\n",
      "{'id': 1146, 'PMID': 458, 'AND_ID': 2495621, 'AuOrder': 2, 'LastName': 'Chu', 'ForeName': 'S H', 'Initials': 'SH', 'Suffix': nan, 'AuNum': 3, 'PubYear': 1975, 'BeginYear': 1972}\n",
      "{'id': 1414, 'PMID': 562, 'AND_ID': 7407821, 'AuOrder': 3, 'LastName': 'Goodman', 'ForeName': 'S A', 'Initials': 'SA', 'Suffix': nan, 'AuNum': 6, 'PubYear': 1975, 'BeginYear': 1972}\n",
      "{'id': 1429, 'PMID': 570, 'AND_ID': 8580663, 'AuOrder': 2, 'LastName': 'Friedhoff', 'ForeName': 'A J', 'Initials': 'AJ', 'Suffix': nan, 'AuNum': 2, 'PubYear': 1975, 'BeginYear': 1958}\n",
      "{'id': 2022, 'PMID': 826, 'AND_ID': 1184009, 'AuOrder': 6, 'LastName': 'Blumenstock', 'ForeName': 'D', 'Initials': 'D', 'Suffix': nan, 'AuNum': 7, 'PubYear': 1975, 'BeginYear': 1956}\n",
      "{'id': 2219, 'PMID': 919, 'AND_ID': 2016878, 'AuOrder': 3, 'LastName': 'Woodall', 'ForeName': 'J P', 'Initials': 'JP', 'Suffix': nan, 'AuNum': 4, 'PubYear': 1975, 'BeginYear': 1959}\n",
      "{'id': 2866, 'PMID': 1187, 'AND_ID': 6188565, 'AuOrder': 2, 'LastName': 'Raschetti', 'ForeName': 'R', 'Initials': 'R', 'Suffix': nan, 'AuNum': 4, 'PubYear': 1975, 'BeginYear': 1973}\n",
      "{'id': 3240, 'PMID': 1342, 'AND_ID': 5956973, 'AuOrder': 2, 'LastName': 'Stanworth', 'ForeName': 'D R', 'Initials': 'DR', 'Suffix': nan, 'AuNum': 2, 'PubYear': 1975, 'BeginYear': 1957}\n"
     ]
    }
   ],
   "source": [
    "# 5) How many authors switched the AffiliationType ?\n",
    "\n",
    "pipeline = [\n",
    "    {\"$match\": {\"oa04_affiliations\": {\"$elemMatch\": {\"AffiliationType\": \"COM\"}}}},  # Filter documents with at least one \"COM\" AffiliationType\n",
    "    {\"$project\": {\"more_info\": 1}},  # Project only the more_info field\n",
    "    {\"$unwind\": \"$more_info\"},  # Unwind the more_info array\n",
    "    {\"$group\": {\"_id\": \"$more_info\", \"count\": {\"$sum\": 1}}}  # Group by more_info and count occurrences\n",
    "]\n",
    "\n",
    "\n",
    "# Execute the aggregation pipeline and limit the result to the first 10 authors\n",
    "result = list(collection.aggregate(pipeline))[:10]\n",
    "\n",
    "# Extract the authors with at least one \"COM\" AffiliationType\n",
    "if result:\n",
    "    for author in result:\n",
    "        print(author[\"_id\"])\n",
    "else:\n",
    "    print(\"No authors found with at least one 'COM' AffiliationType.\")\n",
    "\n",
    "\n",
    "#Pour tout afficher :\n",
    "# Execute the aggregation pipeline\n",
    "#result = list(collection.aggregate(pipeline))\n",
    "\n",
    "# Extract the authors with at least one \"COM\" AffiliationType\n",
    "#if result:\n",
    "#    for author in result:\n",
    "#        print(author[\"_id\"])\n",
    "#else:\n",
    "#    print(\"No authors found with at least one 'COM' AffiliationType.\")"
   ]
  },
  {
   "cell_type": "code",
   "execution_count": 11,
   "id": "840f185b-dfe7-4c58-b83b-6f894d912a22",
   "metadata": {},
   "outputs": [
    {
     "name": "stdout",
     "output_type": "stream",
     "text": [
      "School of Medicine, Huzhou University, Huzhou Centeral Hospital, 759 Erhuan RD, Huzhou, Zhejing Province, 313000, China. Electronic address: aring2000@163.com.\n",
      "Department of Basic Medical Science, Xi'an Medical University, China. suxingli@126.com\n",
      "Department of Urology, Peking University First Hospital, Beijing, 100034, China. xuesongli123@sina.cn.\n",
      "Department of Radiology, Jiangxi Province Medical Imaging Research Institute, the First Affiliated Hospital of Nanchang University, No.17, Yongwai Zheng Street, Donghu District, Nanchang, 330006, Jiangxi Province, People's Republic of China.\n",
      "College of Life Sciences, Nanjing Normal University, Nanjing, China.\n",
      "Department of Obstetrics and Gynecology, Peking University People's Hospital, No. 11, Xi-Zhi-Men South Street, Xi Cheng District, Beijing, 100044, China.\n",
      "The Applied Plant Genomics Laboratory, National Key Laboratory of Crop Genetics and Germplasm Enhancement, Nanjing Agricultural University, Nanjing 210095, Jiangsu, China.\n",
      "Key Laboratory of Crop Genetics and Breeding of Ministry of Agriculture, Institute of Crop Breeding and Cultivation, Chinese Academy of Agriculture Sciences, Beijing 100081, China.\n",
      "State Key Laboratory of Trauma, Burn, and Combined Injury, Department of Trauma Surgery, Daping Hospital, Third Military Medical University, ChongQing, China.\n",
      "From the Department of Medicine and Therapeutics (W.-J.Y., X.-Y.C., K.-S.W.) and Department of Anatomical and Cellular Pathology (H.-K.N.), Chinese University of Hong Kong, Shatin, Hong Kong SAR, China; Centre for Diabetic Systems Medicine, Guangxi Key Laboratory of Excellence, Guilin Medical University, Guilin, China (H.-L.Z.); Department of Pathology, China-Japan Union Hospital Affiliated to Jilin University, China (C.-B.N.); and Department of Radiology (B.Z.) and Department of Neurology (Y.X.), Affiliated Drum Tower Hospital of Nanjing University Medical School, China.\n",
      "Key Laboratory for Agro-Ecological Processes in Subtropical Region, Hunan Research Center of Livestock & Poultry Sciences, South-Central Experimental Station of Animal Nutrition and Feed Science in Ministry of Agriculture, Institute of Subtropical Agriculture, The Chinese Academy of Sciences , Changsha, Hunan 410125, People's Republic of China.\n",
      "College of Biotechnology, Tianjin University of Science and Technology, Tianjin 300457, China.\n",
      "Shanghai Key Laboratory of Green Chemistry and Chemical Processes, School of Chemistry and Molecular Engineering, East China Normal University, Shanghai, 200062, P.R. China.\n",
      "State Key Laboratory of Bioelectronics, School of Biological Science & Medical Engineering, Southeast University, Nanjing 210096, China. Electronic address: jiahuiwuu@163.com.\n",
      "Department of Urology, The First Affiliated Hospital of Nanchang University, Nanchang, Jiangxi, People's Republic of China.\n",
      "School of Psychology, Shenzhen University, Shenzhen, China.\n",
      "Department of Urology, First Hospital of China Medical University, Shenyang, China.\n",
      "Department of Orthopaedics, Xiangya Hospital, Central South University, Changsha, Hunan Province, China, 410008.\n",
      "Biotechnology Research Institute, Chinese Academy of Agricultural Science, Beijing 100081, China.\n",
      "Department of Respiratory Medicine, Nanjing Medical University Affiliated Wuxi Second Hospital, Wuxi 214002, Jiangsu Province, China.\n",
      "Institute of Applied Ecology, Fujian Agriculture and Forestry UniversityFuzhou, China; Fujian-Taiwan Joint Centre for Ecological Control of Crop Pests, Fujian Agriculture and Forestry UniversityFuzhou, China; Key Laboratory of Integrated Pest Management for Fujian-Taiwan Crops, Ministry of AgricultureFuzhou, China.\n",
      "CAS Key Laboratory of Infection and Immunity, CAS Center for Excellence in Biomacromolecules, Institute of Biophysics, Chinese Academy of Sciences, Beijing 100101, China. Electronic address: wangshuo@moon.ibp.ac.cn.\n",
      "Institute of Neuroscience, Tzu Chi College of Medicine and Humanities, Hualien 970, Taiwan, Republic of China. tbjkuo@mail.tcu.edu.tw\n",
      "Institute of Functional Nano & Soft Materials (FUNSOM), Jiangsu Key Laboratory for Carbon-Based Functional Materials & Devices, Soochow University, 199 Ren'ai Road, Suzhou, 215123, Jiangsu, P. R. China.\n",
      "Department of Aquatic Animal Medicine, College of Fisheries, Huazhong Agricultural University, Wuhan, 430070, China.\n",
      "7Central China Normal University, Wuhan, China.\n",
      "Department of Colorectal Surgery, The First Affiliated Hospital of Harbin Medical University, Harbin, Heilongjiang 150001, P.R. China.\n",
      "National Research and Development center for Freshwater Fish Processing, Jiangxi Normal University, Nanchang, China.\n",
      "Tea Research Institute, Qingdao Agricultural University, Qingdao, China.\n",
      "School of Mathematical Sciences, University of Chinese Academy of Sciences, Beijing 100190, China.\n",
      "Center for Stem Cell and Regenerative Medicine, Zhejiang University School of Medicine, Hangzhou, China.\n",
      "State Key Laboratory of Crop Stress Adaptation and Improvement, School of Life Sciences, Henan University, Kaifeng 475001, China.\n",
      "Department of Radiology, Fudan University Shanghai Cancer Center, 270 Dong An Road, Shanghai, 200032, China.\n",
      "Department of Chemistry, Capital Normal University, Xisanhuan North Road. 105, Beijing, 100048, China.\n",
      "Shandong Medical Imaging Research Institute, Shandong University, No. 44 West Wenhua Road, Jinan, 250012 PR China.\n",
      "Institute of Agricultural Bio-Environmental Engineering, College of Bio-systems Engineering and Food Science, Zhejiang University, 866 Yuhangtang Road, Hangzhou, 310058, China.\n",
      "4School of Life Science and Technology, Shanghai Tech University, Shanghai, China.\n",
      "From the Department of Cardiology, Renmin Hospital of Wuhan University, China (Y.Y., L.Y., Q.-Q.W., H.Z., Y.-G.J., Z.-Y.B., W.D., Z.Y., D.-F.S., H.L., Q.-Z.T.); and Cardiovascular Research Institute of Wuhan University, China (Y.Y., L.Y., Q.-Q.W., H.Z., Y.-G.J., Z.-Y.B., W.D., Z.Y., D.-F.S., X.-F.Z., S.-S.W., H.L., Q.-Z.T.).\n",
      "Huai'an First People's Hospital, Nanjing Medical University Huai'an, China.\n",
      "Institute of Reproduction and Stem Cell Engineering, School of Basic Medical Science, Central South University, Changsha 86 Hunan, China.\n",
      "National Key Facility for Crop Gene Resources and Genetic Improvement, Department of Center for Crop Germplasm Resources, Institute of Crop Sciences, Chinese Academy of Agricultural Sciences, Beijing, China.\n",
      "Tianjin Key Laboratory of Biomedical Detecting Techniques and Instruments, Tianjin University, Tianjin, China.\n",
      "Department of Urology, Tongji Hospital, Tongji Medical College, Huazhong University of Science and Technology, Wuhan, China.\n",
      "Department of Endodontics, Jinan Stomatological Hospital Jinan 250001, Shandong, China.\n",
      "State Key Laboratory of Medical Molecular Biology, Institute of Basic Medical Sciences, Chinese Academy of Medical Sciences, Department of Biochemistry, Peking Union Medical College, Beijing, 100005, China.\n",
      "Department of Prenatal Diagnostic Center, Guangzhou Women and Children's Medical Center, Guangzhou Medical University, Guangzhou, Guangdong, China.\n",
      "Tianjin Key Laboratory of TCM Chemistry and Analysis, Institute of Traditional Chinese Medicine, Tianjin University of Traditional Chinese Medicine, Tianjin, 300193, China.\n",
      "Department of Clinical Laboratory, Shandong Provincial Hospital Affiliated to Shandong University, Jinan, China.\n",
      "Key Laboratory of Developmental Genes and Human Diseases, Institute of Life Sciences, Southeast University, 2 Sipailou Road, Nanjing, Jiangsu, 210096, China.\n",
      "Xishuangbanna Tropical Botanical Garden Chinese Academy of Sciences Menglun China.\n",
      "Department of Basic Medicine, Nursing College, Zhengzhou University, Zhengzhou, 450000, PR China.\n",
      "Beijing Key Laboratory of Farmland Soil Pollution Prevention and Remediation, College of Resources and Environmental Sciences, China Agricultural University, Beijing, 100193, China.\n",
      "Department of Mechanics and Engineering Science, College of Engineering, Peking University, Beijing, China.\n",
      "Changchun Normal University, Changchun 130032, Jilin, China.\n",
      "CRAES: Chinese Research Academy of Environmental Sciences, Beijing, China.\n",
      "Beijing Key Laboratory of Cardiometabolic Molecular Medicine, Institute of Molecular Medicine, Peking University, Beijing, China.\n",
      "Department of Ocean Science and Engineering, Southern University of Science and Technology, 518055 Shenzhen, China; jason@sustech.edu.cn.\n",
      "College of Forestry, Henan University of Science and Technology , Luoyang, China.\n",
      "Department of Obstetrics and Gynaecology, Qilu Hospital, Shandong University, Jinan, Shandong 250012, P.R. China.\n",
      "Department of Respiratory Medicine, the First Affiliated Hospital of Xi'an Jiaotong University, Xi'an, Shaanxi 710061, China.\n",
      "Department of Horticulture, School of Horticulture and Plant Protection, Yangzhou University, Yangzhou, China.\n",
      "1 Department of Dermatology, Huashan Hospital, Fudan University, Shanghai, China.\n",
      "National Clinical Research Center for Oral Diseases; Shanghai Key Laboratory of Stomatology & Shanghai Research Institute of Stomatology, Shanghai, China.\n",
      "Yunnan Key Laboratory of Laboratory Medicine, Kunming, China.\n",
      "Faculty of Chemical Engineering, Kunming University of Science and Technology, Kunming 650500, China. Electronic address: penglincai@kust.edu.cn.\n",
      "Department of Ultrasound, Sun Yat-Sen University Cancer Center, Guangzhou, China.\n",
      "Department of Chemistry and Center of Novel Functional Molecules, The Chinese University of Hong Kong, Shatin, Hong Kong, China. tonyshing@cuhk.edu.hk\n",
      "State Key Laboratory of Pharmaceutical Biotechnology, Jiangsu Engineering Research Center for MicroRNA Biology and Biotechnology, NJU Advanced Institute for Life Sciences (NAILS), School of Life Sciences, Nanjing University, 163 Xianlin Road, Nanjing, Jiangsu, 210046, China.\n",
      "Key Laboratory of Cancer Proteomics of Chinese Ministry of Health, Institute of Medical Sciences, Xiangya Hospital, Central South University, Xiangya Road 87th, Changsha, 410008, Hunan, PR China. 714151179@qq.com.\n",
      "Department of Immunology, School of Basic Medical Sciences, Capital Medical University, Beijing, China.\n",
      "Department of Biochemistry, North Sichuan Medical College, Nanchong, Sichuan, China. Electronic address: wanghanyan@nsmc.edu.cn.\n",
      "Department of Tuberculosis Control, Shanghai Municipal Center for Disease Control and Prevention, Shanghai, China, <email></email>, Email: shenxin@scdc.sh.cn.\n",
      "Institute of Radiation Medicine, Chinese Academy of Medical Science and Peking Union Medical Collage, Tianjin Key Laboratory of Radiation Medicine and Molecular Nuclear Medicine, Tianjin 300192, China. tianzhenyuan1027@126.com.\n",
      "Graduate Institute of Integrated Medicine, China Medical University, Taichung, Taiwan; Department of Chinese Medicine, China Medical University Hospital, Taichung, Taiwan.\n",
      "Chemical and Environmental Engineering Institute, Dalian University, Dalian, 116622, China.\n",
      "Department of Neurology, Beijing Hepingli Hospital, No.18 North Street Hepingli, Dongcheng District, Beijing, 100013, China.\n",
      "Department of Minimal Invasive Intervention, Sun Yat-Sen University Cancer Center, State Key Laboratory of Oncology in South China, Collaborative Innovation Center for Cancer Medicine, Guangzhou, People's Republic of China.\n",
      "Obstetrics and Gynecology Hospital of Fudan University, Shanghai, China.\n",
      "Department of Chemistry, School of Science, Beijing Technology and Business University, Beijing, 100048, P.R. China.\n",
      "Key Laboratory of Food Nutrition and Safety, Ministry of Education, College of Food Engineering and Biotechnology, Tianjin University of Science & Technology, Tianjin 300457, China. sjwang@tust.edu.cn s.wang@tust.edu.cn.\n",
      "b Department of Transfusion Medicine, Laboratory of Platelet and Endothelium Biology , Wuhan Hospital of Traditional Chinese and Western Medicine, Tongji Medical College, Huazhong University of Science and Technology , Wuhan , China.\n",
      "National Engineering Research Center for Nanomedicine, College of Life Science and Technology, Huazhong University of Science and Technology, Wuhan 430074, China.\n",
      "Department of Orthopaedics, The Second Affiliated Hospital of Soochow University, China.\n",
      "Department of Medical Oncology, Zhongshan Hospital, Fudan University, Shanghai, 200032, P. R. China.\n",
      "Department of Oral and Maxillofacial Surgery, Peking University School and Hospital of Stomatology, Beijing, PR China.\n",
      "Institute of Botany, Chinese Academy of Sciences, 100093, Beijing, China.\n",
      "State Key Laboratory of Organic Geochemistry, Guangzhou Institute of Geochemistry, Chinese Academy of Sciences, Guangzhou 510640, China.\n",
      "Department of Chemistry, Capital Normal University, Beijing 100048, China.\n",
      "National Key Laboratory of Rice Biology, China National Rice Research Institute, Hangzhou 310006, China.\n",
      "School of Life Sciences, Shaoxing University, Shaoxing, Zhejiang 312000, China.\n",
      "Department of Obstetrics and Gynaecology, School of Clinical Medicine, Beijing Tsinghua Changgung Hospital, Tsinghua University, Beijing, China.\n",
      "Department of Health, Yancheng Maternal and Child Health Care Hospital, Yancheng, People's Republic of China.\n",
      "State Key Laboratory of Dao-di Herbs, National Resource Center for Chinese Materia Medica, China Academy of Chinese Medical Sciences Beijing 100700, China.\n",
      "China National Comprehensive Stroke Center, Department of Neurology, the First Hospital of Jilin University, Xinmin Street No. 1, Chang Chun,. China.\n",
      "State Key Laboratory of Oncology in South China, Collaborative Innovation Center for Cancer Medicine, Sun Yat-sen University Cancer Center, Guangzhou, China.\n",
      "Department of Pharmacology and Toxicology, Beijing Institute of Radiation Medicine, Beijing 100850, China.\n",
      "China Pharmaceutical University, Nanjing.\n",
      "1Peking University Research Center on Aging, Department of Biochemistry and Molecular Biology, School of Basic Medical Sciences, Peking University Health Science Center, Beijing Key Laboratory of Protein Posttranslational Modifications and Cell Function, Beijing, China.\n",
      "Jiangsu Key Laboratory of TCM Evaluation and Translational Research, China Pharmaceutical University, Nanjing, Jiangsu 211198, China. Electronic address: liujihua@cpu.edu.cn.\n",
      "Fourth Clinical Medicine College, Nanjing Medical University, Nanjing, China.\n",
      "College of Marine Life and Fisheries, Huaihai Institute of Technology, Lianyungang 222005, China. shujunwang86@163.com.\n"
     ]
    },
    {
     "name": "stderr",
     "output_type": "stream",
     "text": [
      "IOPub data rate exceeded.\n",
      "The Jupyter server will temporarily stop sending output\n",
      "to the client in order to avoid crashing it.\n",
      "To change this limit, set the config variable\n",
      "`--ServerApp.iopub_data_rate_limit`.\n",
      "\n",
      "Current values:\n",
      "ServerApp.iopub_data_rate_limit=1000000.0 (bytes/sec)\n",
      "ServerApp.rate_limit_window=3.0 (secs)\n",
      "\n"
     ]
    }
   ],
   "source": [
    "# 6) Find affiliation with the word \"China\" \n",
    "\n",
    "import re\n",
    "\n",
    "# Define the regex pattern to match affiliations containing the word \"China\"\n",
    "pattern = re.compile(\"China\", re.IGNORECASE)\n",
    "\n",
    "pipeline = [\n",
    "    {\"$unwind\": \"$oa04_affiliations\"},  # Unwind the oa04_affiliations array\n",
    "    {\"$match\": {\"oa04_affiliations.Affiliation\": {\"$regex\": pattern}}},  # Match affiliations containing the word \"China\"\n",
    "    {\"$project\": {\"_id\": 0, \"Affiliation\": \"$oa04_affiliations.Affiliation\"}}  # Project only the Affiliation field\n",
    "]\n",
    "\n",
    "# Execute the aggregation pipeline\n",
    "cursor = collection.aggregate(pipeline)\n",
    "\n",
    "# Display the affiliations containing the word \"China\"\n",
    "count = 0\n",
    "for affiliation in cursor:\n",
    "    print(affiliation[\"Affiliation\"])\n",
    "    count += 1\n",
    "\n",
    "print(\"Total affiliations containing the word 'China':\", count)"
   ]
  },
  {
   "cell_type": "code",
   "execution_count": 17,
   "id": "5f073156-dc70-4dfc-82e4-6c51c07e671f",
   "metadata": {},
   "outputs": [
    {
     "name": "stdout",
     "output_type": "stream",
     "text": [
      "PMIDs of papers published in 2019:\n",
      "30972486\n",
      "30859659\n",
      "31388046\n",
      "31787945\n",
      "31055204\n",
      "30653778\n",
      "30654984\n",
      "30610279\n",
      "31646943\n",
      "30741784\n"
     ]
    }
   ],
   "source": [
    "# 7) Get the pmids of papers published in 2019\n",
    "\n",
    "pipeline = [\n",
    "    {\"$unwind\": \"$more_info\"},  # Unwind the more_info array\n",
    "    {\"$match\": {\"more_info.PubYear\": 2019}},  # Match documents with a PubYear of 2019\n",
    "    {\"$project\": {\"_id\": 0, \"PMID\": \"$more_info.PMID\"}}  # Project only the PMID field\n",
    "]\n",
    "\n",
    "# Execute the aggregation pipeline and limit the result to the first 10 PMIDs\n",
    "cursor = collection.aggregate(pipeline, allowDiskUse=True)\n",
    "\n",
    "# Collect the PMIDs, limited to the first 10\n",
    "pmids = [doc[\"PMID\"] for doc in cursor][:10]\n",
    "\n",
    "# Display the PMIDs\n",
    "print(\"PMIDs of papers published in 2019:\")\n",
    "for pmid in pmids:\n",
    "    print(pmid)\n",
    "\n",
    "\n",
    "#Pour tout afficher :\n",
    "# Execute the aggregation pipeline\n",
    "#cursor = collection.aggregate(pipeline)\n",
    "\n",
    "# Collect the PMIDs\n",
    "#pmids = [doc[\"PMID\"] for doc in cursor]\n",
    "\n",
    "# Display the PMIDs\n",
    "#print(\"PMIDs of papers published in 2019:\")\n",
    "#for pmid in pmids:\n",
    "#    print(pmid)"
   ]
  },
  {
   "cell_type": "code",
   "execution_count": 15,
   "id": "b891ea63-8e86-487c-8d3c-3e84eae12c4d",
   "metadata": {
    "tags": []
   },
   "outputs": [
    {
     "name": "stdout",
     "output_type": "stream",
     "text": [
      "Number of documents with oa06_researcher_education or oa04_affiliations key and with both oa06_researcher_education and oa04_affiliations keys: 903\n"
     ]
    }
   ],
   "source": [
    "# 8) Count the number of doc with \"oa06_researcher_education\" OR \"oa04_affiliations\" key and with the \"oa06_researcher_education\" AND \"oa04_affiliations\" .\n",
    "\n",
    "pipeline = [\n",
    "    {\n",
    "        \"$match\": {\n",
    "            \"$or\": [\n",
    "                {\"oa06_researcher_education\": {\"$exists\": True}},\n",
    "                {\"oa04_affiliations\": {\"$exists\": True}}\n",
    "            ],\n",
    "            \"$and\": [\n",
    "                {\"oa06_researcher_education\": {\"$exists\": True}},\n",
    "                {\"oa04_affiliations\": {\"$exists\": True}}\n",
    "            ]\n",
    "        }\n",
    "    },\n",
    "    {\"$count\": \"total_documents\"}\n",
    "]\n",
    "\n",
    "# Execute the aggregation pipeline\n",
    "result = list(collection.aggregate(pipeline))\n",
    "\n",
    "# Extract the count of documents\n",
    "total_documents = result[0][\"total_documents\"] if result else 0\n",
    "\n",
    "# Display the count\n",
    "print(\"Number of documents with oa06_researcher_education or oa04_affiliations key and with both oa06_researcher_education and oa04_affiliations keys:\", total_documents)"
   ]
  },
  {
   "cell_type": "code",
   "execution_count": 25,
   "id": "d3ec3d39-a8d6-45e3-a48e-b3b4e17e2aa8",
   "metadata": {},
   "outputs": [
    {
     "name": "stdout",
     "output_type": "stream",
     "text": [
      "{'_id': ObjectId('6242c7c5022d5c5d474a0453'), 'BeginYear': '2016'}\n",
      "{'_id': ObjectId('6242c7c5022d5c5d474a048e'), 'BeginYear': '2007'}\n",
      "{'_id': ObjectId('6242c7c5022d5c5d474a04a4'), 'BeginYear': '2011'}\n",
      "{'_id': ObjectId('6242c7c5022d5c5d474a04bd'), 'BeginYear': '2016'}\n",
      "{'_id': ObjectId('6242c7c5022d5c5d474a04bd'), 'BeginYear': '2007'}\n",
      "{'_id': ObjectId('6242c7c5022d5c5d474a04bd'), 'BeginYear': '2012'}\n",
      "{'_id': ObjectId('6242c7c5022d5c5d474a04d5'), 'BeginYear': '2013'}\n",
      "{'_id': ObjectId('6242c7c5022d5c5d474a04df'), 'BeginYear': '2013'}\n",
      "{'_id': ObjectId('6242c7c5022d5c5d474a04f0'), 'BeginYear': '2002'}\n",
      "{'_id': ObjectId('6242c7c5022d5c5d474a0526'), 'BeginYear': '1999'}\n"
     ]
    }
   ],
   "source": [
    "# 9) What's the average \"BeginYear\" of \"oa06_researcher_education\".\n",
    "\n",
    "pipeline = [\n",
    "    {\"$unwind\": \"$oa06_researcher_education\"},  # Dérouler le tableau oa06_researcher_education\n",
    "    {\"$project\": {\"BeginYear\": \"$oa06_researcher_education.BeginYear\"}},  # Projeter les valeurs de BeginYear\n",
    "]\n",
    "\n",
    "result = list(collection.aggregate(pipeline))[:10]  # Limiter les résultats aux 10 premiers\n",
    "\n",
    "for doc in result:\n",
    "    print(doc)\n",
    "\n",
    "#Pour tout afficher :\n",
    "#pipeline = [\n",
    "#    {\"$unwind\": \"$oa06_researcher_education\"},  # Unwind the oa06_researcher_education array\n",
    "#    {\"$project\": {\"BeginYear\": \"$oa06_researcher_education.BeginYear\"}},  # Project the BeginYear values\n",
    "#]\n",
    "\n",
    "#result = list(collection.aggregate(pipeline))\n",
    "\n",
    "#for doc in result:\n",
    "#    print(doc)"
   ]
  },
  {
   "cell_type": "code",
   "execution_count": 23,
   "id": "a655f7e0-fd12-4058-9fe0-07340af48061",
   "metadata": {
    "tags": []
   },
   "outputs": [
    {
     "name": "stdout",
     "output_type": "stream",
     "text": [
      "Distinct countries count: 101\n"
     ]
    }
   ],
   "source": [
    "# 10) Count the distinct country of \"oa06_researcher_education\"\n",
    "\n",
    "pipeline = [\n",
    "    {\"$unwind\": \"$oa06_researcher_education\"},  # Unwind the oa06_researcher_education array\n",
    "    {\"$group\": {\"_id\": \"$oa06_researcher_education.Country\"}},  # Group by country\n",
    "    {\"$match\": {\"_id\": {\"$ne\": None}}},  # Filter out null values\n",
    "    {\"$group\": {\"_id\": None, \"count\": {\"$sum\": 1}}}  # Count the distinct countries\n",
    "]\n",
    "\n",
    "result = list(collection.aggregate(pipeline))\n",
    "\n",
    "if result:\n",
    "    distinct_countries_count = result[0]['count']\n",
    "    print(\"Distinct countries count:\", distinct_countries_count)\n",
    "else:\n",
    "    print(\"No data found.\")"
   ]
  },
  {
   "cell_type": "code",
   "execution_count": 29,
   "id": "c8782025-9ea0-4521-a058-0557ba806789",
   "metadata": {},
   "outputs": [
    {
     "name": "stdout",
     "output_type": "stream",
     "text": [
      "Pour le document avec AND_ID 16569575, la longueur de pmid_list (1) correspond à la longueur de more_info (1)\n",
      "Pour le document avec AND_ID 1323299, la longueur de pmid_list (1) correspond à la longueur de more_info (1)\n",
      "Pour le document avec AND_ID 8005653, la longueur de pmid_list (1) correspond à la longueur de more_info (1)\n",
      "Pour le document avec AND_ID 697768, la longueur de pmid_list (1) correspond à la longueur de more_info (1)\n",
      "Pour le document avec AND_ID 5325855, la longueur de pmid_list (3) correspond à la longueur de more_info (3)\n",
      "Pour le document avec AND_ID 17358905, la longueur de pmid_list (1) correspond à la longueur de more_info (1)\n",
      "Pour le document avec AND_ID 18124378, la longueur de pmid_list (1) correspond à la longueur de more_info (1)\n",
      "Pour le document avec AND_ID 4280730, la longueur de pmid_list (2) correspond à la longueur de more_info (2)\n",
      "Pour le document avec AND_ID 9102178, la longueur de pmid_list (1) correspond à la longueur de more_info (1)\n",
      "Pour le document avec AND_ID 432137, la longueur de pmid_list (1) correspond à la longueur de more_info (1)\n"
     ]
    }
   ],
   "source": [
    "# 11) Does the length of pmid_list and more_info always match ?\n",
    "\n",
    "\n",
    "# Récupérer les 10 premiers documents de la collection\n",
    "documents = collection.find().limit(10)\n",
    "\n",
    "# Parcourir les documents et vérifier la correspondance des longueurs\n",
    "for doc in documents:\n",
    "    pmid_list_length = len(doc[\"pmid_list\"])\n",
    "    more_info_length = len(doc[\"more_info\"])\n",
    "    if pmid_list_length != more_info_length:\n",
    "        print(f\"Pour le document avec AND_ID {doc['AND_ID']}, la longueur de pmid_list ({pmid_list_length}) ne correspond pas à la longueur de more_info ({more_info_length})\")\n",
    "    else:\n",
    "        print(f\"Pour le document avec AND_ID {doc['AND_ID']}, la longueur de pmid_list ({pmid_list_length}) correspond à la longueur de more_info ({more_info_length})\")\n",
    "\n",
    "\n",
    "#Pour tout afficher :\n",
    "# Récupérer tous les documents de la collection\n",
    "#documents = collection.find()\n",
    "\n",
    "# Parcourir les documents et vérifier la correspondance des longueurs\n",
    "#for doc in documents:\n",
    "#    pmid_list_length = len(doc[\"pmid_list\"])\n",
    "#    more_info_length = len(doc[\"more_info\"])\n",
    "#    if pmid_list_length != more_info_length:\n",
    "#        print(f\"Pour le document avec AND_ID {doc['AND_ID']}, la longueur de pmid_list ({pmid_list_length}) ne correspond pas à la longueur de more_info ({more_info_length})\")\n",
    "#    else:\n",
    "#        print(f\"Pour le document avec AND_ID {doc['AND_ID']}, la longueur de pmid_list ({pmid_list_length}) correspond à la longueur de more_info ({more_info_length})\")"
   ]
  },
  {
   "cell_type": "code",
   "execution_count": 33,
   "id": "94a472d7-fbdc-420f-b7aa-d5ab5a8a8330",
   "metadata": {},
   "outputs": [
    {
     "name": "stdout",
     "output_type": "stream",
     "text": [
      "For document with _id: 6242c7c5022d5c5d474a044e, lengths do not match.\n",
      "For document with _id: 6242c7c5022d5c5d474a044f, lengths match.\n",
      "For document with _id: 6242c7c5022d5c5d474a0450, lengths match.\n",
      "For document with _id: 6242c7c5022d5c5d474a0451, lengths match.\n",
      "For document with _id: 6242c7c5022d5c5d474a0452, lengths do not match.\n",
      "For document with _id: 6242c7c5022d5c5d474a0453, lengths do not match.\n",
      "For document with _id: 6242c7c5022d5c5d474a0454, lengths do not match.\n",
      "For document with _id: 6242c7c5022d5c5d474a0455, lengths do not match.\n",
      "For document with _id: 6242c7c5022d5c5d474a0456, lengths match.\n",
      "For document with _id: 6242c7c5022d5c5d474a0457, lengths match.\n"
     ]
    }
   ],
   "source": [
    "# 12) Does the length of pmid_list and \"oa04_affiliations\" always match ?\n",
    "\n",
    "# Récupérer les 10 premiers documents de la collection\n",
    "documents = collection.find().limit(10)\n",
    "\n",
    "# Parcourir les documents et vérifier la correspondance des longueurs\n",
    "for doc in documents:\n",
    "    pmid_list_length = len(doc.get(\"pmid_list\", []))\n",
    "    oa04_affiliations_length = len(doc.get(\"oa04_affiliations\", []))\n",
    "    \n",
    "    # Check if the lengths match\n",
    "    if pmid_list_length == oa04_affiliations_length:\n",
    "        print(f\"For document with _id: {doc['_id']}, lengths match.\")\n",
    "    else:\n",
    "        print(f\"For document with _id: {doc['_id']}, lengths do not match.\")\n",
    "\n",
    "#Pour tout afficher : \n",
    "# Iterate through each document in the collection\n",
    "#for doc in collection.find():\n",
    "#    pmid_list_length = len(doc.get(\"pmid_list\", []))\n",
    "#    oa04_affiliations_length = len(doc.get(\"oa04_affiliations\", []))\n",
    "    \n",
    "    # Check if the lengths match\n",
    "#    if pmid_list_length == oa04_affiliations_length:\n",
    "#        print(f\"For document with _id: {doc['_id']}, lengths match.\")\n",
    "#    else:\n",
    "#        print(f\"For document with _id: {doc['_id']}, lengths do not match.\")"
   ]
  },
  {
   "cell_type": "markdown",
   "id": "0ffc2b59-4de0-4821-b488-ce82eed8eea8",
   "metadata": {},
   "source": [
    "# 13) Sandbox exercise: think of a problematic and try to answer it.\n",
    "\n",
    "Le problème ici est d'identifier les auteurs dont l'affiliation indiquée dans les informations supplémentaires (more_info) ne correspond pas à une affiliation répertoriée dans les affiliations associées à l'article (oa04_affiliations). Pour résoudre ce problème, nous devons comparer les affiliations des auteurs avec les affiliations de l'article et signaler toute incohérence.\n",
    "\n",
    "Voici comment nous pouvons aborder ce problème :\n",
    "\n",
    "1/Parcourir chaque document.\n",
    "2/Extraire les listes d'affiliations des 3/auteurs (more_info) et celles de l'article (oa04_affiliations).\n",
    "4/Pour chaque auteur, comparer son 5/affiliation avec chaque affiliation de l'article.\n",
    "6/Si une correspondance est trouvée, passer à l'auteur suivant.\n",
    "7/Si aucune correspondance n'est trouvée pour un auteur, signaler l'incohérence."
   ]
  },
  {
   "cell_type": "code",
   "execution_count": null,
   "id": "5476d3a0-c25f-4900-96bc-3ebfc2d7c07f",
   "metadata": {},
   "outputs": [],
   "source": [
    "# 13) Sandbox exercise: think of a problematic and try to answer it.\n",
    "\n",
    "import pymongo\n",
    "\n",
    "# Se connecter à la base de données MongoDB\n",
    "client = pymongo.MongoClient('localhost', 27017)\n",
    "mydb = client[\"pubmed_authors\"]\n",
    "collection = mydb[\"authors\"]\n",
    "\n",
    "# Créer un index sur la clé AND_ID\n",
    "collection.create_index(\"AND_ID\")\n",
    "\n",
    "# Parcourir chaque document\n",
    "for document in collection.find():\n",
    "    pmid_list = document.get('pmid_list', [])\n",
    "    more_info = document.get('more_info', [])\n",
    "    oa04_affiliations = document.get('oa04_affiliations', [])\n",
    "\n",
    "    # Vérifier si les longueurs de pmid_list et more_info correspondent\n",
    "    matching_lengths = len(pmid_list) == len(more_info)\n",
    "    if not matching_lengths:\n",
    "        print(f\"Les longueurs de pmid_list et more_info pour AND_ID {document['AND_ID']} ne correspondent pas.\")\n",
    "\n",
    "    # Vérifier si les longueurs de pmid_list et oa04_affiliations correspondent\n",
    "    matching_lengths_affiliations = len(pmid_list) == len(oa04_affiliations)\n",
    "    if not matching_lengths_affiliations:\n",
    "        print(f\"Les longueurs de pmid_list et oa04_affiliations pour AND_ID {document['AND_ID']} ne correspondent pas.\")\n",
    "\n",
    "    # Vérifier les affiliations des auteurs\n",
    "    for info in more_info:\n",
    "        author_affiliation = info.get('Affiliation', '')\n",
    "        # Vérifier si l'affiliation de l'auteur est dans les affiliations de l'article\n",
    "        match_found = False\n",
    "        for affiliation_info in oa04_affiliations:\n",
    "            if author_affiliation == affiliation_info.get('Affiliation', ''):\n",
    "                match_found = True\n",
    "                break\n",
    "        # Si aucune correspondance n'est trouvée, signaler l'incohérence\n",
    "        if not match_found:\n",
    "            print(f\"Incohérence potentielle pour l'auteur {info['LastName']} {info['ForeName']}: \"\n",
    "                  f\"L'affiliation '{author_affiliation}' n'a pas été trouvée dans les affiliations de l'article.\")"
   ]
  }
 ],
 "metadata": {
  "kernelspec": {
   "display_name": "Python 3 (ipykernel)",
   "language": "python",
   "name": "python3"
  },
  "language_info": {
   "codemirror_mode": {
    "name": "ipython",
    "version": 3
   },
   "file_extension": ".py",
   "mimetype": "text/x-python",
   "name": "python",
   "nbconvert_exporter": "python",
   "pygments_lexer": "ipython3",
   "version": "3.11.5"
  }
 },
 "nbformat": 4,
 "nbformat_minor": 5
}
