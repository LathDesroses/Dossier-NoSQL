{
 "cells": [
  {
   "cell_type": "markdown",
   "id": "6380d1cf-db61-4fc5-84b3-5985ee53d4de",
   "metadata": {},
   "source": [
    "## EXERCICE 3 (Chapitre 1)"
   ]
  },
  {
   "cell_type": "code",
   "execution_count": 1,
   "id": "55afbdc7-1904-41c1-a55e-d99fc73e730f",
   "metadata": {
    "tags": []
   },
   "outputs": [
    {
     "name": "stdout",
     "output_type": "stream",
     "text": [
      "1. Average age of customers: 40.9362102143283714\n"
     ]
    }
   ],
   "source": [
    "import psycopg2\n",
    "\n",
    "# Connect to PostgreSQL database\n",
    "conn = psycopg2.connect(dbname=\"new_db\", user=\"postgres\", password=\"root\", host=\"localhost\", port=\"5432\")\n",
    "\n",
    "# Create a cursor object\n",
    "cur = conn.cursor()\n",
    "\n",
    "# Define functions to execute queries and fetch results\n",
    "def execute_query(query):\n",
    "    cur.execute(query)\n",
    "    return cur.fetchall()\n",
    "\n",
    "# 1. Average age of customers\n",
    "query_1 = \"SELECT AVG(age) FROM bank_full;\"\n",
    "average_age = execute_query(query_1)[0][0]\n",
    "print(\"1. Average age of customers:\", average_age)"
   ]
  },
  {
   "cell_type": "code",
   "execution_count": 2,
   "id": "e131ba05-6df2-493f-8e80-799931a09025",
   "metadata": {
    "tags": []
   },
   "outputs": [
    {
     "name": "stdout",
     "output_type": "stream",
     "text": [
      "2. Number of customers who defaulted on loans: 815\n"
     ]
    }
   ],
   "source": [
    "# 2. Number of customers who defaulted on loans\n",
    "query_2 = \"SELECT COUNT(*) FROM bank_full WHERE default_ = 'yes';\"\n",
    "defaulted_customers = execute_query(query_2)[0][0]\n",
    "print(\"2. Number of customers who defaulted on loans:\", defaulted_customers)"
   ]
  },
  {
   "cell_type": "code",
   "execution_count": 3,
   "id": "a3dcd21d-a9a2-4c6c-8596-50d697a06f7a",
   "metadata": {
    "tags": []
   },
   "outputs": [
    {
     "name": "stdout",
     "output_type": "stream",
     "text": [
      "3. Maximum balance in the account: 102127\n"
     ]
    }
   ],
   "source": [
    "# 3. Maximum balance in the account\n",
    "query_3 = \"SELECT MAX(balance) FROM bank_full;\"\n",
    "max_balance = execute_query(query_3)[0][0]\n",
    "print(\"3. Maximum balance in the account:\", max_balance)"
   ]
  },
  {
   "cell_type": "code",
   "execution_count": 4,
   "id": "843fe2e2-e613-4896-bf80-75c0cc721cc0",
   "metadata": {
    "tags": []
   },
   "outputs": [
    {
     "name": "stdout",
     "output_type": "stream",
     "text": [
      "4. Number of customers with a housing loan: 25130\n"
     ]
    }
   ],
   "source": [
    "# 4. Number of customers with a housing loan\n",
    "query_4 = \"SELECT COUNT(*) FROM bank_full WHERE housing = 'yes';\"\n",
    "housing_loan_customers = execute_query(query_4)[0][0]\n",
    "print(\"4. Number of customers with a housing loan:\", housing_loan_customers)"
   ]
  },
  {
   "cell_type": "code",
   "execution_count": 5,
   "id": "ce9208ea-01d1-49d7-9680-c4bbb9151cd0",
   "metadata": {
    "tags": []
   },
   "outputs": [
    {
     "name": "stdout",
     "output_type": "stream",
     "text": [
      "5. Education level of the youngest customer: primary\n"
     ]
    }
   ],
   "source": [
    "# 5. Education level of the youngest customer\n",
    "query_5 = \"SELECT education FROM bank_full WHERE age = (SELECT MIN(age) FROM bank_full);\"\n",
    "education_youngest_customer = execute_query(query_5)[0][0]\n",
    "print(\"5. Education level of the youngest customer:\", education_youngest_customer)"
   ]
  },
  {
   "cell_type": "code",
   "execution_count": 6,
   "id": "adc685ad-9d13-4c02-96f2-041c5af8d452",
   "metadata": {
    "tags": []
   },
   "outputs": [
    {
     "name": "stdout",
     "output_type": "stream",
     "text": [
      "6. Marital status of the oldest customer: divorced\n"
     ]
    }
   ],
   "source": [
    "# 6. Marital status of the oldest customer\n",
    "query_6 = \"SELECT marital FROM bank_full WHERE age = (SELECT MAX(age) FROM bank_full);\"\n",
    "marital_oldest_customer = execute_query(query_6)[0][0]\n",
    "print(\"6. Marital status of the oldest customer:\", marital_oldest_customer)"
   ]
  },
  {
   "cell_type": "code",
   "execution_count": 7,
   "id": "78eb242c-a01b-48e8-b84d-f8e60292a3c3",
   "metadata": {
    "tags": []
   },
   "outputs": [
    {
     "name": "stdout",
     "output_type": "stream",
     "text": [
      "7. Distribution of the months in which customers were last contacted:\n",
      "oct : 738\n",
      "apr : 2932\n",
      "jul : 6895\n",
      "may : 13766\n",
      "jan : 1403\n",
      "nov : 3970\n",
      "dec : 214\n",
      "aug : 6247\n",
      "jun : 5341\n",
      "mar : 477\n",
      "sep : 579\n",
      "feb : 2649\n"
     ]
    }
   ],
   "source": [
    "# 7. Distribution of the months in which customers were last contacted\n",
    "query_7 = \"SELECT month, COUNT(*) FROM bank_full GROUP BY month;\"\n",
    "months_distribution = execute_query(query_7)\n",
    "print(\"7. Distribution of the months in which customers were last contacted:\")\n",
    "for month, count in months_distribution:\n",
    "    print(month, \":\", count)"
   ]
  },
  {
   "cell_type": "code",
   "execution_count": 8,
   "id": "3a2d6870-d00c-4514-87d9-db1951215622",
   "metadata": {
    "tags": []
   },
   "outputs": [
    {
     "name": "stdout",
     "output_type": "stream",
     "text": [
      "8. Average duration of contact for customers with a personal loan: 250.8453892876863611\n"
     ]
    }
   ],
   "source": [
    "# 8. Average duration of contact for customers with a personal loan\n",
    "query_8 = \"SELECT AVG(duration) FROM bank_full WHERE loan = 'yes';\"\n",
    "avg_contact_duration_loan = execute_query(query_8)[0][0]\n",
    "print(\"8. Average duration of contact for customers with a personal loan:\", avg_contact_duration_loan)"
   ]
  },
  {
   "cell_type": "code",
   "execution_count": 9,
   "id": "47bc5151-c023-41b6-ab5f-d1053b0c303b",
   "metadata": {
    "tags": []
   },
   "outputs": [
    {
     "name": "stdout",
     "output_type": "stream",
     "text": [
      "9. Number of customers previously contacted: 8257\n",
      "   Average duration of their last contact: 260.1186871745185903\n"
     ]
    }
   ],
   "source": [
    "# 9. Number of customers previously contacted and their average duration of last contact\n",
    "query_9 = \"SELECT COUNT(*), AVG(duration) FROM bank_full WHERE previous > 0;\"\n",
    "contacted_count_avg_duration = execute_query(query_9)[0]\n",
    "print(\"9. Number of customers previously contacted:\", contacted_count_avg_duration[0])\n",
    "print(\"   Average duration of their last contact:\", contacted_count_avg_duration[1])"
   ]
  },
  {
   "cell_type": "code",
   "execution_count": 10,
   "id": "dedf8866-9899-4177-a1e1-3658b0c7e236",
   "metadata": {
    "tags": []
   },
   "outputs": [
    {
     "name": "stdout",
     "output_type": "stream",
     "text": [
      "10. Distribution of job types among customers:\n",
      "retired : 2264\n",
      "housemaid : 1240\n",
      "admin. : 5171\n",
      "management : 9458\n",
      "blue-collar : 9732\n",
      "entrepreneur : 1487\n",
      "services : 4154\n",
      "technician : 7597\n",
      "unknown : 288\n",
      "self-employed : 1579\n",
      "student : 938\n",
      "unemployed : 1303\n"
     ]
    }
   ],
   "source": [
    "# 10. Distribution of job types among customers\n",
    "query_10 = \"SELECT job, COUNT(*) FROM bank_full GROUP BY job;\"\n",
    "job_distribution = execute_query(query_10)\n",
    "print(\"10. Distribution of job types among customers:\")\n",
    "for job, count in job_distribution:\n",
    "    print(job, \":\", count)"
   ]
  },
  {
   "cell_type": "code",
   "execution_count": 11,
   "id": "5eb21f5d-36ad-41a4-95d7-402ad8427079",
   "metadata": {
    "tags": []
   },
   "outputs": [
    {
     "name": "stdout",
     "output_type": "stream",
     "text": [
      "11. Number of customers contacted more than once in the current campaign: 3\n"
     ]
    }
   ],
   "source": [
    "# 11. Number of customers contacted more than once in the current campaign\n",
    "query_11 = \"\"\"\n",
    "           SELECT COUNT(*)\n",
    "           FROM (\n",
    "               SELECT COUNT(*) AS contact_count\n",
    "               FROM bank_full\n",
    "               GROUP BY contact\n",
    "               HAVING COUNT(*) > 1\n",
    "           ) AS repeated_contacts_subquery;\n",
    "           \"\"\"\n",
    "repeated_contacts = execute_query(query_11)[0][0]\n",
    "print(\"11. Number of customers contacted more than once in the current campaign:\", repeated_contacts)"
   ]
  },
  {
   "cell_type": "code",
   "execution_count": 12,
   "id": "b06c7d9a-a778-42c6-a011-7eda74c0c9c9",
   "metadata": {
    "tags": []
   },
   "outputs": [
    {
     "name": "stdout",
     "output_type": "stream",
     "text": [
      "12. Success rate of previous marketing campaigns (poutcome) among customers:\n",
      "other : 1840\n",
      "failure : 4901\n",
      "unknown : 36959\n",
      "success : 1511\n"
     ]
    }
   ],
   "source": [
    "# 12. Success rate of previous marketing campaigns (poutcome) among customers\n",
    "query_12 = \"SELECT poutcome, COUNT(*) FROM bank_full GROUP BY poutcome;\"\n",
    "poutcome_distribution = execute_query(query_12)\n",
    "print(\"12. Success rate of previous marketing campaigns (poutcome) among customers:\")\n",
    "for poutcome, count in poutcome_distribution:\n",
    "    print(poutcome, \":\", count)"
   ]
  },
  {
   "cell_type": "code",
   "execution_count": null,
   "id": "e7227b9c-3c04-499a-b68a-1edfc8ce430f",
   "metadata": {},
   "outputs": [],
   "source": [
    "# Close cursor and connection\n",
    "cur.close()\n",
    "conn.close()"
   ]
  }
 ],
 "metadata": {
  "kernelspec": {
   "display_name": "Python 3 (ipykernel)",
   "language": "python",
   "name": "python3"
  },
  "language_info": {
   "codemirror_mode": {
    "name": "ipython",
    "version": 3
   },
   "file_extension": ".py",
   "mimetype": "text/x-python",
   "name": "python",
   "nbconvert_exporter": "python",
   "pygments_lexer": "ipython3",
   "version": "3.11.5"
  }
 },
 "nbformat": 4,
 "nbformat_minor": 5
}
