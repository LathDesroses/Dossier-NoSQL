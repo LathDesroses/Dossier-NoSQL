{
 "cells": [
  {
   "cell_type": "markdown",
   "id": "c5e90d03-dffb-43e6-8d79-52e95f8099ad",
   "metadata": {},
   "source": [
    "### Real World application 1 (Chapitre 3)"
   ]
  },
  {
   "cell_type": "code",
   "execution_count": 23,
   "id": "de7f9a50-52d3-4a64-a39d-1a0502397383",
   "metadata": {
    "tags": []
   },
   "outputs": [
    {
     "name": "stdout",
     "output_type": "stream",
     "text": [
      "{'_id_': {'v': 2, 'key': [('_id', 1)]}, 'date_1': {'v': 2, 'key': [('date', 1)]}}\n"
     ]
    }
   ],
   "source": [
    "# 1) Create an index, explain your choice of key.\n",
    "\n",
    "import pymongo\n",
    "\n",
    "# Se connecter à la base de données MongoDB\n",
    "client = pymongo.MongoClient('localhost', 27017)\n",
    "mydb = client[\"pubmed_cleaned\"]\n",
    "collection = mydb[\"pubmed_collection\"]\n",
    "\n",
    "# Créer un index sur la clé 'date'\n",
    "collection.create_index(\"date\")\n",
    "\n",
    "# Confirmer la création de l'index\n",
    "index_info = collection.index_information()\n",
    "print(index_info)"
   ]
  },
  {
   "cell_type": "code",
   "execution_count": 28,
   "id": "fb62b8bf-07ca-4bb6-8bfa-14570dd9966b",
   "metadata": {
    "tags": []
   },
   "outputs": [
    {
     "name": "stdout",
     "output_type": "stream",
     "text": [
      "5 articles ont été supprimés.\n"
     ]
    }
   ],
   "source": [
    "# 2) Delete every paper that was published prior 2019\n",
    "\n",
    "# Supprimer tous les articles publiés avant 2019\n",
    "result = collection.delete_many({\"date\": {\"$lt\": \"year 2019\"}})\n",
    "\n",
    "# Afficher le nombre d'articles supprimés\n",
    "print(f\"{result.deleted_count} articles ont été supprimés.\")"
   ]
  },
  {
   "cell_type": "code",
   "execution_count": 29,
   "id": "aa552fcd-ae45-490b-b77e-3c53d53b2913",
   "metadata": {
    "tags": []
   },
   "outputs": [
    {
     "name": "stdout",
     "output_type": "stream",
     "text": [
      "Nombre d'articles avec un seul auteur : 5250\n",
      "Nombre d'articles avec deux auteurs : 10124\n"
     ]
    }
   ],
   "source": [
    "# 3) How many paper have a single author ? Two authors ?\n",
    "\n",
    "# Compter le nombre de documents avec un seul auteur\n",
    "single_author_count = collection.count_documents({\"team_size\": 1})\n",
    "\n",
    "# Compter le nombre de documents avec deux auteurs\n",
    "two_authors_count = collection.count_documents({\"team_size\": 2})\n",
    "\n",
    "print(f\"Nombre d'articles avec un seul auteur : {single_author_count}\")\n",
    "print(f\"Nombre d'articles avec deux auteurs : {two_authors_count}\")\n"
   ]
  },
  {
   "cell_type": "code",
   "execution_count": 30,
   "id": "1f3499e6-06b3-4718-84b1-dbd77a4ab910",
   "metadata": {
    "tags": []
   },
   "outputs": [
    {
     "name": "stdout",
     "output_type": "stream",
     "text": [
      "Dernier document inséré :\n",
      "{'_id': ObjectId('60c753bac4b7559e040fe2b3'), 'pmid': 31226374, 'title': 'Identification of a novel UDP-glycosyltransferase gene from Rhodiola rosea and its expression during biotransformation of upstream precursors in callus culture.', 'ISSN': '1879-0003', 'abstract': ' \"Roseroot (Rhodiola rosea L.) is a medicinal plant with adaptogenic properties and several pharmaceutically important metabolites. In this study, a full length cDNA encoding a UDPG gene of roseroot was identified, cloned and characterized. Its ORF (1425bp) was transferred into E. coli, where the expression of the recombinant enzyme was confirmed. To monitor the enzyme activity, 3 precursors (tyramine, 4-hydroxyphenylpyruvate & tyrosol) of salidroside biosynthesis pathway were added to roseroot callus cultures and samples were harvested after 1, 6, 12, 24, 48 & 96h. Along with the controls (without precursor feeding), each sample was subjected to HPLC and qRT-PCR for phytochemical and relative UDP-glycosyltransferase gene expression analysis, respectively. The HPLC analysis showed that the salidroside content significantly increased; reaching 0.5% of the callus dry weight (26-fold higher than the control) after 96h when 2mM tyrosol was given to the media. The expression of the UDP-glycosyltransferase increased significantly being the highest at 12h after the feeding. The effect of tyramine and 4-hydroxyphenylpyruvate was not as pronounced as of tyrosol. Here, we introduce a R. rosea specific UDPG gene and its expression pattern after biotransformation of intermediate precursors in in vitro roseroot callus cultures.\", ', 'meshwords': 'Biotransformation \\nCulture Techniques \\nGene Expression Regulation\\nGlycosyltransferases\\nPhenylethyl Alcohol\\nPhylogeny \\nRhodiola\\nUridine Diphosphate', 'meshsubwords': 'genetics \\nmetabolism \\nanalogs & derivatives \\nmetabolism \\nenzymology \\ngenetics \\ngrowth & development \\nmetabolism ', 'authors': 'name ml Mirmazloum I, affil str Department of Plant Physiology and Plant Biochemistry, Szent Istvan University, Budapest, Hungary; Food Science Innovation Centre, Kaposvar University, Kaposvar, Hungary. Electronic address: Mirmazloum.Iman@kertk.szie.hu.\\nname ml Ladanyi M, affil str Department of Biometrics and Agricultural Informatics, Szent Istvan University, Budapest, Hungary.\\nname ml Beinrohr L, affil str Institute of Enzymology, Research Centre for Natural Sciences, Hungarian Academy of Sciences, Budapest, Hungary.\\nname ml Kiss-Baba E, affil str Department of Plant Physiology and Plant Biochemistry, Szent Istvan University, Budapest, Hungary.\\nname ml Kiss A, affil str Food Science Innovation Centre, Kaposvar University, Kaposvar, Hungary.\\nname ml Gyorgy Z, affil str Department of Genetics and Plant Breeding, Szent Istvan University, Budapest, Hungary.', 'source': 'journal: \"International journal of biological macromolecules\" ', 'grants': None, 'date': 'year 2019, month 6, day 22, hour 6, minute 0', 'date_received': 'year 2019, month 1, day 24', 'date_accepted': 'year 2019, month 6, day 12', 'date_medline': 'year 2020, month 1, day 17, hour 6, minute 0', 'doi': '10.1016/j.ijbiomac.2019.06.086', 'unix': 1561154400, 'unix_received': 1548284400, 'unix_accepted': 1560290400, 'unix_medline': 1579215600, 'team_size': 6, 'share_aff_captured': 1, 'is_eu': 1, 'inter_collab': 0, 'is_coronavirus_lower': 0, 'nb_country': 1, 'country_list': 'Hungary'}\n"
     ]
    }
   ],
   "source": [
    "# 4) What's the last paper inserted in the db ?\n",
    "\n",
    "# Trier les documents par date d'insertion en ordre décroissant\n",
    "latest_paper = collection.find_one(sort=[(\"_id\", pymongo.DESCENDING)])\n",
    "\n",
    "print(\"Dernier document inséré :\")\n",
    "print(latest_paper)"
   ]
  },
  {
   "cell_type": "code",
   "execution_count": 36,
   "id": "3209450c-9f96-4347-8496-7e8a0ee39044",
   "metadata": {
    "tags": []
   },
   "outputs": [
    {
     "name": "stdout",
     "output_type": "stream",
     "text": [
      "{'_id': ObjectId('60c73446c4b7559e0406ca15'), 'pmid': 30618194, 'title': 'Liberating Native Mass Spectrometry from Dependence on Volatile Salt Buffers by Use of Gabor Transform.', 'ISSN': '1439-7641', 'abstract': ' \"Volatile salts, such as ammonium acetate, are commonly used in buffers for the analysis of intact proteins and protein complexes in native electrospray ionization mass spectrometry. Although these solutions are not technically buffers near pH 7, the volatile nature of the salt minimizes ion adduction to proteins upon transfer to vacuum. Conversely, common biochemical salt buffers, such as Tris/NaCl, are not traditionally used in native mass spectrometry because of the tendency of sodium and other ions to adduct to proteins or form large cluster ions, severely frustrating accurate mass assignment. Here, we demonstrate a Gabor transform method for extracting signal from native-like protein ions even in the presence of a large salt-cluster background. We further show the utility of this method in characterizing polymers and show that the measured average mass of long-chain polyethylene glycol ions from a commercial polymer sample is approximately 30 % higher than the manufacturer-estimated average mass. It is expected that this method will enable more widespread use of conventional biochemical buffers in native mass spectrometry and decrease dependence on volatile salts.\", idnum { \"1752994/National Science Foundation\" }', 'meshwords': None, 'meshsubwords': None, 'authors': 'name ml Cleary SP, affil str Department of Chemistry and Biochemistry, 1253 University of Oregon, Eugene, OR 97403-1253, USA.\\nname ml Prell JS, affil str Department of Chemistry and Biochemistry, 1253 University of Oregon, Eugene, OR 97403-1253, USA.; Materials Science Institute, 1252 University of Oregon, Eugene, OR 97403-1252, USA.', 'source': 'journal: \"Chemphyschem : a European journal of chemical physics and physical chemistry\" ', 'grants': '  \"1752994/National Science Foundation\" ', 'date': 'year 2019, month 1, day 9, hour 6, minute 0', 'date_received': 'year 2019, month 1, day 4', 'date_accepted': None, 'date_medline': 'year 2019, month 1, day 9, hour 6, minute 1', 'doi': '10.1002/cphc.201900022', 'unix': 1546988400, 'unix_received': 1546556400, 'unix_accepted': None, 'unix_medline': 1546988400, 'team_size': 2, 'share_aff_captured': 1, 'is_eu': 0, 'inter_collab': 0, 'is_coronavirus_lower': 0, 'nb_country': 1, 'country_list': 'United States'}\n",
      "{'_id': ObjectId('60c7345ec4b7559e0406d177'), 'pmid': 30620089, 'title': 'Palladium-Catalyzed Carbo-Oxygenation of Propargylic Amines using in Situ Tether Formation.', 'ISSN': '1521-3765', 'abstract': ' \"1,2-Amino alcohols and alpha-aminocarbonyls are frequently found in natural products, drugs, chiral auxiliaries, and catalysts. This work reports a new method for the palladium-catalyzed oxyalkynylation and oxyarylation of propargylic amines. The reaction is perfectly regioselective based on the in situ introduction of a hemiacetal tether derived from trifluoroacetaldehyde. cis-Selective carbo-oxygenation was achieved for terminal alkynes, whereas internal alkynes gave trans-carbo-oxygenation products. The obtained enol ethers could be easily transformed into 1,2-amino alcohols or alpha-amino ketones using hydrogenation or hydrolysis, respectively.\", idnum { \"200021_159920/Schweizerischer Nationalfonds zur Forderung der Wissenschaftlichen Forschung\" }', 'meshwords': None, 'meshsubwords': None, 'authors': 'name ml Greenwood PDG, affil str Laboratory of Catalysis and Organic Synthesis, EPFL SB ISIC LCSO, BCH 4306, Ecole Polytechnique Federale de Lausanne, 1015, Lausanne, Switzerland.\\nname ml Grenet E, affil str Laboratory of Catalysis and Organic Synthesis, EPFL SB ISIC LCSO, BCH 4306, Ecole Polytechnique Federale de Lausanne, 1015, Lausanne, Switzerland.\\nname ml Waser J, affil str Laboratory of Catalysis and Organic Synthesis, EPFL SB ISIC LCSO, BCH 4306, Ecole Polytechnique Federale de Lausanne, 1015, Lausanne, Switzerland.', 'source': 'journal: \"Chemistry (Weinheim an der Bergstrasse', 'grants': '  \"200021_159920/Schweizerischer Nationalfonds zur Forderung der Wissenschaftlichen Forschung\" ', 'date': 'year 2019, month 1, day 9, hour 6, minute 0', 'date_received': 'year 2019, month 1, day 2', 'date_accepted': None, 'date_medline': 'year 2019, month 1, day 9, hour 6, minute 1', 'doi': '10.1002/chem.201900020', 'unix': 1546988400, 'unix_received': 1546383600, 'unix_accepted': None, 'unix_medline': 1546988400, 'team_size': 3, 'share_aff_captured': 1, 'is_eu': 1, 'inter_collab': 0, 'is_coronavirus_lower': 0, 'nb_country': 1, 'country_list': 'Switzerland'}\n",
      "{'_id': ObjectId('60c73465c4b7559e0406d3de'), 'pmid': 30620713, 'title': 'Factors associated with distant metastasis in pediatric thyroid cancer: evaluation of the SEER database.', 'ISSN': '2049-3614', 'abstract': ' \"Objectives Controversies regarding factors associated with distant metastasis in pediatric thyroid cancer remain among the scientific community. The aim of this study was to investigate factors influencing distant metastasis in pediatric thyroid cancer. Methods We reviewed 1376 patients (aged 2 to 18 years) with thyroid cancer treated between 2003 and 2014. Data collected and analyzed included sex, race, age at diagnosis, year of diagnosis, pathological type, number of tumor foci, tumor extension, T-stage, N-stage, surgical procedure and radiation. Univariate and multivariate analyses were conducted to evaluate factors influencing distant metastasis of pediatric thyroid cancer. Results In the univariate analysis, factors influencing distant metastasis of thyroid cancer were age at diagnosis (P < 0.001), N-stage (P < 0.001), number of tumor foci (P = 0.003), tumor extension (P < 0.001) and T-stage (T1 vs T2 (P = 0.803), T3 (P < 0.001) and T4 (P < 0.001)). In multivariate analysis, factors influencing distant metastasis of thyroid cancer were age at diagnosis (P = 0.001), N-stage (P < 0.001) and T-stage (T1 vs T3 (P = 0.036) and T4 (P < 0.001)). Sex, race, year of diagnosis, pathological type, number of tumor foci, tumor extension, surgical procedure and radiation had no significant influence on distant metastasis (all P > 0.05). Furthermore, according to chi-squared test, younger pediatric thyroid cancer patients with higher T- and N-stages are more likely to have distant metastasis. Conclusion Age at diagnosis, T-stage and N-stage influence distant metastasis of thyroid cancer patients aged 2 to 18 years; accordingly, more radical treatments may need to be used for patients with those risk elements.\"', 'meshwords': None, 'meshsubwords': None, 'authors': 'name ml Liu Z, affil str Department of Plastic Surgery, Zhongnan Hospital of Wuhan University, Wuhan, China.\\nname ml Hu D, affil str Department of Plastic Surgery, Zhongnan Hospital of Wuhan University, Wuhan, China.\\nname ml Huang Y, affil str Department of Plastic Surgery, Zhongnan Hospital of Wuhan University, Wuhan, China.\\nname ml Chen S, affil str Department of Plastic Surgery, Zhongnan Hospital of Wuhan University, Wuhan, China.\\nname ml Zeng W, affil str Department of Ophthalmology, Zhongnan Hospital of Wuhan University, Wuhan, China.\\nname ml Zhou L, affil str Department of Plastic Surgery, Zhongnan Hospital of Wuhan University, Wuhan, China.\\nname ml Zhou W, affil str Department of Plastic Surgery, Zhongnan Hospital of Wuhan University, Wuhan, China.\\nname ml Wang M, affil str Department of Plastic Surgery, Zhongnan Hospital of Wuhan University, Wuhan, China.\\nname ml Feng H, affil str Department of Plastic Surgery, Zhongnan Hospital of Wuhan University, Wuhan, China.\\nname ml Wei W, affil str Department of Pediatrics, St John Hospital and Medical Center, Detroit, Michigan, USA.\\nname ml Zhang C, affil str Department of Cardiovascular Surgery, Union Hospital, Tongji Medical College, Huazhong University of Science and Technology, Wuhan, China.\\nname ml Chen D, affil str Department of Plastic Surgery, Zhongnan Hospital of Wuhan University, Wuhan, China.\\nname ml Guo L, affil str Department of Plastic Surgery, Zhongnan Hospital of Wuhan University, Wuhan, China.', 'source': 'journal: \"Endocrine connections\" ', 'grants': None, 'date': 'year 2019, month 1, day 9, hour 6, minute 0', 'date_received': 'year 2019, month 1, day 3', 'date_accepted': 'year 2019, month 1, day 8', 'date_medline': 'year 2019, month 1, day 9, hour 6, minute 1', 'doi': '10.1530/EC-18-0441', 'unix': 1546988400, 'unix_received': 1546470000, 'unix_accepted': 1546902000, 'unix_medline': 1546988400, 'team_size': 13, 'share_aff_captured': 1, 'is_eu': 0, 'inter_collab': 1, 'is_coronavirus_lower': 0, 'nb_country': 2, 'country_list': 'United States;China'}\n",
      "{'_id': ObjectId('60c7346dc4b7559e0406d5c3'), 'pmid': 30621200, 'title': 'Special Issue: Gut Bacteria-Mucus Interaction.', 'ISSN': '2076-2607', 'abstract': ' \"The mucus layer covering the gastrointestinal tract plays a critical role in maintaining a homeostatic relationship with our gut microbiota. [...].\", idnum { \"BB/K019554/1/BB_/Biotechnology and Biological Sciences Research Council\", \"BBS/E/F/00044452/BB_/Biotechnology and Biological Sciences Research Council\", \"BBS/E/F/000PR10353/BB_/Biotechnology and Biological Sciences Research Council\", \"BBS/E/F/000PR10356/BB_/Biotechnology and Biological Sciences Research Council\" }', 'meshwords': None, 'meshsubwords': None, 'authors': 'name ml Juge N, affil str Quadram Institute Bioscience, The Gut Microbes and Health Institute Strategic Programme, Norwich Research Park, Norwich NR4 7UA, UK. nathalie.juge@quadram.ac.uk.', 'source': 'journal: \"Microorganisms\" ', 'grants': '  \"BB/K019554/1/BB_/Biotechnology and Biological Sciences Research Council\", \"BBS/E/F/00044452/BB_/Biotechnology and Biological Sciences Research Council\", \"BBS/E/F/000PR10353/BB_/Biotechnology and Biological Sciences Research Council\", \"BBS/E/F/000PR10356/BB_/Biotechnology and Biological Sciences Research Council\" ', 'date': 'year 2019, month 1, day 10, hour 6, minute 0', 'date_received': 'year 2019, month 1, day 3', 'date_accepted': 'year 2019, month 1, day 3', 'date_medline': 'year 2019, month 1, day 10, hour 6, minute 1', 'doi': '10.3390/microorganisms7010006', 'unix': 1547074800, 'unix_received': 1546470000, 'unix_accepted': 1546470000, 'unix_medline': 1547074800, 'team_size': 1, 'share_aff_captured': 1, 'is_eu': 1, 'inter_collab': 0, 'is_coronavirus_lower': 0, 'nb_country': 1, 'country_list': 'United Kingdom'}\n",
      "{'_id': ObjectId('60c734a6c4b7559e0406e667'), 'pmid': 30625514, 'title': 'Introduction to 2019 World Federation for Medical Education World Conference.', 'ISSN': '1975-5937', 'abstract': None, 'meshwords': None, 'meshsubwords': None, 'authors': 'name ml Ahn DS, affil str Vice-President, World Federation for Medical Education, Ferney-Voltaire, France.; Chair, Organizing Committee of the 2019 World Federation for Medical Education World Conference, Seoul, Korea.', 'source': 'journal: \"Journal of educational evaluation for health professions\" ', 'grants': None, 'date': 'year 2019, month 1, day 10, hour 6, minute 0', 'date_received': 'year 2019, month 1, day 2', 'date_accepted': 'year 2019, month 1, day 2', 'date_medline': 'year 2019, month 1, day 10, hour 6, minute 1', 'doi': '10.3352/jeehp.2019.16.1', 'unix': 1547074800, 'unix_received': 1546383600, 'unix_accepted': 1546383600, 'unix_medline': 1547074800, 'team_size': 1, 'share_aff_captured': 1, 'is_eu': 1, 'inter_collab': 0, 'is_coronavirus_lower': 0, 'nb_country': 1, 'country_list': 'France'}\n",
      "{'_id': ObjectId('60c734aec4b7559e0406e8dd'), 'pmid': 30626152, 'title': 'Editorial for the Special Issue on Glassy Materials Based Microdevices.', 'ISSN': '2072-666X', 'abstract': ' \"Glassy materials, i.e., glasses and most polymers, play a very important role in microtechnologies and photonics[...].\"', 'meshwords': None, 'meshsubwords': None, 'authors': 'name ml Righini GC, affil str Enrico Fermi Historical Museum of Physics and Study & Research Centre, 00184 Roma, Italy. giancarlo.righini@centrofermi.it.; Ne llo Carrara Institute of Applied Physics (IFAC), CNR. 50019 Sesto Fiorentino, Italy. giancarlo.righini@centrofermi.it.\\nname ml Righini N, affil str Research Institute on Ecosystems and Sustainability (IIES), National Autonomous University of Mexico (UNAM), 58190 Morelia, Mexico. nrighini@cieco.unam.mx.', 'source': 'journal: \"Micromachines\" ', 'grants': None, 'date': 'year 2019, month 1, day 11, hour 6, minute 0', 'date_received': 'year 2019, month 1, day 7', 'date_accepted': 'year 2019, month 1, day 7', 'date_medline': 'year 2019, month 1, day 11, hour 6, minute 1', 'doi': '10.3390/mi10010039', 'unix': 1547161200, 'unix_received': 1546815600, 'unix_accepted': 1546815600, 'unix_medline': 1547161200, 'team_size': 2, 'share_aff_captured': 1, 'is_eu': 1, 'inter_collab': 1, 'is_coronavirus_lower': 0, 'nb_country': 2, 'country_list': 'Mexico;Italy'}\n",
      "{'_id': ObjectId('60c734e9c4b7559e0406f89b'), 'pmid': 30630289, 'title': 'Comparative Behavioral Correlation of High and Low-Performing Mice in the Forced Swim Test.', 'ISSN': '1976-9148', 'abstract': ' \"Behavioral analysis in mice provided important contributions in helping understand and treat numerous neurobehavioral and neuropsychiatric disorders. The behavioral performance of animals and humans is widely different among individuals but the neurobehavioral mechanism of the innate difference is seldom investigated. Many neurologic conditions share comorbid symptoms that may have common pathophysiology and therapeutic strategy. The forced swim test (FST) has been commonly used to evaluate the \"\"antidepressan t\"\" properties of drugs yet the individual difference analysis of this test was left scantly investigated along with the possible connection among other behavioral domains. This study conducted an FST-screening in outbred CD-1 male mice and segregated them into three groups: high performers (HP) or the active swimmers, middle performers (MP), and low performers (LP) or floaters. After which, a series of behavioral experiments were performed to measure their behavioral responses in the open field, elevated plus maze, Y maze, three-chamber social assay, novel object recognition, delay discounting task, and cliff avoidance reaction. The behavioral tests battery revealed that the three groups displayed seemingly correlated differences in locomotor activity and novel object recognition but not in other behaviors. This study suggests that the HP group in FST has higher locomotor activity and novelty-seeking tendencies compared to the other groups. These results may have important implications in creating behavior database in animal models that could be used for predicting interconnections of various behavioral domains, which eventually helps to understand the neurobiological mechanism controlling the behaviors in individual subjects.\"', 'meshwords': None, 'meshsubwords': None, 'authors': 'name ml Valencia S, affil str Department of Neuroscience, School of Medicine, Konkuk University, Seoul 05029, Republic of Korea.\\nname ml Gonzales EL, affil str Department of Neuroscience, School of Medicine, Konkuk University, Seoul 05029, Republic of Korea.\\nname ml Adil KJ, affil str Department of Neuroscience, School of Medicine, Konkuk University, Seoul 05029, Republic of Korea.\\nname ml Jeon SJ, affil str Center for Neuroscience, Korea Institute of Science and Technology, Seoul 02792, Republic of Korea.\\nname ml Kwon KJ, affil str Department of Neuroscience, School of Medicine, Konkuk University, Seoul 05029, Republic of Korea.\\nname ml Cho KS, affil str Department of Neuroscience, School of Medicine, Konkuk University, Seoul 05029, Republic of Korea.\\nname ml Shin CY, affil str Department of Neuroscience, School of Medicine, Konkuk University, Seoul 05029, Republic of Korea.; Department of Pharmacology, School of Medicine, Konkuk University, Seoul 05029, Republic of Korea.', 'source': 'journal: \"Biomolecules & therapeutics\" ', 'grants': None, 'date': 'year 2019, month 1, day 12, hour 6, minute 0', 'date_received': 'year 2019, month 10, day 31', 'date_accepted': 'year 2018, month 12, day 18', 'date_medline': 'year 2019, month 1, day 12, hour 6, minute 1', 'doi': '10.4062/biomolther.2018.210', 'unix': 1547247600, 'unix_received': 1572476400, 'unix_accepted': 1545087600, 'unix_medline': 1547247600, 'team_size': 7, 'share_aff_captured': 1, 'is_eu': 0, 'inter_collab': 0, 'is_coronavirus_lower': 0, 'nb_country': 1, 'country_list': 'South Korea'}\n",
      "{'_id': ObjectId('60c734fcc4b7559e0406fe56'), 'pmid': 30631788, 'title': 'Correction: Comparison of school day eating behaviours of 8-11 year old children from Adelaide, South Australia, and London, England: Child eating behaviours in South Australia and England.', 'ISSN': '2327-8994', 'abstract': ' \"[This corrects the article on p. 394 in vol. 5.].\"', 'meshwords': None, 'meshsubwords': None, 'authors': 'name ml Zarnowiecki D, affil str School of Pharmacy and Medical Sciences, University of South Australia; City East Campus, North Terrace, Adelaide, SA 5000.\\nname ml Christian MS, affil str School of Clinical and Applied Sciences, Faculty of Health and Social Sciences, Leeds Beckett University; City Campus, Calverley Street, Leeds, LS1 3HE, UK.; Nutritional Epidemiology Group, School of Food Science and Nutrition, University of Leeds; Woodhouse Lane, Leeds, LS2 9JT, UK.\\nname ml Dollman J, affil str Alliance for Research in Exercise, Nutrition and Activity, School of Health Sciences, University of South Australia; City East Campus, North Terrace, Adelaide, SA 5000.\\nname ml Parletta N, affil str Centre for Population Health, School of Health Sciences, University of South Australia; South Australian Health and Medical Research Institute (SAHMRI), North Terrace, Adelaide, SA 5000.\\nname ml Evans CEL, affil str Nutritional Epidemiology Group, School of Food Science and Nutrition, University of Leeds; Woodhouse Lane, Leeds, LS2 9JT, UK.\\nname ml Cade JE, affil str Nutritional Epidemiology Group, School of Food Science and Nutrition, University of Leeds; Woodhouse Lane, Leeds, LS2 9JT, UK.', 'source': 'journal: \"AIMS public health\" ', 'grants': None, 'date': 'year 2019, month 1, day 12, hour 6, minute 0', 'date_received': 'year 2019, month 1, day 2', 'date_accepted': 'year 2019, month 1, day 2', 'date_medline': 'year 2019, month 1, day 12, hour 6, minute 1', 'doi': '10.3934/publichealth.2018.4.477', 'unix': 1547247600, 'unix_received': 1546383600, 'unix_accepted': 1546383600, 'unix_medline': 1547247600, 'team_size': 6, 'share_aff_captured': 0.5, 'is_eu': 0, 'inter_collab': 0, 'is_coronavirus_lower': 0, 'nb_country': 1, 'country_list': 'Australia'}\n",
      "{'_id': ObjectId('60c7352dc4b7559e04070ab4'), 'pmid': 30635026, 'title': 'Correction to: RNA G-quadruplexes at upstream open reading frames cause DHX36- and DHX9-dependent translation of human mRNAs.', 'ISSN': '1474-760X', 'abstract': ' \"Following publication of the original article [1], the authors reported the following error in the name of the fourth author.\"', 'meshwords': None, 'meshsubwords': None, 'authors': 'name ml Murat P, affil str Department of Chemistry, University of Cambridge, Lensfield Road, Cambridge, CB2 1EW, UK.; Cancer Research UK Cambridge Institute, University of Cambridge, Li Ka Shing Centre, Robinson Way, Cambridge, CB2 0RE, UK.\\nname ml Marsico G, affil str Cancer Research UK Cambridge Institute, University of Cambridge, Li Ka Shing Centre, Robinson Way, Cambridge, CB2 0RE, UK.\\nname ml Herdy B, affil str Cancer Research UK Cambridge Institute, University of Cambridge, Li Ka Shing Centre, Robinson Way, Cambridge, CB2 0RE, UK.\\nname ml Ghanbarian AT, affil str Cancer Research UK Cambridge Institute, University of Cambridge, Li Ka Shing Centre, Robinson Way, Cambridge, CB2 0RE, UK.; European Bioinformatics Institute (EMBL-EBI), Hinxton, Cambridge, CB10 1SD, UK.\\nname ml Portella G, affil str Department of Chemistry, University of Cambridge, Lensfield Road, Cambridge, CB2 1EW, UK.\\nname ml Balasubramanian S, affil str Department of Chemistry, University of Cambridge, Lensfield Road, Cambridge, CB2 1EW, UK. sb10031@cam.ac.uk.; Cancer Research UK Cambridge Institute, University of Cambridge, Li Ka Shing Centre, Robinson Way, Cambridge, CB2 0RE, UK. sb10031@cam.ac.uk.; School of Clinical Medicine, University of Cambridge, Cambridge, CB2 0SP, UK. sb10031@cam.ac.uk.', 'source': 'journal: \"Genome biology\" ', 'grants': None, 'date': 'year 2019, month 1, day 13, hour 6, minute 0', 'date_received': 'year 2019, month 1, day 2', 'date_accepted': 'year 2019, month 1, day 4', 'date_medline': 'year 2019, month 1, day 13, hour 6, minute 1', 'doi': '10.1186/s13059-019-1623-5', 'unix': 1547334000, 'unix_received': 1546383600, 'unix_accepted': 1546556400, 'unix_medline': 1547334000, 'team_size': 6, 'share_aff_captured': 1, 'is_eu': 1, 'inter_collab': 0, 'is_coronavirus_lower': 0, 'nb_country': 1, 'country_list': 'United Kingdom'}\n",
      "{'_id': ObjectId('60c73547c4b7559e04071234'), 'pmid': 30636978, 'title': 'Correction to: High-performance gene expression and knockout tools using sleeping beauty transposon system.', 'ISSN': '1759-8753', 'abstract': ' \"[This corrects the article DOI: 10.1186/s13100-018-0139-y.].\"', 'meshwords': None, 'meshsubwords': None, 'authors': 'name ml Hu K, affil str 1Guangdong Provincial Key Laboratory of Malignant Tumor Epigenetics and Gene Regulation, Medical Research Center, Sun Yat-Sen Memorial Hospital, Sun Yat-Sen University, Guangzhou, 510120 China.\\nname ml Li Y, affil str 1Guangdong Provincial Key Laboratory of Malignant Tumor Epigenetics and Gene Regulation, Medical Research Center, Sun Yat-Sen Memorial Hospital, Sun Yat-Sen University, Guangzhou, 510120 China.\\nname ml Wu W, affil str 1Guangdong Provincial Key Laboratory of Malignant Tumor Epigenetics and Gene Regulation, Medical Research Center, Sun Yat-Sen Memorial Hospital, Sun Yat-Sen University, Guangzhou, 510120 China.; 2Department of Breast Oncology, Sun Yat-Sen Memorial Hospital, Sun Yat-Sen University, Guangzhou, 510120 China.\\nname ml Chen H, affil str 1Guangdong Provincial Key Laboratory of Malignant Tumor Epigenetics and Gene Regulation, Medical Research Center, Sun Yat-Sen Memorial Hospital, Sun Yat-Sen University, Guangzhou, 510120 China.\\nname ml Chen Z, affil str 1Guangdong Provincial Key Laboratory of Malignant Tumor Epigenetics and Gene Regulation, Medical Research Center, Sun Yat-Sen Memorial Hospital, Sun Yat-Sen University, Guangzhou, 510120 China.\\nname ml Zhang Y, affil str 1Guangdong Provincial Key Laboratory of Malignant Tumor Epigenetics and Gene Regulation, Medical Research Center, Sun Yat-Sen Memorial Hospital, Sun Yat-Sen University, Guangzhou, 510120 China.\\nname ml Guo Y, affil str 1Guangdong Provincial Key Laboratory of Malignant Tumor Epigenetics and Gene Regulation, Medical Research Center, Sun Yat-Sen Memorial Hospital, Sun Yat-Sen University, Guangzhou, 510120 China.\\nname ml Yin D, affil str 1Guangdong Provincial Key Laboratory of Malignant Tumor Epigenetics and Gene Regulation, Medical Research Center, Sun Yat-Sen Memorial Hospital, Sun Yat-Sen University, Guangzhou, 510120 China.', 'source': 'journal: \"Mobile DNA\" ', 'grants': None, 'date': 'year 2019, month 1, day 15, hour 6, minute 0', 'date_received': 'year 2019, month 1, day 3', 'date_accepted': 'year 2019, month 1, day 3', 'date_medline': 'year 2019, month 1, day 15, hour 6, minute 1', 'doi': '10.1186/s13100-019-0145-8', 'unix': 1547506800, 'unix_received': 1546470000, 'unix_accepted': 1546470000, 'unix_medline': 1547506800, 'team_size': 8, 'share_aff_captured': 1, 'is_eu': 0, 'inter_collab': 0, 'is_coronavirus_lower': 0, 'nb_country': 1, 'country_list': 'China'}\n"
     ]
    }
   ],
   "source": [
    "# 5) Find articles with null meshwords.\n",
    "\n",
    "# Rechercher les articles avec des mots-clés Mesh nuls\n",
    "articles_with_null_meshwords = collection.find({\"meshwords\": None}).limit(10)\n",
    "\n",
    "# Afficher les résultats\n",
    "for article in articles_with_null_meshwords:\n",
    "    print(article)\n"
   ]
  },
  {
   "cell_type": "code",
   "execution_count": 38,
   "id": "e8ddddea-c06a-4976-a149-14e1b4de8263",
   "metadata": {
    "tags": []
   },
   "outputs": [
    {
     "name": "stdout",
     "output_type": "stream",
     "text": [
      "Nombre d'articles contenant le mot-clé 'machine learning' dans meshwords, le résumé ou le titre : 521\n"
     ]
    }
   ],
   "source": [
    "# 6) Choose a keyword you are interested in (machine learning, computer vision,...). Find the number of articles with the choosen keyword in their meshwords, abstract or title.\n",
    "\n",
    "# Mot-clé d'intérêt\n",
    "mot_cle = \"machine learning\"\n",
    "\n",
    "# Compter les articles contenant le mot-clé dans meshwords, le résumé ou le titre\n",
    "nb_articles_mot_cle = collection.count_documents({\n",
    "    \"$or\": [\n",
    "        {\"meshwords\": {\"$regex\": mot_cle, \"$options\": \"i\"}},  # Recherche regex insensible à la casse dans meshwords\n",
    "        {\"abstract\": {\"$regex\": mot_cle, \"$options\": \"i\"}},  # Recherche regex insensible à la casse dans le résumé\n",
    "        {\"title\": {\"$regex\": mot_cle, \"$options\": \"i\"}}       # Recherche regex insensible à la casse dans le titre\n",
    "    ]\n",
    "})\n",
    "\n",
    "print(\"Nombre d'articles contenant le mot-clé '{}' dans meshwords, le résumé ou le titre : {}\".format(mot_cle, nb_articles_mot_cle))"
   ]
  },
  {
   "cell_type": "code",
   "execution_count": 39,
   "id": "12ff1f28-a969-4bb8-9d27-2a96004544ec",
   "metadata": {
    "tags": []
   },
   "outputs": [
    {
     "name": "stdout",
     "output_type": "stream",
     "text": [
      "Nombre d'articles contenant le mot-clé 'machine learning' dans meshwords, le résumé ou le titre : 521\n",
      "Nombre d'articles contenant le mot-clé 'computer vision' dans meshwords, le résumé ou le titre : 38\n",
      "Nombre total d'articles contenant les mots-clés ['machine learning', 'computer vision'] dans meshwords, le résumé ou le titre : 559\n"
     ]
    }
   ],
   "source": [
    "# Mots-clés d'intérêt\n",
    "mots_cles = [\"machine learning\", \"computer vision\"]\n",
    "\n",
    "# Initialiser le compteur total\n",
    "total_articles = 0\n",
    "\n",
    "# Parcourir les mots-clés et compter les articles pour chaque mot-clé\n",
    "for mot_cle in mots_cles:\n",
    "    # Compter les articles contenant le mot-clé dans meshwords, le résumé ou le titre\n",
    "    nb_articles_mot_cle = collection.count_documents({\n",
    "        \"$or\": [\n",
    "            {\"meshwords\": {\"$regex\": mot_cle, \"$options\": \"i\"}},  # Recherche regex insensible à la casse dans meshwords\n",
    "            {\"abstract\": {\"$regex\": mot_cle, \"$options\": \"i\"}},  # Recherche regex insensible à la casse dans le résumé\n",
    "            {\"title\": {\"$regex\": mot_cle, \"$options\": \"i\"}}       # Recherche regex insensible à la casse dans le titre\n",
    "        ]\n",
    "    })\n",
    "    # Ajouter le nombre d'articles pour ce mot-clé au total\n",
    "    total_articles += nb_articles_mot_cle\n",
    "    print(\"Nombre d'articles contenant le mot-clé '{}' dans meshwords, le résumé ou le titre : {}\".format(mot_cle, nb_articles_mot_cle))\n",
    "\n",
    "print(\"Nombre total d'articles contenant les mots-clés {} dans meshwords, le résumé ou le titre : {}\".format(mots_cles, total_articles))"
   ]
  },
  {
   "cell_type": "code",
   "execution_count": 51,
   "id": "865d46de-e973-4d98-b1eb-eae6a20bbe13",
   "metadata": {
    "tags": []
   },
   "outputs": [
    {
     "name": "stdout",
     "output_type": "stream",
     "text": [
      "Nombre d'articles avec au moins une affiliation et des meshwords : 99413\n"
     ]
    }
   ],
   "source": [
    "# 7) What's the number of articles that have atleast one affiliation AND meshwords.\n",
    "\n",
    "# Compter le nombre d'articles avec au moins une affiliation et des meshwords\n",
    "count_articles = collection.count_documents({\"$and\": [{\"authors\": {\"$regex\": \"affil\"}}, {\"meshwords\": {\"$exists\": True, \"$ne\": []}}]})\n",
    "\n",
    "print(\"Nombre d'articles avec au moins une affiliation et des meshwords :\", count_articles)"
   ]
  },
  {
   "cell_type": "code",
   "execution_count": 42,
   "id": "e86b7ad8-535f-4ce8-a359-68f7c63cc2b2",
   "metadata": {
    "tags": []
   },
   "outputs": [
    {
     "name": "stdout",
     "output_type": "stream",
     "text": [
      "Nombre d'articles publiés après 2020 : 0\n"
     ]
    }
   ],
   "source": [
    "# 8) How many articles have a publishing date after 2020 ?\n",
    "\n",
    "# Compter le nombre d'articles avec une date de publication après 2020\n",
    "count_articles = collection.count_documents({\"date\": {\"$gt\": \"year 2020\"}})\n",
    "\n",
    "print(\"Nombre d'articles publiés après 2020 :\", count_articles)"
   ]
  },
  {
   "cell_type": "code",
   "execution_count": 5,
   "id": "d5915b4c-e356-42e1-a64a-b99c971f71ee",
   "metadata": {
    "tags": []
   },
   "outputs": [
    {
     "name": "stdout",
     "output_type": "stream",
     "text": [
      "{'_id': ObjectId('60c73422c4b7559e0406c027'), 'pmid': 30615595, 'title': 'Oxidative stress in thyroid carcinomas: biological and clinical significance.', 'ISSN': '1479-6821', 'abstract': ' \"At physiological concentrations, reactive oxygen species (ROS), including superoxide anions and H2O2, are considered as second messengers that play key roles in cellular functions, such as proliferation, gene expression, host defence and hormone synthesis. However, when they are at supraphysiological levels, ROS are considered potent DNA-damaging agents. Their increase induces oxidative stress, which can initiate and maintain genomic instability. The thyroid gland represents a good model for studying the impact of oxidative stress on genomic instability. Indeed, one particularity of this organ is that follicular thyroid cells synthesise thyroid hormones through a complex mechanism that requires H2O2. Because of their detection in thyroid adenomas and in early cell transformation, both oxidative stress and DNA damage are believed to be neoplasia-preceding events in thyroid cells. Oxidative DNA damage is, in addition, detected in the advanced stages of thyroid cancer, suggesting that oxidative lesions of DNA also contribute to the maintenance of genomic instability during the subsequent phases of tumourigenesis. Finally, ionizing radiation and the mutation of oncogenes, such as RAS and BRAF, play a key role in thyroid carcinogenesis through separate and unique mechanisms: they upregulate the expression of two distinct \\\\\\'professional\\\\\\' ROS-generating systems, the NADPH oxidases DUOX1 and NOX4, which cause DNA damage that may promote chromosomal instability, tumourigenesis and dedifferentiation.\", ', 'meshwords': 'Animals \\nCell Dedifferentiation \\nDNA Damage \\nGene Expression Regulation\\nGenomic Instability \\nHumans \\nNADPH Oxidases\\nOncogenes\\nOxidative Stress \\nReactive Oxygen Species\\nThyroid Gland\\nThyroid Neoplasms', 'meshsubwords': 'genetics \\nmetabolism \\ngenetics \\nmetabolism \\nmetabolism \\npathology \\ngenetics \\nmetabolism \\npathology \\ntherapy ', 'authors': \"name ml Ameziane El Hassani R, affil str Laboratory of Biology of Human Pathologies \\\\'BioPatH\\\\', Faculty of Sciences, Mohammed V University of Rabat, Rabat, Morocco.\\nname ml Buffet C, affil str UMR 8200 CNRS, Gustave Roussy and Paris Sud University, Villejuif, France.\\nname ml Leboulleux S, affil str Department of Nuclear Medicine and Endocrine Oncology, Gustave Roussy and Paris Sud University, Villejuif, France.\\nname ml Dupuy C, affil str UMR 8200 CNRS, Gustave Roussy and Paris Sud University, Villejuif, France.\", 'source': 'journal: \"Endocrine-related cancer\" ', 'grants': None, 'date': 'year 2019, month 1, day 8, hour 6, minute 0', 'date_received': 'year 2019, month 1, day 4', 'date_accepted': 'year 2019, month 1, day 7', 'date_medline': 'year 2020, month 3, day 11, hour 6, minute 0', 'doi': '10.1530/ERC-18-0476', 'unix': 1546902000, 'unix_received': 1546556400, 'unix_accepted': 1546815600, 'unix_medline': 1583881200, 'team_size': 4, 'share_aff_captured': 1, 'is_eu': 1, 'inter_collab': 1, 'is_coronavirus_lower': 0, 'nb_country': 2, 'country_list': 'France;Morocco'}\n",
      "{'_id': ObjectId('60c7349bc4b7559e0406e335'), 'pmid': 30624690, 'title': 'Systemic and Metabolic Signature of Sarcopenia in Community-Dwelling Older Adults.', 'ISSN': '1758-535X', 'abstract': ' \"BACKGROUND: Evidence suggests the pivotal contribution of nutrition as a modifiable risk factor for sarcopenia. The present cross-sectional study characterized the nutritional and metabolic profile of sarcopenia through an extensive exploration of a wide array of blood biomarkers related to muscle protein metabolism and transcriptomic signatures in community-dwelling elderly adults. METHODS: Among 189 older individuals with a mean age of 73.2 years, sarcopenia was diagnosed according to the Asian Working Group for Sarcopenia criteria based on appendicular lean mass measured by dual-energy X-ray absorptiometry scan, muscle strength, and gait speed. Nutritional status was evaluated using the mini-nutritional assessment (MNA). In addition, we assessed specific blood biomarkers of nutritional status (plasma essential amino acids [EAAs], vitamins), nicotine-derived metabolites, and an extensive microarray analysis from peripheral blood mononuclear cells. RESULTS: Malnutrition defined by low MNA score was independently associated with sarcopenia (p < .001). Sarcopenic elderly showed lower body mass index and leptin and higher adiponectin and high-density lipoproteins. Levels of EAAs including lysine, methionine, phenylalanine, threonine, as well as branched-chain AAs and choline, were inversely associated with sarcopenia. Furthermore, nicotine metabolites (cotinine and trans-3\\\\\\'-hydroxycotine) and vitamin B6 status were linked to one or more clinical and functional measures of sarcopenia. Differentially expressed genes and ingenuity pathway analysis supported the association of nutrition with sarcopenia. CONCLUSIONS: Herein, the characterization of a nutritional and metabolic signature of sarcopenia provides a firm basis and potential identification of specific targets and directions for the nutritional approach to the prevention and treatment of sarcopenia in aging populations.\", ', 'meshwords': 'Absorptiometry\\nAged \\nAged\\nBiomarkers\\nCross-Sectional Studies \\nFemale \\nGeriatric Assessment \\nHumans \\nIndependent Living \\nLongitudinal Studies \\nMale \\nNutrition Assessment \\nNutritional Status \\nRisk Factors \\nSarcopenia\\nSingapore \\nTranscriptome ', 'meshsubwords': 'blood \\nmetabolism ', 'authors': \"name ml Lu Y, affil str Biology of Aging Laboratory, Singapore Immunology Network (SIgN), Agency for Science, Technology and Research (A*STAR), Biopolis, Singapore.\\nname ml Karagounis LG, affil str Experimental Myology and Integrative Physiology Cluster, Plymouth Marjon University, UK.; Nestle Health Science, Vevey, Switzerland.\\nname ml Ng TP, affil str Gerontology Research Programme, Department of Psychological Medicine, National University Health System, Yong Loo Lin School of Medicine, National University of Singapore, Singapore.\\nname ml Carre C, affil str Biostat, Bioinformatics & Omics, Sanofi Pasteur, Marcy l\\\\'Etoile, France.\\nname ml Narang V, affil str Bioinformatics Group.\\nname ml Wong G, affil str Biology of Aging Laboratory, Singapore Immunology Network (SIgN), Agency for Science, Technology and Research (A*STAR), Biopolis, Singapore.\\nname ml Tan CTY, affil str Biology of Aging Laboratory, Singapore Immunology Network (SIgN), Agency for Science, Technology and Research (A*STAR), Biopolis, Singapore.\\nname ml Zin Nyunt MS, affil str Gerontology Research Programme, Department of Psychological Medicine, National University Health System, Yong Loo Lin School of Medicine, National University of Singapore, Singapore.\\nname ml Gao Q, affil str Gerontology Research Programme, Department of Psychological Medicine, National University Health System, Yong Loo Lin School of Medicine, National University of Singapore, Singapore.\\nname ml Abel B, affil str Immunomonitoring Platform, Singapore Immunology Network (SIgN), Agency for Science, Technology and Research (A*STAR), Biopolis, Singapore.\\nname ml Poidinger M, affil str Bioinformatics Group.\\nname ml Fulop T, affil str Geriatrics Division, Department of Medicine, Research Center on Ageing, University of Sherbrooke, Quebec, Canada.\\nname ml Bosco N, affil str Nestle Research Singapore Hub, Singapore.\\nname ml Larbi A, affil str Biology of Aging Laboratory, Singapore Immunology Network (SIgN), Agency for Science, Technology and Research (A*STAR), Biopolis, Singapore.; Geriatrics Division, Department of Medicine, Research Center on Ageing, University of Sherbrooke, Quebec, Canada.; Department of Biology, Faculty of Sciences, University Tunis El Manar, Tunisia.\", 'source': 'journal: \"The journals of gerontology. Series A', 'grants': None, 'date': 'year 2019, month 1, day 10, hour 6, minute 0', 'date_received': 'year 2019, month 1, day 8', 'date_accepted': None, 'date_medline': 'year 2020, month 9, day 25, hour 6, minute 0', 'doi': '10.1093/gerona/glz001', 'unix': 1547074800, 'unix_received': 1546902000, 'unix_accepted': None, 'unix_medline': 1600984800, 'team_size': 14, 'share_aff_captured': 0.8571428571428571, 'is_eu': 1, 'inter_collab': 1, 'is_coronavirus_lower': 0, 'nb_country': 4, 'country_list': 'France;Canada;United Kingdom;Singapore'}\n",
      "{'_id': ObjectId('60c734a6c4b7559e0406e667'), 'pmid': 30625514, 'title': 'Introduction to 2019 World Federation for Medical Education World Conference.', 'ISSN': '1975-5937', 'abstract': None, 'meshwords': None, 'meshsubwords': None, 'authors': 'name ml Ahn DS, affil str Vice-President, World Federation for Medical Education, Ferney-Voltaire, France.; Chair, Organizing Committee of the 2019 World Federation for Medical Education World Conference, Seoul, Korea.', 'source': 'journal: \"Journal of educational evaluation for health professions\" ', 'grants': None, 'date': 'year 2019, month 1, day 10, hour 6, minute 0', 'date_received': 'year 2019, month 1, day 2', 'date_accepted': 'year 2019, month 1, day 2', 'date_medline': 'year 2019, month 1, day 10, hour 6, minute 1', 'doi': '10.3352/jeehp.2019.16.1', 'unix': 1547074800, 'unix_received': 1546383600, 'unix_accepted': 1546383600, 'unix_medline': 1547074800, 'team_size': 1, 'share_aff_captured': 1, 'is_eu': 1, 'inter_collab': 0, 'is_coronavirus_lower': 0, 'nb_country': 1, 'country_list': 'France'}\n",
      "{'_id': ObjectId('60c73581c4b7559e0407224f'), 'pmid': 30641145, 'title': 'Reply to the letter to the editor.', 'ISSN': '2352-5568', 'abstract': None, 'meshwords': 'Blood Pressure \\nCritical Care \\nHumans \\nVasoconstrictor Agents ', 'meshsubwords': '', 'authors': 'name ml Rinehart J, affil str Department of anesthesiology and perioperative care, university of California Irvine, Orange, 101, the City drive South, California, USA.\\nname ml Van der Linden P, affil str Department of anaesthesiology, CHU de Brugmann, universite Libre de Bruxelles, Brussels, Belgium.\\nname ml Joosten A, affil str Department of anaesthesiology and intensive care, hopitaux universitaires Paris-Sud, universite Paris-Sud, universite Paris-Saclay, hopital De Bicetre, assistance publique Hopitaux de Paris (AP-HP), 78, rue du General Leclerc, 94270 Le Kremlin-Bicetre, France. Electronic address: joosten-alexandre@hotmail.com.', 'source': 'journal: \"Anaesthesia', 'grants': None, 'date': 'year 2019, month 1, day 15, hour 6, minute 0', 'date_received': 'year 2019, month 1, day 6', 'date_accepted': 'year 2019, month 1, day 6', 'date_medline': 'year 2020, month 2, day 7, hour 6, minute 0', 'doi': '10.1016/j.accpm.2019.01.004', 'unix': 1547506800, 'unix_received': 1546729200, 'unix_accepted': 1546729200, 'unix_medline': 1581030000, 'team_size': 3, 'share_aff_captured': 1, 'is_eu': 1, 'inter_collab': 1, 'is_coronavirus_lower': 0, 'nb_country': 3, 'country_list': 'United States;France;Belgium'}\n",
      "{'_id': ObjectId('60c735adc4b7559e04072e0a'), 'pmid': 30644172, 'title': 'Selective Hydrogenation of CO2 to CH3 OH on Supported Cu Nanoparticles Promoted by Isolated Ti(IV) Surface Sites on SiO2.', 'ISSN': '1864-564X', 'abstract': ' \"Small and narrowly distributed Cu nanoparticles, supported on SiO2 decorated with isolated Ti(IV) sites, prepared through surface organometallic chemistry, showed significantly improved CO2 hydrogenation activity and CH3 OH selectivity compared to the corresponding Cu nanoparticles supported on SiO2 . These isolated Lewis acid Ti(IV) sites, evidenced by UV/Vis spectroscopy, are proposed to stabilize surface intermediates at the interface between Cu nanoparticles and the support.\", idnum { \"SCCER Heat and Energy Storage/InnoSuisse\" }', 'meshwords': None, 'meshsubwords': None, 'authors': \"name ml Noh G, affil str Department of Chemistry and Applied Biosciences, ETH Zurich, Vladimir Prelog Weg 1-5, 8093, Zurich, Switzerland.\\nname ml Lam E, affil str Department of Chemistry and Applied Biosciences, ETH Zurich, Vladimir Prelog Weg 1-5, 8093, Zurich, Switzerland.\\nname ml Alfke JL, affil str Department of Chemistry and Applied Biosciences, ETH Zurich, Vladimir Prelog Weg 1-5, 8093, Zurich, Switzerland.\\nname ml Larmier K, affil str Department of Chemistry and Applied Biosciences, ETH Zurich, Vladimir Prelog Weg 1-5, 8093, Zurich, Switzerland.; Current address: IFP Energies nouvelles, Rond-Point de l\\\\'echangeur de Solaize, BP3, 69360, Solaize, France.\\nname ml Searles K, affil str Department of Chemistry and Applied Biosciences, ETH Zurich, Vladimir Prelog Weg 1-5, 8093, Zurich, Switzerland.\\nname ml Wolf P, affil str Department of Chemistry and Applied Biosciences, ETH Zurich, Vladimir Prelog Weg 1-5, 8093, Zurich, Switzerland.\\nname ml Coperet C, affil str Department of Chemistry and Applied Biosciences, ETH Zurich, Vladimir Prelog Weg 1-5, 8093, Zurich, Switzerland.\", 'source': 'journal: \"ChemSusChem\" ', 'grants': '  \"SCCER Heat and Energy Storage/InnoSuisse\" ', 'date': 'year 2019, month 1, day 16, hour 6, minute 0', 'date_received': 'year 2019, month 1, day 11', 'date_accepted': None, 'date_medline': 'year 2019, month 1, day 16, hour 6, minute 1', 'doi': '10.1002/cssc.201900134', 'unix': 1547593200, 'unix_received': 1547161200, 'unix_accepted': None, 'unix_medline': 1547593200, 'team_size': 7, 'share_aff_captured': 1, 'is_eu': 1, 'inter_collab': 0, 'is_coronavirus_lower': 0, 'nb_country': 1, 'country_list': 'Switzerland'}\n",
      "{'_id': ObjectId('60c7362dc4b7559e04075189'), 'pmid': 30653460, 'title': 'Metabolomics signatures of a subset of RET variants according to their oncogenic risk level.', 'ISSN': '1479-6821', 'abstract': ' \"Thirty percent of medullary thyroid carcinomas (MTCs) are related to dominant germline pathogenic variants in the RET proto-oncogene. According to their aggressiveness, these pathogenic variants are classified in three risk levels: \\\\\\'moderate\\\\\\', \\\\\\'high\\\\\\' and \\\\\\'highest\\\\\\'. The present study compares the metabolomics profiles of five pathogenic variants, whether already classified or not. We have generated six stable murine fibroblast cell lines (NIH3T3) expressing the WT allele or variants of the human RET gene, with different levels of pathogenicity, including the M918V variant that is yet to be accurately classified. We carried out a targeted metabolomics study of the cell extracts with a QTRAP mass spectrometer, using the Biocrates Absolute IDQ p180 kit, which allows the quantification of 188 endogenous molecules. The data were then subjected to multivariate statistical analysis. One hundred seventy three metabolites were accurately measured. The metabolic profiles of the cells expressing the RET variants were found to be correlated with their oncogenic risk. In addition, the statistical model we constructed for predicting the oncogenic risk attributed a moderate risk to the M918V variant. Our results indicate that metabolomics may be useful for characterizing the pathogenicity of the RET gene variants and their levels of aggressiveness.\", ', 'meshwords': 'Animals \\nCarcinoma\\nCell Proliferation \\nGenetic Variation \\nHumans \\nMetabolome\\nMetabolomics \\nMice \\nModels\\nMutation \\nNIH 3T3 Cells \\nPhosphorylation \\nProto-Oncogene Proteins c-ret\\nRisk \\nSignal Transduction \\nThyroid Neoplasms', 'meshsubwords': 'classification \\ngenetics \\nmetabolism \\npathology \\ngenetics \\ngenetics \\nmetabolism \\nclassification \\ngenetics \\nmetabolism \\npathology ', 'authors': \"name ml Veyrat-Durebex C, affil str Departement de Biochimie et Genetique, CHU d\\\\'Angers, Angers, France.; Equipe Mitolab, Institut MITOVASC, Unite Mixte de Recherche CNRS 6214, INSERM U1083, Universite d\\\\'Angers, Angers, France.\\nname ml Bouzamondo N, affil str Departement de Biochimie et Genetique, CHU d\\\\'Angers, Angers, France.\\nname ml Le Mao M, affil str Equipe Mitolab, Institut MITOVASC, Unite Mixte de Recherche CNRS 6214, INSERM U1083, Universite d\\\\'Angers, Angers, France.\\nname ml Chao de la Barca JM, affil str Departement de Biochimie et Genetique, CHU d\\\\'Angers, Angers, France.; Equipe Mitolab, Institut MITOVASC, Unite Mixte de Recherche CNRS 6214, INSERM U1083, Universite d\\\\'Angers, Angers, France.\\nname ml Bris C, affil str Departement de Biochimie et Genetique, CHU d\\\\'Angers, Angers, France.; Equipe Mitolab, Institut MITOVASC, Unite Mixte de Recherche CNRS 6214, INSERM U1083, Universite d\\\\'Angers, Angers, France.\\nname ml Dieu X, affil str Departement de Biochimie et Genetique, CHU d\\\\'Angers, Angers, France.\\nname ml Simard G, affil str Departement de Biochimie et Genetique, CHU d\\\\'Angers, Angers, France.\\nname ml Gadras C, affil str Departement de Biochimie et Genetique, CHU d\\\\'Angers, Angers, France.\\nname ml Tessier L, affil str Departement de Biochimie et Genetique, CHU d\\\\'Angers, Angers, France.\\nname ml Drui D, affil str Service d\\\\'Endocrinologie, CHU de Nantes, Nantes, France.\\nname ml Borson-Chazot F, affil str Hospices Civils de Lyon, Federation d\\\\'Endocrinologie, Universite Lyon 1, HESPER EA 7425, Lyon, France.\\nname ml Barlier A, affil str Aix-Marseille University, CNRS, CRN2M, UMR 7286, and APHM La Conception Hospital, Molecular Biology Laboratory, Marseille, France.\\nname ml Reynier P, affil str Departement de Biochimie et Genetique, CHU d\\\\'Angers, Angers, France.; Equipe Mitolab, Institut MITOVASC, Unite Mixte de Recherche CNRS 6214, INSERM U1083, Universite d\\\\'Angers, Angers, France.\\nname ml Prunier-Mirebeau D, affil str Departement de Biochimie et Genetique, CHU d\\\\'Angers, Angers, France.; Equipe Mitolab, Institut MITOVASC, Unite Mixte de Recherche CNRS 6214, INSERM U1083, Universite d\\\\'Angers, Angers, France.\", 'source': 'journal: \"Endocrine-related cancer\" ', 'grants': None, 'date': 'year 2019, month 1, day 18, hour 6, minute 0', 'date_received': 'year 2019, month 1, day 14', 'date_accepted': 'year 2019, month 1, day 17', 'date_medline': 'year 2020, month 3, day 11, hour 6, minute 0', 'doi': '10.1530/ERC-18-0314', 'unix': 1547766000, 'unix_received': 1547420400, 'unix_accepted': 1547679600, 'unix_medline': 1583881200, 'team_size': 14, 'share_aff_captured': 1, 'is_eu': 1, 'inter_collab': 1, 'is_coronavirus_lower': 0, 'nb_country': 2, 'country_list': 'France;United States'}\n",
      "{'_id': ObjectId('60c73642c4b7559e040756ba'), 'pmid': 30654811, 'title': 'Correction to: Combination of ELISA screening and seroneutralisation tests to expedite Zika virus seroprevalence studies.', 'ISSN': '1743-422X', 'abstract': ' \"In the original publication of this article [1], Table 1 has some errors.\"', 'meshwords': None, 'meshsubwords': None, 'authors': 'name ml Nurtop E, affil str Unite des Virus Emergents (UVE: Aix-Marseille Univ - IRD 190 - Inserm 1207- IHU Mediterranee Infection), Marseille, France. enurtop@gmail.com.\\nname ml Villarroel PMS, affil str Unite des Virus Emergents (UVE: Aix-Marseille Univ - IRD 190 - Inserm 1207- IHU Mediterranee Infection), Marseille, France.; Virologia II, Centro Nacional de Enfermedades Tropicales (CENETROP), Santa Cruz de la Sierra, Bolivia.\\nname ml Pastorino B, affil str Unite des Virus Emergents (UVE: Aix-Marseille Univ - IRD 190 - Inserm 1207- IHU Mediterranee Infection), Marseille, France.\\nname ml Ninove L, affil str Unite des Virus Emergents (UVE: Aix-Marseille Univ - IRD 190 - Inserm 1207- IHU Mediterranee Infection), Marseille, France.\\nname ml Drexler JF, affil str Institute of Virology, Charite-Universitatsmedizin Berlin, Berlin, Germany.\\nname ml Roca Y, affil str Virologia II, Centro Nacional de Enfermedades Tropicales (CENETROP), Santa Cruz de la Sierra, Bolivia.\\nname ml Gake B, affil str Unite des Virus Emergents (UVE: Aix-Marseille Univ - IRD 190 - Inserm 1207- IHU Mediterranee Infection), Marseille, France.; Centre Pasteur du Cameroun, Yaounde, Cameroon.\\nname ml Dubot-Peres A, affil str Unite des Virus Emergents (UVE: Aix-Marseille Univ - IRD 190 - Inserm 1207- IHU Mediterranee Infection), Marseille, France.\\nname ml Grard G, affil str Unite des Virus Emergents (UVE: Aix-Marseille Univ - IRD 190 - Inserm 1207- IHU Mediterranee Infection), Marseille, France.; National Reference Centre for Arboviruses, French Armed Forces Biomedical Research Institute, Marseille, France.\\nname ml Peyrefitte C, affil str Unite des Virus Emergents (UVE: Aix-Marseille Univ - IRD 190 - Inserm 1207- IHU Mediterranee Infection), Marseille, France.; National Reference Centre for Arboviruses, French Armed Forces Biomedical Research Institute, Marseille, France.\\nname ml Priet S, affil str Unite des Virus Emergents (UVE: Aix-Marseille Univ - IRD 190 - Inserm 1207- IHU Mediterranee Infection), Marseille, France.\\nname ml de Lamballerie X, affil str Unite des Virus Emergents (UVE: Aix-Marseille Univ - IRD 190 - Inserm 1207- IHU Mediterranee Infection), Marseille, France.\\nname ml Gallian P, affil str Unite des Virus Emergents (UVE: Aix-Marseille Univ - IRD 190 - Inserm 1207- IHU Mediterranee Infection), Marseille, France.; Laboratoire de Virologie, Etablissement Francais du Sang Alpes Mediterranee (EFS), Marseille, France.', 'source': 'journal: \"Virology journal\" ', 'grants': None, 'date': 'year 2019, month 1, day 19, hour 6, minute 0', 'date_received': 'year 2019, month 1, day 4', 'date_accepted': 'year 2019, month 1, day 8', 'date_medline': 'year 2019, month 1, day 19, hour 6, minute 1', 'doi': '10.1186/s12985-019-1118-8', 'unix': 1547852400, 'unix_received': 1546556400, 'unix_accepted': 1546902000, 'unix_medline': 1547852400, 'team_size': 13, 'share_aff_captured': 1, 'is_eu': 1, 'inter_collab': 1, 'is_coronavirus_lower': 0, 'nb_country': 3, 'country_list': 'France;Germany;Bolivia'}\n",
      "{'_id': ObjectId('60c73658c4b7559e04075d34'), 'pmid': 30656495, 'title': 'In response to Obstructive sleep apnea syndrome should always be screened in patients complaining of nocturia. World J Urol. 2018.', 'ISSN': '1433-8726', 'abstract': None, 'meshwords': 'Humans \\nNocturia \\nSleep Apnea\\nSurveys and Questionnaires ', 'meshsubwords': '', 'authors': 'name ml Drangsholt S, affil str Department of Urology, New York University School of Medicine, 222 E 41s St, 11th Floor, New York, NY, 10017, USA. Siri.Drangsholt@nyumc.org.\\nname ml Peyronnet B, affil str Department of Urology, University of Rennes, Rennes, France.\\nname ml Brucker B, affil str Division of Female Pelvic Medicine and Reconstructive Surgery, New York University Langone Medical Center, New York, NY, USA.', 'source': 'journal: \"World journal of urology\" ', 'grants': None, 'date': 'year 2019, month 1, day 19, hour 6, minute 0', 'date_received': 'year 2019, month 1, day 2', 'date_accepted': 'year 2019, month 1, day 3', 'date_medline': 'year 2020, month 2, day 20, hour 6, minute 0', 'doi': '10.1007/s00345-019-02629-6', 'unix': 1547852400, 'unix_received': 1546383600, 'unix_accepted': 1546470000, 'unix_medline': 1582153200, 'team_size': 3, 'share_aff_captured': 1, 'is_eu': 1, 'inter_collab': 1, 'is_coronavirus_lower': 0, 'nb_country': 2, 'country_list': 'United States;France'}\n",
      "{'_id': ObjectId('60c7366ec4b7559e04076326'), 'pmid': 30658074, 'title': 'Severe Thoracic Aorta Stenosis After Endovascular Treatment of Blunt Thoracic Aortic Injury.', 'ISSN': '1532-9488', 'abstract': ' \"Ten months after thoracic endovascular treatment of blunt thoracic aortic injury, a 15-year-old woman was admitted for chest pain, headache, and lower limbs weakness. Emergent computed tomography showed almost occlusive stenosis at the distal junction between the thoracic stent graft and the native thoracic due to clot formation inside the graft. She subsequently presented a pulmonary edema with concurrent anuria. Emergent angioplasty and stenting using nitinol bare stent was successfully performed. Blood pressure gradient between radial and femoral arteries decreased from 100 mm Hg to 25 mm Hg. Peripheral hypoperfusion signs progressively resolved and kidney function normalized. The patient was discharged 12 days later. Subcutaneous curative anticoagulation during 1 month associated with single antiplatelet therapy was administered. After a 2-month follow-up, the patient was asymptomatic and control CT scan showed a patent stent graft and a patent distal bare stent.\", ', 'meshwords': 'Accidents\\nAdolescent \\nAngioplasty\\nAnticoagulants\\nAorta\\nBlood Vessel Prosthesis \\nBlood Vessel Prosthesis Implantation\\nEndovascular Procedures\\nFemale \\nGraft Occlusion\\nHumans \\nSeverity of Illness Index \\nStents \\nThoracic Injuries\\nThrombosis\\nTime Factors \\nTreatment Outcome \\nVascular System Injuries\\nWounds', 'meshsubwords': 'instrumentation \\ntherapeutic use \\ndiagnostic imaging \\ninjuries \\nphysiopathology \\nsurgery \\nadverse effects \\ninstrumentation \\nadverse effects \\ninstrumentation \\ndiagnostic imaging \\netiology \\nphysiopathology \\ntherapy \\ndiagnostic imaging \\netiology \\nphysiopathology \\nsurgery \\ndiagnostic imaging \\netiology \\nphysiopathology \\ntherapy \\ndiagnostic imaging \\netiology \\nphysiopathology \\nsurgery \\ndiagnostic imaging \\netiology \\nphysiopathology \\nsurgery ', 'authors': 'name ml Hostalrich A, affil str Department of Vascular Surgery, Toulouse, France.\\nname ml Canaud L, affil str Department of Thoracic and Cardiovascular Surgery, Montpellier, France.\\nname ml Ozdemir BA, affil str Department of Thoracic and Cardiovascular Surgery, Montpellier, France.\\nname ml Chaufour X, affil str Department of Vascular Surgery, Toulouse, France. Electronic address: chaufour.sec@chu-toulouse.fr.', 'source': 'journal: \"Seminars in thoracic and cardiovascular surgery\" ', 'grants': None, 'date': 'year 2019, month 1, day 19, hour 6, minute 0', 'date_received': 'year 2019, month 1, day 11', 'date_accepted': 'year 2019, month 1, day 11', 'date_medline': 'year 2019, month 12, day 18, hour 6, minute 0', 'doi': '10.1053/j.semtcvs.2019.01.014', 'unix': 1547852400, 'unix_received': 1547161200, 'unix_accepted': 1547161200, 'unix_medline': 1576623600, 'team_size': 4, 'share_aff_captured': 1, 'is_eu': 1, 'inter_collab': 0, 'is_coronavirus_lower': 0, 'nb_country': 1, 'country_list': 'France'}\n",
      "{'_id': ObjectId('60c73674c4b7559e040764de'), 'pmid': 30658520, 'title': 'Yeast to Study Human Purine Metabolism Diseases.', 'ISSN': '2073-4409', 'abstract': ' \"Purine nucleotides are involved in a multitude of cellular processes, and the dysfunction of purine metabolism has drastic physiological and pathological consequences. Accordingly, several genetic disorders associated with defective purine metabolism have been reported. The etiology of these diseases is poorly understood and simple model organisms, such as yeast, have proved valuable to provide a more comprehensive view of the metabolic consequences caused by the identified mutations. In this review, we present results obtained with the yeast Saccharomyces cerevisiae to exemplify how a eukaryotic unicellular organism can offer highly relevant information for identifying the molecular basis of complex human diseases. Overall, purine metabolism illustrates a remarkable conservation of genes, functions and phenotypes between humans and yeast.\", ', 'meshwords': 'Humans \\nMetabolic Diseases\\nModels\\nPurines\\nSaccharomyces cerevisiae\\nSequence Homology', 'meshsubwords': 'metabolism \\nbiosynthesis \\nmetabolism \\nmetabolism ', 'authors': 'name ml Daignan-Fornier B, affil str Universite de Bordeaux IBGC UMR 5095 1, rue Camille Saint-Saens, F-33077 Bordeaux, France. b.daignan-fornier@ibgc.cnrs.fr.; Centre National de la Recherche Scientifique IBGC UMR 5095 1, rue Camille Saint-Saens, F-33077 Bordeaux, France. b.daignan-fornier@ibgc.cnrs.fr.\\nname ml Pinson B, affil str Universite de Bordeaux IBGC UMR 5095 1, rue Camille Saint-Saens, F-33077 Bordeaux, France. benoit.pinson@ibgc.cnrs.fr.; Centre National de la Recherche Scientifique IBGC UMR 5095 1, rue Camille Saint-Saens, F-33077 Bordeaux, France. benoit.pinson@ibgc.cnrs.fr.', 'source': 'journal: \"Cells\" ', 'grants': None, 'date': 'year 2019, month 1, day 20, hour 6, minute 0', 'date_received': 'year 2019, month 1, day 8', 'date_accepted': 'year 2019, month 1, day 15', 'date_medline': 'year 2019, month 1, day 20, hour 6, minute 1', 'doi': '10.3390/cells8010067', 'unix': 1547938800, 'unix_received': 1546902000, 'unix_accepted': 1547506800, 'unix_medline': 1547938800, 'team_size': 2, 'share_aff_captured': 1, 'is_eu': 1, 'inter_collab': 0, 'is_coronavirus_lower': 0, 'nb_country': 1, 'country_list': 'France'}\n"
     ]
    }
   ],
   "source": [
    "# 9) Find articles where there's atleast one affiliation from a choosen country (you decide which one).\n",
    "\n",
    "# Pays choisi\n",
    "chosen_country = \"France\"  # Par exemple, la France\n",
    "\n",
    "# Recherche des 10 premiers articles avec au moins une affiliation de la France dans les auteurs\n",
    "articles_with_chosen_country_affiliation = collection.find({\"authors\": {\"$regex\": chosen_country}}).limit(10)\n",
    "\n",
    "# Afficher les résultats\n",
    "for article in articles_with_chosen_country_affiliation:\n",
    "    print(article)\n"
   ]
  },
  {
   "cell_type": "code",
   "execution_count": 68,
   "id": "a236e179-2b80-400d-b790-10ce2d0f81c1",
   "metadata": {
    "tags": []
   },
   "outputs": [
    {
     "name": "stdout",
     "output_type": "stream",
     "text": [
      "Duplicates based on DOI:\n",
      "{'_id': '10.1093/jas/skz192', 'count': 2}\n",
      "{'_id': ', affil str ', 'count': 40}\n",
      "{'_id': ' }, { name ml ', 'count': 55}\n",
      "{'_id': '10.1093/jnci/djz062', 'count': 2}\n",
      "{'_id': ' } } }, from journal { title { iso-jta ', 'count': 10}\n",
      "{'_id': '10.1093/cid/ciz518', 'count': 2}\n",
      "{'_id': '', 'count': 5}\n",
      "{'_id': ' }, authors { names std { { name ml ', 'count': 73}\n",
      "{'_id': '10.23876/j.krcp.19.006', 'count': 2}\n",
      "\n",
      "Duplicates based on PMID:\n"
     ]
    }
   ],
   "source": [
    "# 10) Check for any duplicates. (hint: look at the doi or the pmid)\n",
    "\n",
    "# Aggregate to find duplicates based on DOI\n",
    "doi_duplicates = list(collection.aggregate([\n",
    "    {\"$group\": {\"_id\": \"$doi\", \"count\": {\"$sum\": 1}}},\n",
    "    {\"$match\": {\"count\": {\"$gt\": 1}}}\n",
    "]))\n",
    "\n",
    "# Aggregate to find duplicates based on PMID\n",
    "pmid_duplicates = list(collection.aggregate([\n",
    "    {\"$group\": {\"_id\": \"$pmid\", \"count\": {\"$sum\": 1}}},\n",
    "    {\"$match\": {\"count\": {\"$gt\": 1}}}\n",
    "]))\n",
    "\n",
    "# Print the duplicates based on DOI\n",
    "print(\"Duplicates based on DOI:\")\n",
    "for duplicate in doi_duplicates:\n",
    "    print(duplicate)\n",
    "\n",
    "# Print the duplicates based on PMID\n",
    "print(\"\\nDuplicates based on PMID:\")\n",
    "for duplicate in pmid_duplicates:\n",
    "    print(duplicate)"
   ]
  },
  {
   "cell_type": "code",
   "execution_count": 65,
   "id": "b00eeaf7-614b-4a22-9baa-d346b3318db7",
   "metadata": {
    "tags": []
   },
   "outputs": [
    {
     "name": "stdout",
     "output_type": "stream",
     "text": [
      "0 articles have been removed.\n"
     ]
    }
   ],
   "source": [
    "# 11) Remove every articles where the abstract starts with an \"R\".\n",
    "\n",
    "# Find documents where the abstract starts with an \"R\"\n",
    "cursor = collection.find({\"abstract\": {\"$regex\": r\"^\\s*T\"}})\n",
    "\n",
    "# Iterate over the cursor and delete each document\n",
    "deleted_count = 0\n",
    "for document in cursor:\n",
    "    result = collection.delete_one({\"_id\": document[\"_id\"]})\n",
    "    deleted_count += 1\n",
    "\n",
    "# Print the number of deleted articles\n",
    "print(f\"{deleted_count} articles have been removed.\")\n"
   ]
  },
  {
   "cell_type": "code",
   "execution_count": 6,
   "id": "5d9d51f8-8d0b-4990-bfde-3674db1ff385",
   "metadata": {
    "tags": []
   },
   "outputs": [
    {
     "name": "stdout",
     "output_type": "stream",
     "text": [
      "List of papers with at least one affiliation per author:\n",
      "[30608900, 30614081, 30614166, 30614610, 30614629, 30615595, 30615597, 30615818, 30615980, 30618194]\n"
     ]
    }
   ],
   "source": [
    "# 12) Return the list of papers (pmid) where there's atleast one affiliation per author\n",
    "\n",
    "# Initialiser une liste pour stocker les identifiants PubMed (pmid) des documents\n",
    "papers_with_affiliations = []\n",
    "\n",
    "# Parcourir les 10 premiers documents dans la collection\n",
    "for document in collection.find().limit(10):\n",
    "    authors = document.get(\"authors\", [])\n",
    "    affiliations_exist = True\n",
    "    \n",
    "    # Vérifier s'il y a au moins une affiliation pour chaque auteur\n",
    "    for author in authors:\n",
    "        if \"name\" in author and \"affil\" not in author:\n",
    "            affiliations_exist = False\n",
    "            break\n",
    "    \n",
    "    # Si au moins une affiliation existe pour chaque auteur, ajouter le pmid à la liste\n",
    "    if affiliations_exist:\n",
    "        papers_with_affiliations.append(document[\"pmid\"])\n",
    "\n",
    "# Imprimer la liste des identifiants PubMed des documents qui satisfont à la condition\n",
    "print(\"List of papers with at least one affiliation per author:\")\n",
    "print(papers_with_affiliations)"
   ]
  },
  {
   "cell_type": "code",
   "execution_count": null,
   "id": "92a91770-1b1b-4aee-a1b1-2f0b283e1e42",
   "metadata": {},
   "outputs": [],
   "source": [
    "# 12) Return the list of papers (pmid) where there's atleast one affiliation per author\n",
    "\n",
    "# Initialiser une liste pour stocker les identifiants PubMed (pmid) des documents\n",
    "#papers_with_affiliations = []\n",
    "\n",
    "# Parcourir chaque document dans la collection\n",
    "#for document in collection.find():\n",
    "#    authors = document.get(\"authors\", [])\n",
    "#    affiliations_exist = True\n",
    "    \n",
    "    # Vérifier s'il y a au moins une affiliation pour chaque auteur\n",
    "#    for author in authors:\n",
    "#        if \"name\" in author and \"affil\" not in author:\n",
    "#            affiliations_exist = False\n",
    "#            break\n",
    "    \n",
    "    # Si au moins une affiliation existe pour chaque auteur, ajouter le pmid à la liste\n",
    "#    if affiliations_exist:\n",
    "#        papers_with_affiliations.append(document[\"pmid\"])\n",
    "\n",
    "# Imprimer la liste des identifiants PubMed des documents qui satisfont à la condition\n",
    "#print(\"List of papers with at least one affiliation per author:\")\n",
    "#print(papers_with_affiliations)"
   ]
  },
  {
   "cell_type": "code",
   "execution_count": 76,
   "id": "f026024a-9453-4f78-b531-3b3b156b3f45",
   "metadata": {
    "tags": []
   },
   "outputs": [
    {
     "name": "stdout",
     "output_type": "stream",
     "text": [
      "Summary Statistics:\n",
      "Mean: 6.2285\n",
      "Median: 6.04\n",
      "Standard Deviation: 1.6363055796519181\n"
     ]
    }
   ],
   "source": [
    "# 13) Create 500 random samples of the dataset, compute a statistics that you are interested in and check how it behaves through the different samples\n",
    "\n",
    "import pymongo\n",
    "import random\n",
    "import numpy as np\n",
    "\n",
    "# Define the statistic of interest function\n",
    "def compute_statistic(data):\n",
    "    # Example: Compute the mean of a specific field (e.g., 'team_size')\n",
    "    return np.mean([doc.get('team_size', 0) for doc in data])\n",
    "\n",
    "# Number of random samples\n",
    "num_samples = 500\n",
    "\n",
    "# List to store computed statistics for each sample\n",
    "sample_statistics = []\n",
    "\n",
    "# Randomly sample the dataset 500 times and compute the statistic for each sample\n",
    "for _ in range(num_samples):\n",
    "    # Randomly sample from the collection\n",
    "    sample_size = 100  # Adjust sample size as needed\n",
    "    random_sample = random.sample(list(collection.find()), sample_size)\n",
    "    \n",
    "    # Compute the desired statistic for the random sample\n",
    "    statistic = compute_statistic(random_sample)\n",
    "    \n",
    "    # Append the computed statistic to the list\n",
    "    sample_statistics.append(statistic)\n",
    "\n",
    "# Analyze the distribution or behavior of the computed statistic across the samples\n",
    "# For example, you can calculate mean, median, standard deviation, or plot a histogram\n",
    "mean_statistic = np.mean(sample_statistics)\n",
    "median_statistic = np.median(sample_statistics)\n",
    "std_dev_statistic = np.std(sample_statistics)\n",
    "\n",
    "# Print the summary statistics\n",
    "print(\"Summary Statistics:\")\n",
    "print(\"Mean:\", mean_statistic)\n",
    "print(\"Median:\", median_statistic)\n",
    "print(\"Standard Deviation:\", std_dev_statistic)"
   ]
  },
  {
   "cell_type": "markdown",
   "id": "1475bec4-5c85-4145-8c16-e585ee64265c",
   "metadata": {},
   "source": [
    "## 14) Sandbox exercise: think of a problematic and try to answer it.\n",
    "\n",
    "Problème : Quelle est la corrélation entre la taille de l'équipe d'auteurs et le nombre de pays impliqués dans la recherche ?"
   ]
  },
  {
   "cell_type": "code",
   "execution_count": 4,
   "id": "1679ccbd-83ec-422a-a33a-c2120ca371d0",
   "metadata": {
    "tags": []
   },
   "outputs": [
    {
     "name": "stdout",
     "output_type": "stream",
     "text": [
      "       pmid  team_size  nb_country\n",
      "0  30608900          4           1\n",
      "1  30614081          2           0\n",
      "2  30614166          3           0\n",
      "3  30614610          2           1\n",
      "4  30614629          2           2\n"
     ]
    },
    {
     "data": {
      "image/png": "[encoded data removed]",
      "text/plain": [
       "<Figure size 640x480 with 1 Axes>"
      ]
     },
     "metadata": {},
     "output_type": "display_data"
    }
   ],
   "source": [
    "import pymongo\n",
    "import pandas as pd\n",
    "import matplotlib.pyplot as plt\n",
    "\n",
    "# Connexion à la base de données MongoDB\n",
    "client = pymongo.MongoClient('localhost', 27017)\n",
    "mydb = client[\"pubmed_cleaned\"]\n",
    "collection = mydb[\"pubmed_collection\"]\n",
    "\n",
    "# Extraire les données pertinentes\n",
    "data = collection.find({}, {\"_id\": 0, \"pmid\": 1, \"team_size\": 1, \"nb_country\": 1})\n",
    "df = pd.DataFrame(data)\n",
    "\n",
    "# Afficher un aperçu des données\n",
    "print(df.head())\n",
    "\n",
    "# Analyser la corrélation entre la taille de l'équipe d'auteurs et le nombre de pays impliqués\n",
    "plt.scatter(df['team_size'], df['nb_country'])\n",
    "plt.xlabel('Taille de l\\'équipe d\\'auteurs')\n",
    "plt.ylabel('Nombre de pays impliqués')\n",
    "plt.title('Corrélation entre la taille de l\\'équipe d\\'auteurs et le nombre de pays impliqués')\n",
    "plt.show()"
   ]
  }
 ],
 "metadata": {
  "kernelspec": {
   "display_name": "Python 3 (ipykernel)",
   "language": "python",
   "name": "python3"
  },
  "language_info": {
   "codemirror_mode": {
    "name": "ipython",
    "version": 3
   },
   "file_extension": ".py",
   "mimetype": "text/x-python",
   "name": "python",
   "nbconvert_exporter": "python",
   "pygments_lexer": "ipython3",
   "version": "3.11.5"
  }
 },
 "nbformat": 4,
 "nbformat_minor": 5
}
